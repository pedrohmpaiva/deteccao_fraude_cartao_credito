{
  "cells": [
    {
      "cell_type": "markdown",
      "metadata": {
        "id": "view-in-github",
        "colab_type": "text"
      },
      "source": [
        "<a href=\"https://colab.research.google.com/github/pedrohmpaiva/deteccao_fraude_cartao_credito/blob/main/Detec%C3%A7%C3%A3o_de_Fraude_em_Cart%C3%B5es_de_Cr%C3%A9dito.ipynb\" target=\"_parent\"><img src=\"https://colab.research.google.com/assets/colab-badge.svg\" alt=\"Open In Colab\"/></a>"
      ]
    },
    {
      "cell_type": "markdown",
      "metadata": {
        "id": "sC2BFMOKN1M7"
      },
      "source": [
        "<img alt=\"Colaboratory logo\" width=\"15%\" src=\"https://github.com/pedrohmpaiva/portfolio/blob/main/banner.png?raw=true\">\n",
        "\n",
        "*por: [Pedro Henrique M. Paiva](https://www.linkedin.com/in/pedro-henrique-paiva/)*  \n",
        "\n",
        "---"
      ]
    },
    {
      "cell_type": "markdown",
      "metadata": {
        "id": "IR56trFcPcC1"
      },
      "source": [
        "# Detecção de Fraude em Cartões de Crédito\n",
        "\n",
        "Neste projeto, suregido pelo curso [DSNP - Sigmoidal](https://sigmoidal.ai/), iremos abordar o problema das fraudes em cartões de crédito, uma das principais preocupações das instituições financeiras como bancos e *fintechs*. Segundo [esta matéria](https://valorinveste.globo.com/produtos/servicos-financeiros/noticia/2020/02/12/brasil-e-2o-pais-da-america-latina-com-mais-fraudes-no-cartao-em-compras-online.ghtml), em 2020 o Brasil foi o 2º país da américa latina com mais fraudes em compras online e no primeiro semestre de 2021 [teve alta de quase 33% nas tentativas de fraude com cartão de crédito](https://www.infomoney.com.br/minhas-financas/brasil-teve-alta-de-quase-33-nas-tentativas-de-fraude-com-cartao-de-credito-no-1-semestre-mostra-estudo/).\n",
        "\n",
        "<p align=center>\n",
        "<img src=\"https://img.freepik.com/fotos-gratis/homem-hacker-no-laptop_144627-25527.jpg?w=1380&t=st=1650512651~exp=1650513251~hmac=71e86ae27a9ebabffa336182bf8bce35a568a1f0261b81339b5bc789ed16efce\" width=\"90%\"></p>\n",
        "\n",
        "Dentre essas fraudes, aquelas envolvendo cartões de crédito são de grande relevância uma vez que a sua não-detecção acaretará em prejuízos consideráveis, tanto para o consumidor quanto para a instituição financeira.\n",
        "\n",
        "Por todos esses motivos, o investimento na área de detecção de fraudes por meio de Inteligência Artificial vem crescendo a cada ano, representando uma grande oportunidade em *Data Science*. \n",
        "\n",
        "Dispondo de grandes volumes de dados como base histórica, um algoritmo de machine learning apenas um pouco melhor que os anteriores já representa uma economia de milhões de Reais. E esse é o desafio, aprimorar cada vez mais o uso de algoritmos visando inibir ou evitar transações fraudulentas."
      ]
    },
    {
      "cell_type": "markdown",
      "metadata": {
        "id": "0HVmpIxQWT4Y"
      },
      "source": [
        "## Importando os Dados\n",
        "\n",
        "Os dados que usaremos neste projeto foram disponibilizados por algumas empresas européias de cartão de crédito. O *dataset* representa as operações financeiras que aconteceram no período de dois dias, onde foram classificadas 492 fraudes em meio a quase 290 mil transações.\n",
        "<p align=center>\n",
        "    <img src=\"https://img.freepik.com/fotos-gratis/cartao-de-plastico-do-banco-pendurado-no-gancho-de-pesca-closeup-conceito-de-fraude-na-internet_151013-35671.jpg?w=1800\" width=\"50%\" align = right></p>\n",
        "\n",
        "\n",
        "Como você pode notar, este é um conjunto de dados extremamente desbalanceado, onde as fraudes representam apenas 0,17% do total.\n",
        "\n",
        "Outro detalhe é que as *features* são todas numéricas, e foram descaracterizadas (por preservação da privacidade e da segurança). Assim, os nomes das colunas são representados por $[V1, V2, V3 \\dots, V28]$ \n",
        "\n",
        "\n",
        "\n",
        "[Na página original dos dados](https://www.kaggle.com/mlg-ulb/creditcardfraud), também é informado que as variáveis passaram por uma transformação conhecida como Análise de Componentes Principais (*Principal Component Analysis* - PCA).\n",
        "\n",
        "A PCA permite a redução da dimensionalidade enquanto mantém o maior número possível de informações. Para conseguir isso, o algoritmo encontra um conjunto novo de recursos - os chamados **componentes**.\n",
        "\n",
        "Esses componentes são em número menor or igual às variáveis originais. No caso deste projeto, os componentes achados pela transformação da PCA são as próprias colunas $[V1, V2, V3 \\dots, V28]$.\n",
        "\n",
        "---"
      ]
    },
    {
      "cell_type": "code",
      "execution_count": null,
      "metadata": {
        "id": "4XKAspsKqI-l"
      },
      "outputs": [],
      "source": [
        "import warnings\n",
        "warnings.filterwarnings(\"ignore\")"
      ]
    },
    {
      "cell_type": "code",
      "execution_count": null,
      "metadata": {
        "id": "oQ4bNy7udtEE"
      },
      "outputs": [],
      "source": [
        "# importando os pacotes necessários\n",
        "import pandas as pd\n",
        "import numpy as np\n",
        "\n",
        "import matplotlib.pyplot as plt\n",
        "import seaborn as sns\n",
        "import plotly.express as px\n",
        "\n",
        "from sklearn.model_selection import train_test_split\n",
        "from sklearn.preprocessing   import StandardScaler\n",
        "from sklearn.linear_model    import LogisticRegression\n",
        "from sklearn.metrics         import accuracy_score\n",
        "from sklearn.metrics         import classification_report\n",
        "from sklearn.metrics         import confusion_matrix\n",
        "from sklearn.metrics         import mean_squared_error, mean_absolute_error\n",
        "from sklearn.tree            import DecisionTreeClassifier, plot_tree\n",
        "from sklearn.ensemble        import RandomForestClassifier, GradientBoostingClassifier, RandomForestRegressor\n",
        "from sklearn.linear_model    import SGDClassifier\n",
        "from sklearn.metrics         import precision_score, recall_score, accuracy_score, f1_score\n",
        "\n",
        "\n",
        "from imblearn.under_sampling import NearMiss\n",
        "from imblearn.under_sampling import RandomUnderSampler\n",
        "from imblearn.over_sampling  import SMOTE"
      ]
    },
    {
      "cell_type": "code",
      "execution_count": null,
      "metadata": {
        "id": "4NxUOfDOj2j8",
        "outputId": "a096539f-e4c7-4a71-9a69-13d446f28f11"
      },
      "outputs": [
        {
          "data": {
            "text/html": [
              "<div>\n",
              "<style scoped>\n",
              "    .dataframe tbody tr th:only-of-type {\n",
              "        vertical-align: middle;\n",
              "    }\n",
              "\n",
              "    .dataframe tbody tr th {\n",
              "        vertical-align: top;\n",
              "    }\n",
              "\n",
              "    .dataframe thead th {\n",
              "        text-align: right;\n",
              "    }\n",
              "</style>\n",
              "<table border=\"1\" class=\"dataframe\">\n",
              "  <thead>\n",
              "    <tr style=\"text-align: right;\">\n",
              "      <th></th>\n",
              "      <th>Time</th>\n",
              "      <th>V1</th>\n",
              "      <th>V2</th>\n",
              "      <th>V3</th>\n",
              "      <th>V4</th>\n",
              "      <th>V5</th>\n",
              "      <th>V6</th>\n",
              "      <th>V7</th>\n",
              "      <th>V8</th>\n",
              "      <th>V9</th>\n",
              "      <th>...</th>\n",
              "      <th>V21</th>\n",
              "      <th>V22</th>\n",
              "      <th>V23</th>\n",
              "      <th>V24</th>\n",
              "      <th>V25</th>\n",
              "      <th>V26</th>\n",
              "      <th>V27</th>\n",
              "      <th>V28</th>\n",
              "      <th>Amount</th>\n",
              "      <th>Class</th>\n",
              "    </tr>\n",
              "  </thead>\n",
              "  <tbody>\n",
              "    <tr>\n",
              "      <th>0</th>\n",
              "      <td>0.0</td>\n",
              "      <td>-1.359807</td>\n",
              "      <td>-0.072781</td>\n",
              "      <td>2.536347</td>\n",
              "      <td>1.378155</td>\n",
              "      <td>-0.338321</td>\n",
              "      <td>0.462388</td>\n",
              "      <td>0.239599</td>\n",
              "      <td>0.098698</td>\n",
              "      <td>0.363787</td>\n",
              "      <td>...</td>\n",
              "      <td>-0.018307</td>\n",
              "      <td>0.277838</td>\n",
              "      <td>-0.110474</td>\n",
              "      <td>0.066928</td>\n",
              "      <td>0.128539</td>\n",
              "      <td>-0.189115</td>\n",
              "      <td>0.133558</td>\n",
              "      <td>-0.021053</td>\n",
              "      <td>149.62</td>\n",
              "      <td>0</td>\n",
              "    </tr>\n",
              "    <tr>\n",
              "      <th>1</th>\n",
              "      <td>0.0</td>\n",
              "      <td>1.191857</td>\n",
              "      <td>0.266151</td>\n",
              "      <td>0.166480</td>\n",
              "      <td>0.448154</td>\n",
              "      <td>0.060018</td>\n",
              "      <td>-0.082361</td>\n",
              "      <td>-0.078803</td>\n",
              "      <td>0.085102</td>\n",
              "      <td>-0.255425</td>\n",
              "      <td>...</td>\n",
              "      <td>-0.225775</td>\n",
              "      <td>-0.638672</td>\n",
              "      <td>0.101288</td>\n",
              "      <td>-0.339846</td>\n",
              "      <td>0.167170</td>\n",
              "      <td>0.125895</td>\n",
              "      <td>-0.008983</td>\n",
              "      <td>0.014724</td>\n",
              "      <td>2.69</td>\n",
              "      <td>0</td>\n",
              "    </tr>\n",
              "    <tr>\n",
              "      <th>2</th>\n",
              "      <td>1.0</td>\n",
              "      <td>-1.358354</td>\n",
              "      <td>-1.340163</td>\n",
              "      <td>1.773209</td>\n",
              "      <td>0.379780</td>\n",
              "      <td>-0.503198</td>\n",
              "      <td>1.800499</td>\n",
              "      <td>0.791461</td>\n",
              "      <td>0.247676</td>\n",
              "      <td>-1.514654</td>\n",
              "      <td>...</td>\n",
              "      <td>0.247998</td>\n",
              "      <td>0.771679</td>\n",
              "      <td>0.909412</td>\n",
              "      <td>-0.689281</td>\n",
              "      <td>-0.327642</td>\n",
              "      <td>-0.139097</td>\n",
              "      <td>-0.055353</td>\n",
              "      <td>-0.059752</td>\n",
              "      <td>378.66</td>\n",
              "      <td>0</td>\n",
              "    </tr>\n",
              "    <tr>\n",
              "      <th>3</th>\n",
              "      <td>1.0</td>\n",
              "      <td>-0.966272</td>\n",
              "      <td>-0.185226</td>\n",
              "      <td>1.792993</td>\n",
              "      <td>-0.863291</td>\n",
              "      <td>-0.010309</td>\n",
              "      <td>1.247203</td>\n",
              "      <td>0.237609</td>\n",
              "      <td>0.377436</td>\n",
              "      <td>-1.387024</td>\n",
              "      <td>...</td>\n",
              "      <td>-0.108300</td>\n",
              "      <td>0.005274</td>\n",
              "      <td>-0.190321</td>\n",
              "      <td>-1.175575</td>\n",
              "      <td>0.647376</td>\n",
              "      <td>-0.221929</td>\n",
              "      <td>0.062723</td>\n",
              "      <td>0.061458</td>\n",
              "      <td>123.50</td>\n",
              "      <td>0</td>\n",
              "    </tr>\n",
              "    <tr>\n",
              "      <th>4</th>\n",
              "      <td>2.0</td>\n",
              "      <td>-1.158233</td>\n",
              "      <td>0.877737</td>\n",
              "      <td>1.548718</td>\n",
              "      <td>0.403034</td>\n",
              "      <td>-0.407193</td>\n",
              "      <td>0.095921</td>\n",
              "      <td>0.592941</td>\n",
              "      <td>-0.270533</td>\n",
              "      <td>0.817739</td>\n",
              "      <td>...</td>\n",
              "      <td>-0.009431</td>\n",
              "      <td>0.798278</td>\n",
              "      <td>-0.137458</td>\n",
              "      <td>0.141267</td>\n",
              "      <td>-0.206010</td>\n",
              "      <td>0.502292</td>\n",
              "      <td>0.219422</td>\n",
              "      <td>0.215153</td>\n",
              "      <td>69.99</td>\n",
              "      <td>0</td>\n",
              "    </tr>\n",
              "    <tr>\n",
              "      <th>5</th>\n",
              "      <td>2.0</td>\n",
              "      <td>-0.425966</td>\n",
              "      <td>0.960523</td>\n",
              "      <td>1.141109</td>\n",
              "      <td>-0.168252</td>\n",
              "      <td>0.420987</td>\n",
              "      <td>-0.029728</td>\n",
              "      <td>0.476201</td>\n",
              "      <td>0.260314</td>\n",
              "      <td>-0.568671</td>\n",
              "      <td>...</td>\n",
              "      <td>-0.208254</td>\n",
              "      <td>-0.559825</td>\n",
              "      <td>-0.026398</td>\n",
              "      <td>-0.371427</td>\n",
              "      <td>-0.232794</td>\n",
              "      <td>0.105915</td>\n",
              "      <td>0.253844</td>\n",
              "      <td>0.081080</td>\n",
              "      <td>3.67</td>\n",
              "      <td>0</td>\n",
              "    </tr>\n",
              "    <tr>\n",
              "      <th>6</th>\n",
              "      <td>4.0</td>\n",
              "      <td>1.229658</td>\n",
              "      <td>0.141004</td>\n",
              "      <td>0.045371</td>\n",
              "      <td>1.202613</td>\n",
              "      <td>0.191881</td>\n",
              "      <td>0.272708</td>\n",
              "      <td>-0.005159</td>\n",
              "      <td>0.081213</td>\n",
              "      <td>0.464960</td>\n",
              "      <td>...</td>\n",
              "      <td>-0.167716</td>\n",
              "      <td>-0.270710</td>\n",
              "      <td>-0.154104</td>\n",
              "      <td>-0.780055</td>\n",
              "      <td>0.750137</td>\n",
              "      <td>-0.257237</td>\n",
              "      <td>0.034507</td>\n",
              "      <td>0.005168</td>\n",
              "      <td>4.99</td>\n",
              "      <td>0</td>\n",
              "    </tr>\n",
              "    <tr>\n",
              "      <th>7</th>\n",
              "      <td>7.0</td>\n",
              "      <td>-0.644269</td>\n",
              "      <td>1.417964</td>\n",
              "      <td>1.074380</td>\n",
              "      <td>-0.492199</td>\n",
              "      <td>0.948934</td>\n",
              "      <td>0.428118</td>\n",
              "      <td>1.120631</td>\n",
              "      <td>-3.807864</td>\n",
              "      <td>0.615375</td>\n",
              "      <td>...</td>\n",
              "      <td>1.943465</td>\n",
              "      <td>-1.015455</td>\n",
              "      <td>0.057504</td>\n",
              "      <td>-0.649709</td>\n",
              "      <td>-0.415267</td>\n",
              "      <td>-0.051634</td>\n",
              "      <td>-1.206921</td>\n",
              "      <td>-1.085339</td>\n",
              "      <td>40.80</td>\n",
              "      <td>0</td>\n",
              "    </tr>\n",
              "    <tr>\n",
              "      <th>8</th>\n",
              "      <td>7.0</td>\n",
              "      <td>-0.894286</td>\n",
              "      <td>0.286157</td>\n",
              "      <td>-0.113192</td>\n",
              "      <td>-0.271526</td>\n",
              "      <td>2.669599</td>\n",
              "      <td>3.721818</td>\n",
              "      <td>0.370145</td>\n",
              "      <td>0.851084</td>\n",
              "      <td>-0.392048</td>\n",
              "      <td>...</td>\n",
              "      <td>-0.073425</td>\n",
              "      <td>-0.268092</td>\n",
              "      <td>-0.204233</td>\n",
              "      <td>1.011592</td>\n",
              "      <td>0.373205</td>\n",
              "      <td>-0.384157</td>\n",
              "      <td>0.011747</td>\n",
              "      <td>0.142404</td>\n",
              "      <td>93.20</td>\n",
              "      <td>0</td>\n",
              "    </tr>\n",
              "    <tr>\n",
              "      <th>9</th>\n",
              "      <td>9.0</td>\n",
              "      <td>-0.338262</td>\n",
              "      <td>1.119593</td>\n",
              "      <td>1.044367</td>\n",
              "      <td>-0.222187</td>\n",
              "      <td>0.499361</td>\n",
              "      <td>-0.246761</td>\n",
              "      <td>0.651583</td>\n",
              "      <td>0.069539</td>\n",
              "      <td>-0.736727</td>\n",
              "      <td>...</td>\n",
              "      <td>-0.246914</td>\n",
              "      <td>-0.633753</td>\n",
              "      <td>-0.120794</td>\n",
              "      <td>-0.385050</td>\n",
              "      <td>-0.069733</td>\n",
              "      <td>0.094199</td>\n",
              "      <td>0.246219</td>\n",
              "      <td>0.083076</td>\n",
              "      <td>3.68</td>\n",
              "      <td>0</td>\n",
              "    </tr>\n",
              "  </tbody>\n",
              "</table>\n",
              "<p>10 rows × 31 columns</p>\n",
              "</div>"
            ],
            "text/plain": [
              "   Time        V1        V2        V3        V4        V5        V6        V7  \\\n",
              "0   0.0 -1.359807 -0.072781  2.536347  1.378155 -0.338321  0.462388  0.239599   \n",
              "1   0.0  1.191857  0.266151  0.166480  0.448154  0.060018 -0.082361 -0.078803   \n",
              "2   1.0 -1.358354 -1.340163  1.773209  0.379780 -0.503198  1.800499  0.791461   \n",
              "3   1.0 -0.966272 -0.185226  1.792993 -0.863291 -0.010309  1.247203  0.237609   \n",
              "4   2.0 -1.158233  0.877737  1.548718  0.403034 -0.407193  0.095921  0.592941   \n",
              "5   2.0 -0.425966  0.960523  1.141109 -0.168252  0.420987 -0.029728  0.476201   \n",
              "6   4.0  1.229658  0.141004  0.045371  1.202613  0.191881  0.272708 -0.005159   \n",
              "7   7.0 -0.644269  1.417964  1.074380 -0.492199  0.948934  0.428118  1.120631   \n",
              "8   7.0 -0.894286  0.286157 -0.113192 -0.271526  2.669599  3.721818  0.370145   \n",
              "9   9.0 -0.338262  1.119593  1.044367 -0.222187  0.499361 -0.246761  0.651583   \n",
              "\n",
              "         V8        V9  ...       V21       V22       V23       V24       V25  \\\n",
              "0  0.098698  0.363787  ... -0.018307  0.277838 -0.110474  0.066928  0.128539   \n",
              "1  0.085102 -0.255425  ... -0.225775 -0.638672  0.101288 -0.339846  0.167170   \n",
              "2  0.247676 -1.514654  ...  0.247998  0.771679  0.909412 -0.689281 -0.327642   \n",
              "3  0.377436 -1.387024  ... -0.108300  0.005274 -0.190321 -1.175575  0.647376   \n",
              "4 -0.270533  0.817739  ... -0.009431  0.798278 -0.137458  0.141267 -0.206010   \n",
              "5  0.260314 -0.568671  ... -0.208254 -0.559825 -0.026398 -0.371427 -0.232794   \n",
              "6  0.081213  0.464960  ... -0.167716 -0.270710 -0.154104 -0.780055  0.750137   \n",
              "7 -3.807864  0.615375  ...  1.943465 -1.015455  0.057504 -0.649709 -0.415267   \n",
              "8  0.851084 -0.392048  ... -0.073425 -0.268092 -0.204233  1.011592  0.373205   \n",
              "9  0.069539 -0.736727  ... -0.246914 -0.633753 -0.120794 -0.385050 -0.069733   \n",
              "\n",
              "        V26       V27       V28  Amount  Class  \n",
              "0 -0.189115  0.133558 -0.021053  149.62      0  \n",
              "1  0.125895 -0.008983  0.014724    2.69      0  \n",
              "2 -0.139097 -0.055353 -0.059752  378.66      0  \n",
              "3 -0.221929  0.062723  0.061458  123.50      0  \n",
              "4  0.502292  0.219422  0.215153   69.99      0  \n",
              "5  0.105915  0.253844  0.081080    3.67      0  \n",
              "6 -0.257237  0.034507  0.005168    4.99      0  \n",
              "7 -0.051634 -1.206921 -1.085339   40.80      0  \n",
              "8 -0.384157  0.011747  0.142404   93.20      0  \n",
              "9  0.094199  0.246219  0.083076    3.68      0  \n",
              "\n",
              "[10 rows x 31 columns]"
            ]
          },
          "execution_count": 224,
          "metadata": {},
          "output_type": "execute_result"
        }
      ],
      "source": [
        "# importando os dados para um DataFrame\n",
        "\n",
        "file_path = \"https://www.dropbox.com/s/b44o3t3ehmnx2b7/creditcard.csv?dl=1\"\n",
        "\n",
        "df = pd.read_csv(file_path)\n",
        "df.head(10)"
      ]
    },
    {
      "cell_type": "markdown",
      "metadata": {
        "id": "7nF_Dhd81Cvq"
      },
      "source": [
        "---\n",
        "Com os dados importados para dentro de uma estrutura *Dataframe* - e não havendo a necessidade de mais nenhum ajuste ou configuração nesta etapa, pode-se iniciar uma análise exploratória dos dados."
      ]
    },
    {
      "cell_type": "markdown",
      "metadata": {
        "id": "8UtXyZ6stlSM"
      },
      "source": [
        "# Análise Exploratória\n",
        "\n",
        "O objetivo desta etapa é ver o que inicialmente os dados tem a nos oferecer em insights, verificar a distribuição das classes, verificar se há valores ausentes, etc."
      ]
    },
    {
      "cell_type": "code",
      "execution_count": null,
      "metadata": {
        "id": "Ayj2daXqqI-n",
        "outputId": "80b19527-fc07-4877-d8d2-f4480e6b6911"
      },
      "outputs": [
        {
          "name": "stdout",
          "output_type": "stream",
          "text": [
            "*** Dimensionalidade do dataset (284807, 31) ***\n"
          ]
        },
        {
          "data": {
            "text/html": [
              "<div>\n",
              "<style scoped>\n",
              "    .dataframe tbody tr th:only-of-type {\n",
              "        vertical-align: middle;\n",
              "    }\n",
              "\n",
              "    .dataframe tbody tr th {\n",
              "        vertical-align: top;\n",
              "    }\n",
              "\n",
              "    .dataframe thead th {\n",
              "        text-align: right;\n",
              "    }\n",
              "</style>\n",
              "<table border=\"1\" class=\"dataframe\">\n",
              "  <thead>\n",
              "    <tr style=\"text-align: right;\">\n",
              "      <th></th>\n",
              "      <th>Time</th>\n",
              "      <th>V1</th>\n",
              "      <th>V2</th>\n",
              "      <th>V3</th>\n",
              "      <th>V4</th>\n",
              "      <th>V5</th>\n",
              "      <th>V6</th>\n",
              "      <th>V7</th>\n",
              "      <th>V8</th>\n",
              "      <th>V9</th>\n",
              "      <th>...</th>\n",
              "      <th>V21</th>\n",
              "      <th>V22</th>\n",
              "      <th>V23</th>\n",
              "      <th>V24</th>\n",
              "      <th>V25</th>\n",
              "      <th>V26</th>\n",
              "      <th>V27</th>\n",
              "      <th>V28</th>\n",
              "      <th>Amount</th>\n",
              "      <th>Class</th>\n",
              "    </tr>\n",
              "  </thead>\n",
              "  <tbody>\n",
              "    <tr>\n",
              "      <th>0</th>\n",
              "      <td>0.0</td>\n",
              "      <td>-1.359807</td>\n",
              "      <td>-0.072781</td>\n",
              "      <td>2.536347</td>\n",
              "      <td>1.378155</td>\n",
              "      <td>-0.338321</td>\n",
              "      <td>0.462388</td>\n",
              "      <td>0.239599</td>\n",
              "      <td>0.098698</td>\n",
              "      <td>0.363787</td>\n",
              "      <td>...</td>\n",
              "      <td>-0.018307</td>\n",
              "      <td>0.277838</td>\n",
              "      <td>-0.110474</td>\n",
              "      <td>0.066928</td>\n",
              "      <td>0.128539</td>\n",
              "      <td>-0.189115</td>\n",
              "      <td>0.133558</td>\n",
              "      <td>-0.021053</td>\n",
              "      <td>149.62</td>\n",
              "      <td>0</td>\n",
              "    </tr>\n",
              "    <tr>\n",
              "      <th>1</th>\n",
              "      <td>0.0</td>\n",
              "      <td>1.191857</td>\n",
              "      <td>0.266151</td>\n",
              "      <td>0.166480</td>\n",
              "      <td>0.448154</td>\n",
              "      <td>0.060018</td>\n",
              "      <td>-0.082361</td>\n",
              "      <td>-0.078803</td>\n",
              "      <td>0.085102</td>\n",
              "      <td>-0.255425</td>\n",
              "      <td>...</td>\n",
              "      <td>-0.225775</td>\n",
              "      <td>-0.638672</td>\n",
              "      <td>0.101288</td>\n",
              "      <td>-0.339846</td>\n",
              "      <td>0.167170</td>\n",
              "      <td>0.125895</td>\n",
              "      <td>-0.008983</td>\n",
              "      <td>0.014724</td>\n",
              "      <td>2.69</td>\n",
              "      <td>0</td>\n",
              "    </tr>\n",
              "    <tr>\n",
              "      <th>2</th>\n",
              "      <td>1.0</td>\n",
              "      <td>-1.358354</td>\n",
              "      <td>-1.340163</td>\n",
              "      <td>1.773209</td>\n",
              "      <td>0.379780</td>\n",
              "      <td>-0.503198</td>\n",
              "      <td>1.800499</td>\n",
              "      <td>0.791461</td>\n",
              "      <td>0.247676</td>\n",
              "      <td>-1.514654</td>\n",
              "      <td>...</td>\n",
              "      <td>0.247998</td>\n",
              "      <td>0.771679</td>\n",
              "      <td>0.909412</td>\n",
              "      <td>-0.689281</td>\n",
              "      <td>-0.327642</td>\n",
              "      <td>-0.139097</td>\n",
              "      <td>-0.055353</td>\n",
              "      <td>-0.059752</td>\n",
              "      <td>378.66</td>\n",
              "      <td>0</td>\n",
              "    </tr>\n",
              "    <tr>\n",
              "      <th>3</th>\n",
              "      <td>1.0</td>\n",
              "      <td>-0.966272</td>\n",
              "      <td>-0.185226</td>\n",
              "      <td>1.792993</td>\n",
              "      <td>-0.863291</td>\n",
              "      <td>-0.010309</td>\n",
              "      <td>1.247203</td>\n",
              "      <td>0.237609</td>\n",
              "      <td>0.377436</td>\n",
              "      <td>-1.387024</td>\n",
              "      <td>...</td>\n",
              "      <td>-0.108300</td>\n",
              "      <td>0.005274</td>\n",
              "      <td>-0.190321</td>\n",
              "      <td>-1.175575</td>\n",
              "      <td>0.647376</td>\n",
              "      <td>-0.221929</td>\n",
              "      <td>0.062723</td>\n",
              "      <td>0.061458</td>\n",
              "      <td>123.50</td>\n",
              "      <td>0</td>\n",
              "    </tr>\n",
              "    <tr>\n",
              "      <th>4</th>\n",
              "      <td>2.0</td>\n",
              "      <td>-1.158233</td>\n",
              "      <td>0.877737</td>\n",
              "      <td>1.548718</td>\n",
              "      <td>0.403034</td>\n",
              "      <td>-0.407193</td>\n",
              "      <td>0.095921</td>\n",
              "      <td>0.592941</td>\n",
              "      <td>-0.270533</td>\n",
              "      <td>0.817739</td>\n",
              "      <td>...</td>\n",
              "      <td>-0.009431</td>\n",
              "      <td>0.798278</td>\n",
              "      <td>-0.137458</td>\n",
              "      <td>0.141267</td>\n",
              "      <td>-0.206010</td>\n",
              "      <td>0.502292</td>\n",
              "      <td>0.219422</td>\n",
              "      <td>0.215153</td>\n",
              "      <td>69.99</td>\n",
              "      <td>0</td>\n",
              "    </tr>\n",
              "  </tbody>\n",
              "</table>\n",
              "<p>5 rows × 31 columns</p>\n",
              "</div>"
            ],
            "text/plain": [
              "   Time        V1        V2        V3        V4        V5        V6        V7  \\\n",
              "0   0.0 -1.359807 -0.072781  2.536347  1.378155 -0.338321  0.462388  0.239599   \n",
              "1   0.0  1.191857  0.266151  0.166480  0.448154  0.060018 -0.082361 -0.078803   \n",
              "2   1.0 -1.358354 -1.340163  1.773209  0.379780 -0.503198  1.800499  0.791461   \n",
              "3   1.0 -0.966272 -0.185226  1.792993 -0.863291 -0.010309  1.247203  0.237609   \n",
              "4   2.0 -1.158233  0.877737  1.548718  0.403034 -0.407193  0.095921  0.592941   \n",
              "\n",
              "         V8        V9  ...       V21       V22       V23       V24       V25  \\\n",
              "0  0.098698  0.363787  ... -0.018307  0.277838 -0.110474  0.066928  0.128539   \n",
              "1  0.085102 -0.255425  ... -0.225775 -0.638672  0.101288 -0.339846  0.167170   \n",
              "2  0.247676 -1.514654  ...  0.247998  0.771679  0.909412 -0.689281 -0.327642   \n",
              "3  0.377436 -1.387024  ... -0.108300  0.005274 -0.190321 -1.175575  0.647376   \n",
              "4 -0.270533  0.817739  ... -0.009431  0.798278 -0.137458  0.141267 -0.206010   \n",
              "\n",
              "        V26       V27       V28  Amount  Class  \n",
              "0 -0.189115  0.133558 -0.021053  149.62      0  \n",
              "1  0.125895 -0.008983  0.014724    2.69      0  \n",
              "2 -0.139097 -0.055353 -0.059752  378.66      0  \n",
              "3 -0.221929  0.062723  0.061458  123.50      0  \n",
              "4  0.502292  0.219422  0.215153   69.99      0  \n",
              "\n",
              "[5 rows x 31 columns]"
            ]
          },
          "execution_count": 225,
          "metadata": {},
          "output_type": "execute_result"
        }
      ],
      "source": [
        "#Verificando as 5 primeiras entradas e a dimensão do dataset\n",
        "\n",
        "print('*** Dimensionalidade do dataset {} ***'.format(df.shape))\n",
        "df.head()"
      ]
    },
    {
      "cell_type": "code",
      "execution_count": null,
      "metadata": {
        "id": "gWYuRk2yqI-o",
        "outputId": "56ec506c-4f29-44a0-c24f-e0e4d9f74840"
      },
      "outputs": [
        {
          "name": "stdout",
          "output_type": "stream",
          "text": [
            "<class 'pandas.core.frame.DataFrame'>\n",
            "RangeIndex: 284807 entries, 0 to 284806\n",
            "Data columns (total 31 columns):\n",
            " #   Column  Non-Null Count   Dtype  \n",
            "---  ------  --------------   -----  \n",
            " 0   Time    284807 non-null  float64\n",
            " 1   V1      284807 non-null  float64\n",
            " 2   V2      284807 non-null  float64\n",
            " 3   V3      284807 non-null  float64\n",
            " 4   V4      284807 non-null  float64\n",
            " 5   V5      284807 non-null  float64\n",
            " 6   V6      284807 non-null  float64\n",
            " 7   V7      284807 non-null  float64\n",
            " 8   V8      284807 non-null  float64\n",
            " 9   V9      284807 non-null  float64\n",
            " 10  V10     284807 non-null  float64\n",
            " 11  V11     284807 non-null  float64\n",
            " 12  V12     284807 non-null  float64\n",
            " 13  V13     284807 non-null  float64\n",
            " 14  V14     284807 non-null  float64\n",
            " 15  V15     284807 non-null  float64\n",
            " 16  V16     284807 non-null  float64\n",
            " 17  V17     284807 non-null  float64\n",
            " 18  V18     284807 non-null  float64\n",
            " 19  V19     284807 non-null  float64\n",
            " 20  V20     284807 non-null  float64\n",
            " 21  V21     284807 non-null  float64\n",
            " 22  V22     284807 non-null  float64\n",
            " 23  V23     284807 non-null  float64\n",
            " 24  V24     284807 non-null  float64\n",
            " 25  V25     284807 non-null  float64\n",
            " 26  V26     284807 non-null  float64\n",
            " 27  V27     284807 non-null  float64\n",
            " 28  V28     284807 non-null  float64\n",
            " 29  Amount  284807 non-null  float64\n",
            " 30  Class   284807 non-null  int64  \n",
            "dtypes: float64(30), int64(1)\n",
            "memory usage: 67.4 MB\n"
          ]
        }
      ],
      "source": [
        "#Verificando algumas informações sobre o dataset e suas features\n",
        "\n",
        "df.info()"
      ]
    },
    {
      "cell_type": "code",
      "execution_count": null,
      "metadata": {
        "id": "7Ria2AoEqI-o",
        "outputId": "b8978ba3-c3a1-48ba-c676-f892f96e4ced"
      },
      "outputs": [
        {
          "data": {
            "text/plain": [
              "Time      0\n",
              "V1        0\n",
              "V2        0\n",
              "V3        0\n",
              "V4        0\n",
              "V5        0\n",
              "V6        0\n",
              "V7        0\n",
              "V8        0\n",
              "V9        0\n",
              "V10       0\n",
              "V11       0\n",
              "V12       0\n",
              "V13       0\n",
              "V14       0\n",
              "V15       0\n",
              "V16       0\n",
              "V17       0\n",
              "V18       0\n",
              "V19       0\n",
              "V20       0\n",
              "V21       0\n",
              "V22       0\n",
              "V23       0\n",
              "V24       0\n",
              "V25       0\n",
              "V26       0\n",
              "V27       0\n",
              "V28       0\n",
              "Amount    0\n",
              "Class     0\n",
              "dtype: int64"
            ]
          },
          "execution_count": 227,
          "metadata": {},
          "output_type": "execute_result"
        }
      ],
      "source": [
        "#Verificando se há valores ausentes\n",
        "\n",
        "df.isnull().sum()"
      ]
    },
    {
      "cell_type": "code",
      "execution_count": null,
      "metadata": {
        "id": "Ckfqih_xqI-o",
        "outputId": "04bf3fbd-c60c-44b2-f074-7f51ea8b9c10"
      },
      "outputs": [
        {
          "data": {
            "text/html": [
              "<div>\n",
              "<style scoped>\n",
              "    .dataframe tbody tr th:only-of-type {\n",
              "        vertical-align: middle;\n",
              "    }\n",
              "\n",
              "    .dataframe tbody tr th {\n",
              "        vertical-align: top;\n",
              "    }\n",
              "\n",
              "    .dataframe thead th {\n",
              "        text-align: right;\n",
              "    }\n",
              "</style>\n",
              "<table border=\"1\" class=\"dataframe\">\n",
              "  <thead>\n",
              "    <tr style=\"text-align: right;\">\n",
              "      <th></th>\n",
              "      <th>Time</th>\n",
              "      <th>V1</th>\n",
              "      <th>V2</th>\n",
              "      <th>V3</th>\n",
              "      <th>V4</th>\n",
              "      <th>V5</th>\n",
              "      <th>V6</th>\n",
              "      <th>V7</th>\n",
              "      <th>V8</th>\n",
              "      <th>V9</th>\n",
              "      <th>...</th>\n",
              "      <th>V21</th>\n",
              "      <th>V22</th>\n",
              "      <th>V23</th>\n",
              "      <th>V24</th>\n",
              "      <th>V25</th>\n",
              "      <th>V26</th>\n",
              "      <th>V27</th>\n",
              "      <th>V28</th>\n",
              "      <th>Amount</th>\n",
              "      <th>Class</th>\n",
              "    </tr>\n",
              "  </thead>\n",
              "  <tbody>\n",
              "    <tr>\n",
              "      <th>count</th>\n",
              "      <td>284807.000000</td>\n",
              "      <td>2.848070e+05</td>\n",
              "      <td>2.848070e+05</td>\n",
              "      <td>2.848070e+05</td>\n",
              "      <td>2.848070e+05</td>\n",
              "      <td>2.848070e+05</td>\n",
              "      <td>2.848070e+05</td>\n",
              "      <td>2.848070e+05</td>\n",
              "      <td>2.848070e+05</td>\n",
              "      <td>2.848070e+05</td>\n",
              "      <td>...</td>\n",
              "      <td>2.848070e+05</td>\n",
              "      <td>2.848070e+05</td>\n",
              "      <td>2.848070e+05</td>\n",
              "      <td>2.848070e+05</td>\n",
              "      <td>2.848070e+05</td>\n",
              "      <td>2.848070e+05</td>\n",
              "      <td>2.848070e+05</td>\n",
              "      <td>2.848070e+05</td>\n",
              "      <td>284807.000000</td>\n",
              "      <td>284807.000000</td>\n",
              "    </tr>\n",
              "    <tr>\n",
              "      <th>mean</th>\n",
              "      <td>94813.859575</td>\n",
              "      <td>3.918649e-15</td>\n",
              "      <td>5.682686e-16</td>\n",
              "      <td>-8.761736e-15</td>\n",
              "      <td>2.811118e-15</td>\n",
              "      <td>-1.552103e-15</td>\n",
              "      <td>2.040130e-15</td>\n",
              "      <td>-1.698953e-15</td>\n",
              "      <td>-1.893285e-16</td>\n",
              "      <td>-3.147640e-15</td>\n",
              "      <td>...</td>\n",
              "      <td>1.473120e-16</td>\n",
              "      <td>8.042109e-16</td>\n",
              "      <td>5.282512e-16</td>\n",
              "      <td>4.456271e-15</td>\n",
              "      <td>1.426896e-15</td>\n",
              "      <td>1.701640e-15</td>\n",
              "      <td>-3.662252e-16</td>\n",
              "      <td>-1.217809e-16</td>\n",
              "      <td>88.349619</td>\n",
              "      <td>0.001727</td>\n",
              "    </tr>\n",
              "    <tr>\n",
              "      <th>std</th>\n",
              "      <td>47488.145955</td>\n",
              "      <td>1.958696e+00</td>\n",
              "      <td>1.651309e+00</td>\n",
              "      <td>1.516255e+00</td>\n",
              "      <td>1.415869e+00</td>\n",
              "      <td>1.380247e+00</td>\n",
              "      <td>1.332271e+00</td>\n",
              "      <td>1.237094e+00</td>\n",
              "      <td>1.194353e+00</td>\n",
              "      <td>1.098632e+00</td>\n",
              "      <td>...</td>\n",
              "      <td>7.345240e-01</td>\n",
              "      <td>7.257016e-01</td>\n",
              "      <td>6.244603e-01</td>\n",
              "      <td>6.056471e-01</td>\n",
              "      <td>5.212781e-01</td>\n",
              "      <td>4.822270e-01</td>\n",
              "      <td>4.036325e-01</td>\n",
              "      <td>3.300833e-01</td>\n",
              "      <td>250.120109</td>\n",
              "      <td>0.041527</td>\n",
              "    </tr>\n",
              "    <tr>\n",
              "      <th>min</th>\n",
              "      <td>0.000000</td>\n",
              "      <td>-5.640751e+01</td>\n",
              "      <td>-7.271573e+01</td>\n",
              "      <td>-4.832559e+01</td>\n",
              "      <td>-5.683171e+00</td>\n",
              "      <td>-1.137433e+02</td>\n",
              "      <td>-2.616051e+01</td>\n",
              "      <td>-4.355724e+01</td>\n",
              "      <td>-7.321672e+01</td>\n",
              "      <td>-1.343407e+01</td>\n",
              "      <td>...</td>\n",
              "      <td>-3.483038e+01</td>\n",
              "      <td>-1.093314e+01</td>\n",
              "      <td>-4.480774e+01</td>\n",
              "      <td>-2.836627e+00</td>\n",
              "      <td>-1.029540e+01</td>\n",
              "      <td>-2.604551e+00</td>\n",
              "      <td>-2.256568e+01</td>\n",
              "      <td>-1.543008e+01</td>\n",
              "      <td>0.000000</td>\n",
              "      <td>0.000000</td>\n",
              "    </tr>\n",
              "    <tr>\n",
              "      <th>25%</th>\n",
              "      <td>54201.500000</td>\n",
              "      <td>-9.203734e-01</td>\n",
              "      <td>-5.985499e-01</td>\n",
              "      <td>-8.903648e-01</td>\n",
              "      <td>-8.486401e-01</td>\n",
              "      <td>-6.915971e-01</td>\n",
              "      <td>-7.682956e-01</td>\n",
              "      <td>-5.540759e-01</td>\n",
              "      <td>-2.086297e-01</td>\n",
              "      <td>-6.430976e-01</td>\n",
              "      <td>...</td>\n",
              "      <td>-2.283949e-01</td>\n",
              "      <td>-5.423504e-01</td>\n",
              "      <td>-1.618463e-01</td>\n",
              "      <td>-3.545861e-01</td>\n",
              "      <td>-3.171451e-01</td>\n",
              "      <td>-3.269839e-01</td>\n",
              "      <td>-7.083953e-02</td>\n",
              "      <td>-5.295979e-02</td>\n",
              "      <td>5.600000</td>\n",
              "      <td>0.000000</td>\n",
              "    </tr>\n",
              "    <tr>\n",
              "      <th>50%</th>\n",
              "      <td>84692.000000</td>\n",
              "      <td>1.810880e-02</td>\n",
              "      <td>6.548556e-02</td>\n",
              "      <td>1.798463e-01</td>\n",
              "      <td>-1.984653e-02</td>\n",
              "      <td>-5.433583e-02</td>\n",
              "      <td>-2.741871e-01</td>\n",
              "      <td>4.010308e-02</td>\n",
              "      <td>2.235804e-02</td>\n",
              "      <td>-5.142873e-02</td>\n",
              "      <td>...</td>\n",
              "      <td>-2.945017e-02</td>\n",
              "      <td>6.781943e-03</td>\n",
              "      <td>-1.119293e-02</td>\n",
              "      <td>4.097606e-02</td>\n",
              "      <td>1.659350e-02</td>\n",
              "      <td>-5.213911e-02</td>\n",
              "      <td>1.342146e-03</td>\n",
              "      <td>1.124383e-02</td>\n",
              "      <td>22.000000</td>\n",
              "      <td>0.000000</td>\n",
              "    </tr>\n",
              "    <tr>\n",
              "      <th>75%</th>\n",
              "      <td>139320.500000</td>\n",
              "      <td>1.315642e+00</td>\n",
              "      <td>8.037239e-01</td>\n",
              "      <td>1.027196e+00</td>\n",
              "      <td>7.433413e-01</td>\n",
              "      <td>6.119264e-01</td>\n",
              "      <td>3.985649e-01</td>\n",
              "      <td>5.704361e-01</td>\n",
              "      <td>3.273459e-01</td>\n",
              "      <td>5.971390e-01</td>\n",
              "      <td>...</td>\n",
              "      <td>1.863772e-01</td>\n",
              "      <td>5.285536e-01</td>\n",
              "      <td>1.476421e-01</td>\n",
              "      <td>4.395266e-01</td>\n",
              "      <td>3.507156e-01</td>\n",
              "      <td>2.409522e-01</td>\n",
              "      <td>9.104512e-02</td>\n",
              "      <td>7.827995e-02</td>\n",
              "      <td>77.165000</td>\n",
              "      <td>0.000000</td>\n",
              "    </tr>\n",
              "    <tr>\n",
              "      <th>max</th>\n",
              "      <td>172792.000000</td>\n",
              "      <td>2.454930e+00</td>\n",
              "      <td>2.205773e+01</td>\n",
              "      <td>9.382558e+00</td>\n",
              "      <td>1.687534e+01</td>\n",
              "      <td>3.480167e+01</td>\n",
              "      <td>7.330163e+01</td>\n",
              "      <td>1.205895e+02</td>\n",
              "      <td>2.000721e+01</td>\n",
              "      <td>1.559499e+01</td>\n",
              "      <td>...</td>\n",
              "      <td>2.720284e+01</td>\n",
              "      <td>1.050309e+01</td>\n",
              "      <td>2.252841e+01</td>\n",
              "      <td>4.584549e+00</td>\n",
              "      <td>7.519589e+00</td>\n",
              "      <td>3.517346e+00</td>\n",
              "      <td>3.161220e+01</td>\n",
              "      <td>3.384781e+01</td>\n",
              "      <td>25691.160000</td>\n",
              "      <td>1.000000</td>\n",
              "    </tr>\n",
              "  </tbody>\n",
              "</table>\n",
              "<p>8 rows × 31 columns</p>\n",
              "</div>"
            ],
            "text/plain": [
              "                Time            V1            V2            V3            V4  \\\n",
              "count  284807.000000  2.848070e+05  2.848070e+05  2.848070e+05  2.848070e+05   \n",
              "mean    94813.859575  3.918649e-15  5.682686e-16 -8.761736e-15  2.811118e-15   \n",
              "std     47488.145955  1.958696e+00  1.651309e+00  1.516255e+00  1.415869e+00   \n",
              "min         0.000000 -5.640751e+01 -7.271573e+01 -4.832559e+01 -5.683171e+00   \n",
              "25%     54201.500000 -9.203734e-01 -5.985499e-01 -8.903648e-01 -8.486401e-01   \n",
              "50%     84692.000000  1.810880e-02  6.548556e-02  1.798463e-01 -1.984653e-02   \n",
              "75%    139320.500000  1.315642e+00  8.037239e-01  1.027196e+00  7.433413e-01   \n",
              "max    172792.000000  2.454930e+00  2.205773e+01  9.382558e+00  1.687534e+01   \n",
              "\n",
              "                 V5            V6            V7            V8            V9  \\\n",
              "count  2.848070e+05  2.848070e+05  2.848070e+05  2.848070e+05  2.848070e+05   \n",
              "mean  -1.552103e-15  2.040130e-15 -1.698953e-15 -1.893285e-16 -3.147640e-15   \n",
              "std    1.380247e+00  1.332271e+00  1.237094e+00  1.194353e+00  1.098632e+00   \n",
              "min   -1.137433e+02 -2.616051e+01 -4.355724e+01 -7.321672e+01 -1.343407e+01   \n",
              "25%   -6.915971e-01 -7.682956e-01 -5.540759e-01 -2.086297e-01 -6.430976e-01   \n",
              "50%   -5.433583e-02 -2.741871e-01  4.010308e-02  2.235804e-02 -5.142873e-02   \n",
              "75%    6.119264e-01  3.985649e-01  5.704361e-01  3.273459e-01  5.971390e-01   \n",
              "max    3.480167e+01  7.330163e+01  1.205895e+02  2.000721e+01  1.559499e+01   \n",
              "\n",
              "       ...           V21           V22           V23           V24  \\\n",
              "count  ...  2.848070e+05  2.848070e+05  2.848070e+05  2.848070e+05   \n",
              "mean   ...  1.473120e-16  8.042109e-16  5.282512e-16  4.456271e-15   \n",
              "std    ...  7.345240e-01  7.257016e-01  6.244603e-01  6.056471e-01   \n",
              "min    ... -3.483038e+01 -1.093314e+01 -4.480774e+01 -2.836627e+00   \n",
              "25%    ... -2.283949e-01 -5.423504e-01 -1.618463e-01 -3.545861e-01   \n",
              "50%    ... -2.945017e-02  6.781943e-03 -1.119293e-02  4.097606e-02   \n",
              "75%    ...  1.863772e-01  5.285536e-01  1.476421e-01  4.395266e-01   \n",
              "max    ...  2.720284e+01  1.050309e+01  2.252841e+01  4.584549e+00   \n",
              "\n",
              "                V25           V26           V27           V28         Amount  \\\n",
              "count  2.848070e+05  2.848070e+05  2.848070e+05  2.848070e+05  284807.000000   \n",
              "mean   1.426896e-15  1.701640e-15 -3.662252e-16 -1.217809e-16      88.349619   \n",
              "std    5.212781e-01  4.822270e-01  4.036325e-01  3.300833e-01     250.120109   \n",
              "min   -1.029540e+01 -2.604551e+00 -2.256568e+01 -1.543008e+01       0.000000   \n",
              "25%   -3.171451e-01 -3.269839e-01 -7.083953e-02 -5.295979e-02       5.600000   \n",
              "50%    1.659350e-02 -5.213911e-02  1.342146e-03  1.124383e-02      22.000000   \n",
              "75%    3.507156e-01  2.409522e-01  9.104512e-02  7.827995e-02      77.165000   \n",
              "max    7.519589e+00  3.517346e+00  3.161220e+01  3.384781e+01   25691.160000   \n",
              "\n",
              "               Class  \n",
              "count  284807.000000  \n",
              "mean        0.001727  \n",
              "std         0.041527  \n",
              "min         0.000000  \n",
              "25%         0.000000  \n",
              "50%         0.000000  \n",
              "75%         0.000000  \n",
              "max         1.000000  \n",
              "\n",
              "[8 rows x 31 columns]"
            ]
          },
          "execution_count": 228,
          "metadata": {},
          "output_type": "execute_result"
        }
      ],
      "source": [
        "#Resumo estatístico do dataset\n",
        "\n",
        "df.describe()"
      ]
    },
    {
      "cell_type": "code",
      "execution_count": null,
      "metadata": {
        "id": "H6RIyjCYqI-o",
        "outputId": "86b05bcf-4787-454b-e2fe-d757d2cee775"
      },
      "outputs": [
        {
          "name": "stdout",
          "output_type": "stream",
          "text": [
            "Transações normais: 284315\n",
            "Transações fraudulentas: 492\n"
          ]
        }
      ],
      "source": [
        "#Verificando a distribuição de classes\n",
        "\n",
        "semFraude = df['Class'].value_counts()[0]\n",
        "fraude = df['Class'].value_counts()[1]\n",
        "print('Transações normais: {}'.format(semFraude))\n",
        "print('Transações fraudulentas: {}'.format(fraude))"
      ]
    },
    {
      "cell_type": "code",
      "execution_count": null,
      "metadata": {
        "id": "vL5SvE9PqI-p"
      },
      "outputs": [],
      "source": [
        "#Cores\n",
        "\n",
        "preto_titulo = '#363434'\n",
        "preto_elementos = '#5c5757'\n",
        "azul = '#1f4287' # original da paleta: '#62929a' alternativa: #4b89ac\n",
        "cinza = '#efecec'"
      ]
    },
    {
      "cell_type": "code",
      "execution_count": null,
      "metadata": {
        "id": "X9p87rqtqI-p",
        "outputId": "5d3ac010-1a38-41f9-cdf1-2401f22c73e3"
      },
      "outputs": [
        {
          "data": {
            "image/png": "[encoded data removed]",
            "text/plain": [
              "<Figure size 720x432 with 1 Axes>"
            ]
          },
          "metadata": {
            "needs_background": "light"
          },
          "output_type": "display_data"
        }
      ],
      "source": [
        "#Plotando um grafico da distribuição das classes\n",
        "\n",
        "fig, ax = plt.subplots(figsize=(10,6))\n",
        "sns.countplot(df['Class'], color= azul)\n",
        "\n",
        "ax.set_title('Gráfico de distribuição das classes', \n",
        "             fontsize = 20, \n",
        "             color = preto_titulo, \n",
        "             loc = 'left', \n",
        "             pad= 60, \n",
        "             fontweight= 'bold')\n",
        "\n",
        "ax.text(-0.5,320000, \n",
        "        'Ocorrências de transações fraudulentas\\ne não-fraudulentas', \n",
        "        fontsize = 13, color = preto_elementos)\n",
        "\n",
        "ax.set_xticklabels(labels=['Normal', 'Fraude'])\n",
        "ax.set_xlabel('Transações',  fontsize = 12, color= preto_elementos)\n",
        "ax.set_ylabel('Ocorrências', fontsize = 12, color= preto_elementos)\n",
        "\n",
        "ax.spines['top'].set_visible(False)\n",
        "\n",
        "ax.annotate(semFraude, \n",
        "            xy=(-0.11, 290000), \n",
        "            color = preto_elementos, \n",
        "            fontsize= 20,\n",
        "            fontweight='light')\n",
        "ax.annotate(fraude, \n",
        "            xy=(0.93, 9000), \n",
        "            color = preto_elementos, \n",
        "            fontsize= 20,\n",
        "            fontweight='light')\n",
        "\n",
        "ax.spines['right'].set_visible(False)"
      ]
    },
    {
      "cell_type": "markdown",
      "metadata": {
        "id": "7IW1uJ9LqI-p"
      },
      "source": [
        "## Plotando os histogramas da variável \"Time\" (Fraude e não-fraude)"
      ]
    },
    {
      "cell_type": "markdown",
      "metadata": {
        "id": "vOqVoYlCqI-p"
      },
      "source": [
        "A variável \"Time\" representa o tempo (em segundos) decorrido entre a primeira transação do dataset e a atual."
      ]
    },
    {
      "cell_type": "code",
      "execution_count": null,
      "metadata": {
        "id": "H3UU8GH2qI-p",
        "outputId": "2f5bf579-ed92-48ac-f11e-826055c72e04"
      },
      "outputs": [
        {
          "data": {
            "image/png": "[encoded data removed]",
            "text/plain": [
              "<Figure size 864x504 with 2 Axes>"
            ]
          },
          "metadata": {
            "needs_background": "light"
          },
          "output_type": "display_data"
        }
      ],
      "source": [
        "fig, ax = plt.subplots(nrows=2, ncols = 1, figsize=(12,7))\n",
        "\n",
        "\n",
        "ax[0].hist(df.Time[df.Class == 1], bins = 30, color= azul, rwidth= 0.9)\n",
        "ax[0].set_title('Transações Fraudulentas',fontsize = 20, \n",
        "                color = preto_titulo, \n",
        "                loc = 'left', \n",
        "                pad= 60, \n",
        "                fontweight= 'bold')\n",
        "ax[0].set_xlabel('Tempo Decorrido (s)', fontsize = 12, color= preto_elementos)\n",
        "ax[0].set_ylabel('Nº de Ocorrências'  , fontsize = 12, color= preto_elementos)\n",
        "ax[0].spines['top'].set_visible(False)\n",
        "ax[0].spines['right'].set_visible(False)\n",
        "\n",
        "\n",
        "ax[1].hist(df.Time[df.Class == 0], bins = 30, color= azul, rwidth= 0.9)\n",
        "ax[1].set_title('Transações Normais',\n",
        "                fontsize = 20,\n",
        "                color = preto_titulo, \n",
        "                loc = 'left', \n",
        "                pad= 60, \n",
        "                fontweight= 'bold')\n",
        "ax[1].set_xlabel('Tempo Decorrido (s)', fontsize = 12, color= preto_elementos)\n",
        "ax[1].set_ylabel('Nº de Ocorrências'  , fontsize = 12, color= preto_elementos)\n",
        "ax[1].spines['top'].set_visible(False)\n",
        "ax[1].spines['right'].set_visible(False)\n",
        "\n",
        "fig.tight_layout(pad = 2)"
      ]
    },
    {
      "cell_type": "markdown",
      "metadata": {
        "id": "w4FHCfIqqI-q"
      },
      "source": [
        "## Plotando os histogramas da variável \"Amount\" (Fraude e não-fraude)"
      ]
    },
    {
      "cell_type": "code",
      "execution_count": null,
      "metadata": {
        "id": "w_movDVBqI-q",
        "outputId": "b4689237-525f-4c5f-acea-5049c0997709"
      },
      "outputs": [
        {
          "data": {
            "image/png": "[encoded data removed]",
            "text/plain": [
              "<Figure size 864x720 with 2 Axes>"
            ]
          },
          "metadata": {
            "needs_background": "light"
          },
          "output_type": "display_data"
        }
      ],
      "source": [
        "fig, ax = plt.subplots(nrows=2, ncols = 1, figsize=(12,10))\n",
        "\n",
        "\n",
        "ax[0].hist(df.Amount[df.Class == 1], bins = 30, color= azul, rwidth= 0.9)\n",
        "\n",
        "ax[0].text(1900,300, \"Média ${:.2f}\".format(df.Amount[df.Class == 1].mean()),\n",
        "           fontsize = 12, color= preto_elementos)\n",
        "\n",
        "ax[0].set_title('Transações Fraudulentas',\n",
        "                fontsize = 20,\n",
        "                color = preto_titulo, \n",
        "                loc = 'left', \n",
        "                pad= 60, \n",
        "                fontweight= 'bold')\n",
        "ax[0].set_xlabel('Quantidade ($)'   , fontsize = 12, color= preto_elementos)\n",
        "ax[0].set_ylabel('Nº de Ocorrências', fontsize = 12, color= preto_elementos)\n",
        "\n",
        "ax[0].spines['top'].set_visible(False)\n",
        "ax[0].spines['right'].set_visible(False)\n",
        "\n",
        "\n",
        "\n",
        "ax[1].hist(df.Amount[df.Class == 0], bins = 30, color= azul, rwidth= 0.9)\n",
        "\n",
        "ax[1].text(23000,250000, \"Média ${:.2f}\".format(df.Amount[df.Class == 0].mean()),\n",
        "           fontsize = 12, color= preto_elementos)\n",
        "\n",
        "ax[1].set_title('Transações Normais',\n",
        "                fontsize = 20,\n",
        "                color = preto_titulo, \n",
        "                loc = 'left', \n",
        "                pad= 60, \n",
        "                fontweight= 'bold')\n",
        "\n",
        "ax[1].set_xlabel('Quantidade ($)'   , fontsize = 12, color= preto_elementos)\n",
        "ax[1].set_ylabel('Nº de Ocorrências', fontsize = 12, color= preto_elementos)\n",
        "\n",
        "ax[1].spines['top'].set_visible(False)\n",
        "ax[1].spines['right'].set_visible(False)\n",
        "\n",
        "\n",
        "\n",
        "fig.tight_layout(pad = 2)"
      ]
    },
    {
      "cell_type": "markdown",
      "metadata": {
        "id": "6w9OkqMoqI-q"
      },
      "source": [
        "As transações fraudulentas tem menos ocorrências neste conjunto de dados, como vimos anteriormente. Talvez por isto a média das transações fraudulentas se mostre maior do que as transações normais, como foi visto no gráfico acima. \n",
        "\n",
        "\n",
        "Vejo que a maioria das transações normais feitas durante esta coleta de dados estão focadas entre 0 e 5000 dólares, com uma média de 88 dólares."
      ]
    },
    {
      "cell_type": "code",
      "execution_count": null,
      "metadata": {
        "id": "TKIBS4QkqI-r",
        "outputId": "404633a6-0e15-411c-eb5e-d9d92c7f23c3"
      },
      "outputs": [
        {
          "data": {
            "image/png": "[encoded data removed]",
            "text/plain": [
              "<Figure size 432x720 with 1 Axes>"
            ]
          },
          "metadata": {
            "needs_background": "light"
          },
          "output_type": "display_data"
        }
      ],
      "source": [
        "# Boxplot das transações \"fraude\" e \"normais\"\n",
        "\n",
        "fig, ax = plt.subplots(figsize=(6,10))\n",
        "\n",
        "sns.boxplot(df.Class, df.Amount, ax=ax, color= azul)\n",
        "plt.ylim((-20, 1500))\n",
        "plt.xticks([0, 1], ['Normal', 'Fraude'],fontsize = 12, color= preto_elementos)\n",
        "\n",
        "ax.set_title('Boxplot - Transações',\n",
        "                fontsize = 20,\n",
        "                color = preto_titulo, \n",
        "                loc = 'left', \n",
        "                pad= 60, \n",
        "                fontweight= 'bold')\n",
        "ax.set_ylabel('Quantidade ($)',fontsize = 12, color= preto_elementos)\n",
        "ax.set_xlabel('')\n",
        "\n",
        "plt.tight_layout(pad = 2)"
      ]
    },
    {
      "cell_type": "markdown",
      "metadata": {
        "id": "HNqYMrOmqI-r"
      },
      "source": [
        "***Fiz um corte limitando a quantidade até 1500 dólares com o objetivo de uma visualização mais agradável***\n",
        "\n",
        "---"
      ]
    },
    {
      "cell_type": "code",
      "execution_count": null,
      "metadata": {
        "id": "Q5CzUHD-qI-r",
        "outputId": "966eea2f-1378-488a-8ae1-1712116947a2"
      },
      "outputs": [
        {
          "data": {
            "text/html": [
              "<style type=\"text/css\">\n",
              "#T_f64bb_row0_col0, #T_f64bb_row1_col1, #T_f64bb_row2_col2, #T_f64bb_row3_col3, #T_f64bb_row4_col4, #T_f64bb_row5_col5, #T_f64bb_row6_col6, #T_f64bb_row7_col7, #T_f64bb_row8_col8, #T_f64bb_row9_col9, #T_f64bb_row10_col10, #T_f64bb_row11_col11, #T_f64bb_row12_col12, #T_f64bb_row13_col13, #T_f64bb_row14_col14, #T_f64bb_row15_col15, #T_f64bb_row16_col16, #T_f64bb_row17_col17, #T_f64bb_row18_col18, #T_f64bb_row19_col19, #T_f64bb_row20_col20, #T_f64bb_row21_col21, #T_f64bb_row22_col22, #T_f64bb_row23_col23, #T_f64bb_row24_col24, #T_f64bb_row25_col25, #T_f64bb_row26_col26, #T_f64bb_row27_col27, #T_f64bb_row28_col28, #T_f64bb_row29_col29, #T_f64bb_row30_col30 {\n",
              "  background-color: #b40426;\n",
              "  color: #f1f1f1;\n",
              "}\n",
              "#T_f64bb_row0_col1, #T_f64bb_row28_col2 {\n",
              "  background-color: #c9d7f0;\n",
              "  color: #000000;\n",
              "}\n",
              "#T_f64bb_row0_col2, #T_f64bb_row10_col0, #T_f64bb_row13_col29, #T_f64bb_row14_col29, #T_f64bb_row16_col23, #T_f64bb_row20_col25, #T_f64bb_row30_col29 {\n",
              "  background-color: #a9c6fd;\n",
              "  color: #000000;\n",
              "}\n",
              "#T_f64bb_row0_col3, #T_f64bb_row0_col4, #T_f64bb_row0_col11, #T_f64bb_row0_col15, #T_f64bb_row1_col20, #T_f64bb_row1_col28, #T_f64bb_row2_col29, #T_f64bb_row3_col0, #T_f64bb_row3_col1, #T_f64bb_row6_col24, #T_f64bb_row7_col6, #T_f64bb_row7_col8, #T_f64bb_row8_col7, #T_f64bb_row8_col13, #T_f64bb_row9_col10, #T_f64bb_row10_col9, #T_f64bb_row12_col30, #T_f64bb_row14_col30, #T_f64bb_row16_col17, #T_f64bb_row17_col12, #T_f64bb_row17_col14, #T_f64bb_row17_col16, #T_f64bb_row17_col18, #T_f64bb_row23_col19, #T_f64bb_row23_col21, #T_f64bb_row23_col22, #T_f64bb_row23_col25, #T_f64bb_row25_col23, #T_f64bb_row26_col27, #T_f64bb_row27_col26, #T_f64bb_row29_col2, #T_f64bb_row29_col5 {\n",
              "  background-color: #3b4cc0;\n",
              "  color: #f1f1f1;\n",
              "}\n",
              "#T_f64bb_row0_col5, #T_f64bb_row22_col0 {\n",
              "  background-color: #c4d5f3;\n",
              "  color: #000000;\n",
              "}\n",
              "#T_f64bb_row0_col6, #T_f64bb_row0_col26, #T_f64bb_row9_col27, #T_f64bb_row11_col15, #T_f64bb_row13_col26, #T_f64bb_row15_col13, #T_f64bb_row15_col24, #T_f64bb_row19_col28, #T_f64bb_row23_col26, #T_f64bb_row26_col14, #T_f64bb_row29_col12, #T_f64bb_row29_col14 {\n",
              "  background-color: #6687ed;\n",
              "  color: #f1f1f1;\n",
              "}\n",
              "#T_f64bb_row0_col7, #T_f64bb_row4_col1, #T_f64bb_row18_col29, #T_f64bb_row19_col20, #T_f64bb_row24_col23 {\n",
              "  background-color: #b5cdfa;\n",
              "  color: #000000;\n",
              "}\n",
              "#T_f64bb_row0_col8, #T_f64bb_row2_col20, #T_f64bb_row6_col27, #T_f64bb_row15_col10, #T_f64bb_row15_col28, #T_f64bb_row17_col6, #T_f64bb_row17_col22, #T_f64bb_row19_col16, #T_f64bb_row23_col24, #T_f64bb_row24_col22, #T_f64bb_row26_col10 {\n",
              "  background-color: #7da0f9;\n",
              "  color: #f1f1f1;\n",
              "}\n",
              "#T_f64bb_row0_col9, #T_f64bb_row2_col25, #T_f64bb_row5_col8, #T_f64bb_row16_col11, #T_f64bb_row18_col11, #T_f64bb_row18_col22, #T_f64bb_row20_col0 {\n",
              "  background-color: #89acfd;\n",
              "  color: #000000;\n",
              "}\n",
              "#T_f64bb_row0_col10, #T_f64bb_row23_col12, #T_f64bb_row29_col17 {\n",
              "  background-color: #88abfd;\n",
              "  color: #000000;\n",
              "}\n",
              "#T_f64bb_row0_col12, #T_f64bb_row2_col23, #T_f64bb_row3_col11, #T_f64bb_row4_col17, #T_f64bb_row4_col21, #T_f64bb_row6_col1, #T_f64bb_row6_col5, #T_f64bb_row6_col11, #T_f64bb_row14_col3, #T_f64bb_row16_col5, #T_f64bb_row22_col5, #T_f64bb_row24_col17, #T_f64bb_row27_col25, #T_f64bb_row30_col11 {\n",
              "  background-color: #86a9fc;\n",
              "  color: #f1f1f1;\n",
              "}\n",
              "#T_f64bb_row0_col13, #T_f64bb_row9_col28, #T_f64bb_row14_col16, #T_f64bb_row16_col4, #T_f64bb_row16_col19, #T_f64bb_row27_col24, #T_f64bb_row27_col30, #T_f64bb_row30_col14 {\n",
              "  background-color: #5572df;\n",
              "  color: #f1f1f1;\n",
              "}\n",
              "#T_f64bb_row0_col14, #T_f64bb_row2_col10, #T_f64bb_row7_col27, #T_f64bb_row13_col14, #T_f64bb_row14_col27, #T_f64bb_row22_col19, #T_f64bb_row25_col27 {\n",
              "  background-color: #4c66d6;\n",
              "  color: #f1f1f1;\n",
              "}\n",
              "#T_f64bb_row0_col16, #T_f64bb_row5_col11, #T_f64bb_row7_col14, #T_f64bb_row8_col18, #T_f64bb_row9_col22, #T_f64bb_row10_col2, #T_f64bb_row10_col8, #T_f64bb_row11_col22, #T_f64bb_row13_col16, #T_f64bb_row15_col22, #T_f64bb_row16_col7, #T_f64bb_row17_col21, #T_f64bb_row19_col11, #T_f64bb_row25_col17, #T_f64bb_row27_col12, #T_f64bb_row27_col15, #T_f64bb_row30_col22 {\n",
              "  background-color: #799cf8;\n",
              "  color: #f1f1f1;\n",
              "}\n",
              "#T_f64bb_row0_col17, #T_f64bb_row2_col30, #T_f64bb_row5_col10, #T_f64bb_row7_col24, #T_f64bb_row19_col4, #T_f64bb_row21_col26, #T_f64bb_row22_col26, #T_f64bb_row24_col27, #T_f64bb_row29_col16, #T_f64bb_row29_col24, #T_f64bb_row30_col18 {\n",
              "  background-color: #5b7ae5;\n",
              "  color: #f1f1f1;\n",
              "}\n",
              "#T_f64bb_row0_col18, #T_f64bb_row2_col14, #T_f64bb_row5_col1, #T_f64bb_row6_col20, #T_f64bb_row9_col4, #T_f64bb_row25_col6, #T_f64bb_row25_col22, #T_f64bb_row27_col1, #T_f64bb_row28_col5, #T_f64bb_row30_col5 {\n",
              "  background-color: #81a4fb;\n",
              "  color: #f1f1f1;\n",
              "}\n",
              "#T_f64bb_row0_col19, #T_f64bb_row3_col18, #T_f64bb_row7_col16, #T_f64bb_row8_col24, #T_f64bb_row11_col13, #T_f64bb_row12_col14, #T_f64bb_row12_col16, #T_f64bb_row21_col30, #T_f64bb_row24_col18, #T_f64bb_row25_col26, #T_f64bb_row27_col4 {\n",
              "  background-color: #5875e1;\n",
              "  color: #f1f1f1;\n",
              "}\n",
              "#T_f64bb_row0_col20, #T_f64bb_row5_col17, #T_f64bb_row7_col17, #T_f64bb_row7_col19, #T_f64bb_row10_col17, #T_f64bb_row16_col12 {\n",
              "  background-color: #506bda;\n",
              "  color: #f1f1f1;\n",
              "}\n",
              "#T_f64bb_row0_col21, #T_f64bb_row9_col8, #T_f64bb_row19_col7, #T_f64bb_row30_col3 {\n",
              "  background-color: #97b8ff;\n",
              "  color: #000000;\n",
              "}\n",
              "#T_f64bb_row0_col22, #T_f64bb_row9_col3, #T_f64bb_row13_col23, #T_f64bb_row13_col25, #T_f64bb_row17_col3, #T_f64bb_row24_col25, #T_f64bb_row26_col23, #T_f64bb_row27_col0 {\n",
              "  background-color: #9ebeff;\n",
              "  color: #000000;\n",
              "}\n",
              "#T_f64bb_row0_col23, #T_f64bb_row1_col10 {\n",
              "  background-color: #c1d4f4;\n",
              "  color: #000000;\n",
              "}\n",
              "#T_f64bb_row0_col24, #T_f64bb_row1_col19, #T_f64bb_row4_col13, #T_f64bb_row6_col19, #T_f64bb_row13_col4, #T_f64bb_row29_col4 {\n",
              "  background-color: #5a78e4;\n",
              "  color: #f1f1f1;\n",
              "}\n",
              "#T_f64bb_row0_col25, #T_f64bb_row1_col7, #T_f64bb_row8_col4, #T_f64bb_row9_col14, #T_f64bb_row10_col26, #T_f64bb_row11_col24, #T_f64bb_row11_col30, #T_f64bb_row12_col15, #T_f64bb_row17_col19, #T_f64bb_row18_col12, #T_f64bb_row20_col4, #T_f64bb_row21_col27, #T_f64bb_row23_col28, #T_f64bb_row24_col4, #T_f64bb_row26_col18 {\n",
              "  background-color: #5e7de7;\n",
              "  color: #f1f1f1;\n",
              "}\n",
              "#T_f64bb_row0_col27, #T_f64bb_row1_col8, #T_f64bb_row4_col24, #T_f64bb_row4_col27, #T_f64bb_row7_col13, #T_f64bb_row10_col19, #T_f64bb_row10_col24, #T_f64bb_row11_col4, #T_f64bb_row14_col18, #T_f64bb_row15_col12, #T_f64bb_row17_col10, #T_f64bb_row17_col13, #T_f64bb_row29_col15, #T_f64bb_row30_col24 {\n",
              "  background-color: #5d7ce6;\n",
              "  color: #f1f1f1;\n",
              "}\n",
              "#T_f64bb_row0_col28, #T_f64bb_row24_col30, #T_f64bb_row29_col30 {\n",
              "  background-color: #4a63d3;\n",
              "  color: #f1f1f1;\n",
              "}\n",
              "#T_f64bb_row0_col29, #T_f64bb_row4_col9, #T_f64bb_row4_col23, #T_f64bb_row7_col20, #T_f64bb_row11_col29, #T_f64bb_row12_col9, #T_f64bb_row12_col29, #T_f64bb_row14_col11, #T_f64bb_row15_col25 {\n",
              "  background-color: #a1c0ff;\n",
              "  color: #000000;\n",
              "}\n",
              "#T_f64bb_row0_col30, #T_f64bb_row1_col27, #T_f64bb_row20_col14 {\n",
              "  background-color: #4961d2;\n",
              "  color: #f1f1f1;\n",
              "}\n",
              "#T_f64bb_row1_col0 {\n",
              "  background-color: #cfdaea;\n",
              "  color: #000000;\n",
              "}\n",
              "#T_f64bb_row1_col2, #T_f64bb_row8_col30, #T_f64bb_row11_col19, #T_f64bb_row12_col18, #T_f64bb_row19_col30, #T_f64bb_row20_col30, #T_f64bb_row28_col30 {\n",
              "  background-color: #536edd;\n",
              "  color: #f1f1f1;\n",
              "}\n",
              "#T_f64bb_row1_col3, #T_f64bb_row8_col19, #T_f64bb_row23_col18 {\n",
              "  background-color: #465ecf;\n",
              "  color: #f1f1f1;\n",
              "}\n",
              "#T_f64bb_row1_col4, #T_f64bb_row2_col12, #T_f64bb_row3_col15, #T_f64bb_row4_col15, #T_f64bb_row10_col11, #T_f64bb_row14_col4, #T_f64bb_row18_col9, #T_f64bb_row20_col9, #T_f64bb_row20_col13, #T_f64bb_row21_col14, #T_f64bb_row25_col10, #T_f64bb_row26_col20, #T_f64bb_row27_col7 {\n",
              "  background-color: #80a3fa;\n",
              "  color: #f1f1f1;\n",
              "}\n",
              "#T_f64bb_row1_col5, #T_f64bb_row1_col6, #T_f64bb_row4_col16, #T_f64bb_row8_col15, #T_f64bb_row9_col11, #T_f64bb_row13_col11, #T_f64bb_row14_col28, #T_f64bb_row15_col14, #T_f64bb_row16_col18, #T_f64bb_row16_col22, #T_f64bb_row17_col20, #T_f64bb_row18_col27, #T_f64bb_row20_col10, #T_f64bb_row21_col4, #T_f64bb_row21_col18, #T_f64bb_row22_col12, #T_f64bb_row23_col5, #T_f64bb_row26_col15, #T_f64bb_row28_col24 {\n",
              "  background-color: #6c8ff1;\n",
              "  color: #f1f1f1;\n",
              "}\n",
              "#T_f64bb_row1_col9, #T_f64bb_row1_col25, #T_f64bb_row3_col29, #T_f64bb_row9_col0, #T_f64bb_row11_col12, #T_f64bb_row17_col2, #T_f64bb_row17_col8, #T_f64bb_row19_col2, #T_f64bb_row20_col16, #T_f64bb_row21_col8, #T_f64bb_row23_col8, #T_f64bb_row27_col23 {\n",
              "  background-color: #aac7fd;\n",
              "  color: #000000;\n",
              "}\n",
              "#T_f64bb_row1_col11, #T_f64bb_row1_col15, #T_f64bb_row3_col22, #T_f64bb_row8_col5, #T_f64bb_row9_col5, #T_f64bb_row11_col18, #T_f64bb_row13_col22, #T_f64bb_row19_col21, #T_f64bb_row21_col12, #T_f64bb_row21_col15, #T_f64bb_row23_col15, #T_f64bb_row30_col6 {\n",
              "  background-color: #7a9df8;\n",
              "  color: #f1f1f1;\n",
              "}\n",
              "#T_f64bb_row1_col12, #T_f64bb_row2_col11, #T_f64bb_row4_col11, #T_f64bb_row5_col14, #T_f64bb_row6_col16, #T_f64bb_row7_col22, #T_f64bb_row14_col6, #T_f64bb_row15_col17, #T_f64bb_row17_col7, #T_f64bb_row17_col9, #T_f64bb_row21_col9, #T_f64bb_row25_col12, #T_f64bb_row25_col14 {\n",
              "  background-color: #7295f4;\n",
              "  color: #f1f1f1;\n",
              "}\n",
              "#T_f64bb_row1_col13, #T_f64bb_row1_col22, #T_f64bb_row2_col26, #T_f64bb_row3_col10, #T_f64bb_row5_col3, #T_f64bb_row6_col17, #T_f64bb_row15_col4, #T_f64bb_row22_col15, #T_f64bb_row24_col12, #T_f64bb_row26_col21, #T_f64bb_row30_col15 {\n",
              "  background-color: #7093f3;\n",
              "  color: #f1f1f1;\n",
              "}\n",
              "#T_f64bb_row1_col14, #T_f64bb_row1_col24, #T_f64bb_row3_col24, #T_f64bb_row4_col30, #T_f64bb_row6_col26, #T_f64bb_row9_col24, #T_f64bb_row11_col27, #T_f64bb_row12_col24, #T_f64bb_row18_col13, #T_f64bb_row18_col14, #T_f64bb_row18_col26, #T_f64bb_row19_col13, #T_f64bb_row22_col4, #T_f64bb_row25_col24, #T_f64bb_row28_col13, #T_f64bb_row30_col12 {\n",
              "  background-color: #5f7fe8;\n",
              "  color: #f1f1f1;\n",
              "}\n",
              "#T_f64bb_row1_col16, #T_f64bb_row5_col6, #T_f64bb_row5_col20, #T_f64bb_row5_col23, #T_f64bb_row7_col28, #T_f64bb_row15_col9, #T_f64bb_row18_col21, #T_f64bb_row18_col23, #T_f64bb_row20_col11, #T_f64bb_row20_col22, #T_f64bb_row23_col17, #T_f64bb_row24_col5, #T_f64bb_row24_col10 {\n",
              "  background-color: #82a6fb;\n",
              "  color: #f1f1f1;\n",
              "}\n",
              "#T_f64bb_row1_col17, #T_f64bb_row1_col26, #T_f64bb_row2_col18, #T_f64bb_row2_col22, #T_f64bb_row7_col9, #T_f64bb_row9_col21, #T_f64bb_row10_col4, #T_f64bb_row10_col14, #T_f64bb_row10_col15, #T_f64bb_row10_col16, #T_f64bb_row15_col18, #T_f64bb_row21_col24, #T_f64bb_row23_col7, #T_f64bb_row24_col26, #T_f64bb_row25_col0, #T_f64bb_row28_col1, #T_f64bb_row28_col9, #T_f64bb_row30_col26 {\n",
              "  background-color: #688aef;\n",
              "  color: #f1f1f1;\n",
              "}\n",
              "#T_f64bb_row1_col18, #T_f64bb_row5_col24, #T_f64bb_row10_col20, #T_f64bb_row12_col10, #T_f64bb_row14_col24, #T_f64bb_row16_col27 {\n",
              "  background-color: #5977e3;\n",
              "  color: #f1f1f1;\n",
              "}\n",
              "#T_f64bb_row1_col21, #T_f64bb_row2_col13, #T_f64bb_row5_col27, #T_f64bb_row5_col28, #T_f64bb_row11_col28, #T_f64bb_row12_col26, #T_f64bb_row17_col15, #T_f64bb_row29_col11, #T_f64bb_row30_col16 {\n",
              "  background-color: #6a8bef;\n",
              "  color: #f1f1f1;\n",
              "}\n",
              "#T_f64bb_row1_col23, #T_f64bb_row3_col8, #T_f64bb_row7_col0, #T_f64bb_row20_col28, #T_f64bb_row28_col20 {\n",
              "  background-color: #c0d4f5;\n",
              "  color: #000000;\n",
              "}\n",
              "#T_f64bb_row1_col29, #T_f64bb_row6_col10, #T_f64bb_row10_col6, #T_f64bb_row14_col1, #T_f64bb_row16_col21, #T_f64bb_row25_col2, #T_f64bb_row26_col8 {\n",
              "  background-color: #96b7ff;\n",
              "  color: #000000;\n",
              "}\n",
              "#T_f64bb_row1_col30, #T_f64bb_row2_col1, #T_f64bb_row15_col19, #T_f64bb_row24_col19 {\n",
              "  background-color: #4055c8;\n",
              "  color: #f1f1f1;\n",
              "}\n",
              "#T_f64bb_row2_col0, #T_f64bb_row4_col29, #T_f64bb_row11_col8, #T_f64bb_row16_col1, #T_f64bb_row16_col20, #T_f64bb_row22_col25 {\n",
              "  background-color: #a5c3fe;\n",
              "  color: #000000;\n",
              "}\n",
              "#T_f64bb_row2_col3, #T_f64bb_row12_col0 {\n",
              "  background-color: #b7cff9;\n",
              "  color: #000000;\n",
              "}\n",
              "#T_f64bb_row2_col4, #T_f64bb_row3_col27, #T_f64bb_row6_col2, #T_f64bb_row8_col12, #T_f64bb_row8_col21, #T_f64bb_row14_col0, #T_f64bb_row18_col1, #T_f64bb_row22_col10, #T_f64bb_row26_col5, #T_f64bb_row26_col25, #T_f64bb_row27_col20, #T_f64bb_row29_col7, #T_f64bb_row29_col22, #T_f64bb_row29_col23 {\n",
              "  background-color: #90b2fe;\n",
              "  color: #000000;\n",
              "}\n",
              "#T_f64bb_row2_col5 {\n",
              "  background-color: #dcdddd;\n",
              "  color: #000000;\n",
              "}\n",
              "#T_f64bb_row2_col6, #T_f64bb_row5_col4, #T_f64bb_row5_col13, #T_f64bb_row13_col27, #T_f64bb_row18_col4, #T_f64bb_row20_col1, #T_f64bb_row22_col28 {\n",
              "  background-color: #6788ee;\n",
              "  color: #f1f1f1;\n",
              "}\n",
              "#T_f64bb_row2_col7 {\n",
              "  background-color: #f0cdbb;\n",
              "  color: #000000;\n",
              "}\n",
              "#T_f64bb_row2_col8, #T_f64bb_row2_col28, #T_f64bb_row5_col25, #T_f64bb_row10_col25, #T_f64bb_row12_col3, #T_f64bb_row15_col29, #T_f64bb_row16_col25, #T_f64bb_row20_col19, #T_f64bb_row23_col10 {\n",
              "  background-color: #9abbff;\n",
              "  color: #000000;\n",
              "}\n",
              "#T_f64bb_row2_col9, #T_f64bb_row3_col21, #T_f64bb_row4_col20, #T_f64bb_row5_col21, #T_f64bb_row5_col26, #T_f64bb_row7_col23, #T_f64bb_row9_col15, #T_f64bb_row9_col16, #T_f64bb_row11_col0, #T_f64bb_row12_col27, #T_f64bb_row12_col28, #T_f64bb_row13_col28, #T_f64bb_row15_col27, #T_f64bb_row17_col4, #T_f64bb_row17_col24, #T_f64bb_row24_col16, #T_f64bb_row29_col9, #T_f64bb_row30_col27 {\n",
              "  background-color: #6f92f3;\n",
              "  color: #f1f1f1;\n",
              "}\n",
              "#T_f64bb_row2_col15, #T_f64bb_row3_col9, #T_f64bb_row3_col23, #T_f64bb_row6_col12, #T_f64bb_row11_col9, #T_f64bb_row11_col21, #T_f64bb_row12_col5, #T_f64bb_row14_col9, #T_f64bb_row15_col16, #T_f64bb_row16_col9, #T_f64bb_row22_col17, #T_f64bb_row22_col20, #T_f64bb_row22_col27, #T_f64bb_row28_col15 {\n",
              "  background-color: #7b9ff9;\n",
              "  color: #f1f1f1;\n",
              "}\n",
              "#T_f64bb_row2_col16, #T_f64bb_row6_col9, #T_f64bb_row8_col25, #T_f64bb_row8_col28, #T_f64bb_row9_col6, #T_f64bb_row11_col5, #T_f64bb_row11_col16, #T_f64bb_row12_col7, #T_f64bb_row19_col5, #T_f64bb_row20_col15, #T_f64bb_row21_col1, #T_f64bb_row25_col7, #T_f64bb_row26_col9, #T_f64bb_row27_col5, #T_f64bb_row27_col29, #T_f64bb_row28_col23 {\n",
              "  background-color: #8caffe;\n",
              "  color: #000000;\n",
              "}\n",
              "#T_f64bb_row2_col17, #T_f64bb_row4_col22, #T_f64bb_row6_col4, #T_f64bb_row6_col28, #T_f64bb_row7_col11, #T_f64bb_row13_col9, #T_f64bb_row15_col6, #T_f64bb_row18_col28, #T_f64bb_row21_col10, #T_f64bb_row23_col6, #T_f64bb_row24_col15, #T_f64bb_row30_col20, #T_f64bb_row30_col28 {\n",
              "  background-color: #779af7;\n",
              "  color: #f1f1f1;\n",
              "}\n",
              "#T_f64bb_row2_col19, #T_f64bb_row7_col18, #T_f64bb_row9_col19, #T_f64bb_row18_col24, #T_f64bb_row25_col19 {\n",
              "  background-color: #516ddb;\n",
              "  color: #f1f1f1;\n",
              "}\n",
              "#T_f64bb_row2_col21, #T_f64bb_row5_col18, #T_f64bb_row6_col13, #T_f64bb_row8_col1, #T_f64bb_row9_col18, #T_f64bb_row10_col5, #T_f64bb_row10_col27, #T_f64bb_row13_col24, #T_f64bb_row19_col27, #T_f64bb_row21_col23, #T_f64bb_row24_col6, #T_f64bb_row24_col14, #T_f64bb_row26_col13, #T_f64bb_row26_col24, #T_f64bb_row28_col10, #T_f64bb_row28_col26, #T_f64bb_row29_col13, #T_f64bb_row30_col13 {\n",
              "  background-color: #6180e9;\n",
              "  color: #f1f1f1;\n",
              "}\n",
              "#T_f64bb_row2_col24, #T_f64bb_row3_col13, #T_f64bb_row5_col12, #T_f64bb_row6_col15, #T_f64bb_row7_col1, #T_f64bb_row8_col10, #T_f64bb_row10_col7, #T_f64bb_row19_col18, #T_f64bb_row22_col13, #T_f64bb_row22_col23, #T_f64bb_row22_col24, #T_f64bb_row24_col13, #T_f64bb_row25_col13, #T_f64bb_row25_col18, #T_f64bb_row25_col28, #T_f64bb_row27_col13 {\n",
              "  background-color: #6384eb;\n",
              "  color: #f1f1f1;\n",
              "}\n",
              "#T_f64bb_row2_col27, #T_f64bb_row8_col0, #T_f64bb_row8_col17, #T_f64bb_row11_col10, #T_f64bb_row11_col17, #T_f64bb_row12_col4, #T_f64bb_row13_col5, #T_f64bb_row15_col20, #T_f64bb_row17_col0, #T_f64bb_row17_col1, #T_f64bb_row19_col6, #T_f64bb_row21_col6, #T_f64bb_row27_col22 {\n",
              "  background-color: #8db0fe;\n",
              "  color: #000000;\n",
              "}\n",
              "#T_f64bb_row3_col2, #T_f64bb_row18_col0, #T_f64bb_row29_col6 {\n",
              "  background-color: #bbd1f8;\n",
              "  color: #000000;\n",
              "}\n",
              "#T_f64bb_row3_col4, #T_f64bb_row4_col28, #T_f64bb_row7_col4, #T_f64bb_row8_col14, #T_f64bb_row8_col20, #T_f64bb_row13_col8, #T_f64bb_row13_col17, #T_f64bb_row16_col26, #T_f64bb_row17_col27, #T_f64bb_row20_col17, #T_f64bb_row25_col4, #T_f64bb_row25_col15, #T_f64bb_row25_col16, #T_f64bb_row27_col21, #T_f64bb_row29_col18, #T_f64bb_row30_col4, #T_f64bb_row30_col10 {\n",
              "  background-color: #7396f5;\n",
              "  color: #f1f1f1;\n",
              "}\n",
              "#T_f64bb_row3_col5, #T_f64bb_row6_col7, #T_f64bb_row13_col19, #T_f64bb_row18_col19, #T_f64bb_row19_col24, #T_f64bb_row21_col19, #T_f64bb_row26_col4 {\n",
              "  background-color: #4f69d9;\n",
              "  color: #f1f1f1;\n",
              "}\n",
              "#T_f64bb_row3_col6, #T_f64bb_row11_col3, #T_f64bb_row12_col8, #T_f64bb_row12_col23, #T_f64bb_row15_col3, #T_f64bb_row26_col2 {\n",
              "  background-color: #b2ccfb;\n",
              "  color: #000000;\n",
              "}\n",
              "#T_f64bb_row3_col7, #T_f64bb_row4_col0, #T_f64bb_row6_col22, #T_f64bb_row8_col9, #T_f64bb_row12_col21, #T_f64bb_row13_col6, #T_f64bb_row13_col10, #T_f64bb_row15_col21, #T_f64bb_row17_col28, #T_f64bb_row23_col3, #T_f64bb_row24_col9, #T_f64bb_row24_col21, #T_f64bb_row26_col16, #T_f64bb_row27_col9, #T_f64bb_row28_col0 {\n",
              "  background-color: #84a7fc;\n",
              "  color: #f1f1f1;\n",
              "}\n",
              "#T_f64bb_row3_col12, #T_f64bb_row3_col26, #T_f64bb_row5_col29, #T_f64bb_row7_col15, #T_f64bb_row10_col13, #T_f64bb_row13_col18, #T_f64bb_row14_col12, #T_f64bb_row15_col26, #T_f64bb_row16_col13, #T_f64bb_row17_col5, #T_f64bb_row19_col15, #T_f64bb_row19_col26, #T_f64bb_row23_col13, #T_f64bb_row28_col4, #T_f64bb_row28_col14 {\n",
              "  background-color: #6282ea;\n",
              "  color: #f1f1f1;\n",
              "}\n",
              "#T_f64bb_row3_col14, #T_f64bb_row18_col30, #T_f64bb_row29_col27 {\n",
              "  background-color: #4358cb;\n",
              "  color: #f1f1f1;\n",
              "}\n",
              "#T_f64bb_row3_col16, #T_f64bb_row4_col18, #T_f64bb_row7_col26, #T_f64bb_row15_col11, #T_f64bb_row20_col24, #T_f64bb_row22_col16, #T_f64bb_row23_col14, #T_f64bb_row26_col28, #T_f64bb_row27_col16, #T_f64bb_row27_col18, #T_f64bb_row28_col18, #T_f64bb_row30_col17 {\n",
              "  background-color: #6b8df0;\n",
              "  color: #f1f1f1;\n",
              "}\n",
              "#T_f64bb_row3_col17, #T_f64bb_row9_col20, #T_f64bb_row9_col26, #T_f64bb_row10_col21, #T_f64bb_row13_col21, #T_f64bb_row16_col28, #T_f64bb_row19_col14, #T_f64bb_row20_col23, #T_f64bb_row26_col22, #T_f64bb_row27_col11, #T_f64bb_row28_col11, #T_f64bb_row28_col12, #T_f64bb_row28_col22 {\n",
              "  background-color: #6e90f2;\n",
              "  color: #f1f1f1;\n",
              "}\n",
              "#T_f64bb_row3_col19, #T_f64bb_row4_col19, #T_f64bb_row13_col30, #T_f64bb_row14_col17, #T_f64bb_row15_col30, #T_f64bb_row23_col30, #T_f64bb_row26_col19, #T_f64bb_row27_col19 {\n",
              "  background-color: #4b64d5;\n",
              "  color: #f1f1f1;\n",
              "}\n",
              "#T_f64bb_row3_col20, #T_f64bb_row6_col23, #T_f64bb_row8_col16, #T_f64bb_row16_col29, #T_f64bb_row21_col7, #T_f64bb_row22_col7, #T_f64bb_row24_col8, #T_f64bb_row28_col25, #T_f64bb_row30_col1 {\n",
              "  background-color: #92b4fe;\n",
              "  color: #000000;\n",
              "}\n",
              "#T_f64bb_row3_col25, #T_f64bb_row3_col28, #T_f64bb_row4_col7, #T_f64bb_row11_col23, #T_f64bb_row14_col7, #T_f64bb_row14_col25, #T_f64bb_row15_col23, #T_f64bb_row16_col0, #T_f64bb_row24_col3, #T_f64bb_row26_col0, #T_f64bb_row28_col7, #T_f64bb_row29_col3 {\n",
              "  background-color: #a6c4fe;\n",
              "  color: #000000;\n",
              "}\n",
              "#T_f64bb_row3_col30, #T_f64bb_row10_col30 {\n",
              "  background-color: #3c4ec2;\n",
              "  color: #f1f1f1;\n",
              "}\n",
              "#T_f64bb_row4_col2 {\n",
              "  background-color: #cbd8ee;\n",
              "  color: #000000;\n",
              "}\n",
              "#T_f64bb_row4_col3, #T_f64bb_row15_col2, #T_f64bb_row20_col2 {\n",
              "  background-color: #b3cdfb;\n",
              "  color: #000000;\n",
              "}\n",
              "#T_f64bb_row4_col5, #T_f64bb_row9_col12, #T_f64bb_row12_col6, #T_f64bb_row13_col20, #T_f64bb_row19_col8, #T_f64bb_row19_col10, #T_f64bb_row22_col6, #T_f64bb_row28_col21 {\n",
              "  background-color: #8fb1fe;\n",
              "  color: #000000;\n",
              "}\n",
              "#T_f64bb_row4_col6, #T_f64bb_row9_col2, #T_f64bb_row9_col25, #T_f64bb_row9_col29, #T_f64bb_row11_col7, #T_f64bb_row20_col5, #T_f64bb_row20_col8, #T_f64bb_row23_col9, #T_f64bb_row27_col6, #T_f64bb_row29_col8 {\n",
              "  background-color: #98b9ff;\n",
              "  color: #000000;\n",
              "}\n",
              "#T_f64bb_row4_col8, #T_f64bb_row7_col3, #T_f64bb_row10_col3, #T_f64bb_row11_col6, #T_f64bb_row11_col14, #T_f64bb_row22_col1, #T_f64bb_row23_col2, #T_f64bb_row24_col7 {\n",
              "  background-color: #94b6ff;\n",
              "  color: #000000;\n",
              "}\n",
              "#T_f64bb_row4_col10, #T_f64bb_row6_col0, #T_f64bb_row15_col7, #T_f64bb_row17_col11, #T_f64bb_row19_col23, #T_f64bb_row28_col6, #T_f64bb_row28_col17, #T_f64bb_row30_col7 {\n",
              "  background-color: #8badfd;\n",
              "  color: #000000;\n",
              "}\n",
              "#T_f64bb_row4_col12, #T_f64bb_row6_col25, #T_f64bb_row12_col13, #T_f64bb_row13_col0, #T_f64bb_row16_col3, #T_f64bb_row18_col3, #T_f64bb_row20_col21, #T_f64bb_row24_col1, #T_f64bb_row26_col7, #T_f64bb_row26_col29 {\n",
              "  background-color: #9bbcff;\n",
              "  color: #000000;\n",
              "}\n",
              "#T_f64bb_row4_col14, #T_f64bb_row6_col21, #T_f64bb_row8_col11, #T_f64bb_row10_col22, #T_f64bb_row14_col10, #T_f64bb_row18_col5, #T_f64bb_row18_col7, #T_f64bb_row19_col9, #T_f64bb_row19_col17, #T_f64bb_row20_col27, #T_f64bb_row21_col28, #T_f64bb_row22_col9, #T_f64bb_row23_col16, #T_f64bb_row25_col5, #T_f64bb_row25_col8, #T_f64bb_row25_col21, #T_f64bb_row27_col17, #T_f64bb_row29_col1, #T_f64bb_row30_col21 {\n",
              "  background-color: #85a8fc;\n",
              "  color: #f1f1f1;\n",
              "}\n",
              "#T_f64bb_row4_col25, #T_f64bb_row18_col2, #T_f64bb_row24_col2, #T_f64bb_row25_col3, #T_f64bb_row28_col29 {\n",
              "  background-color: #adc9fd;\n",
              "  color: #000000;\n",
              "}\n",
              "#T_f64bb_row4_col26, #T_f64bb_row5_col19, #T_f64bb_row6_col14, #T_f64bb_row9_col13, #T_f64bb_row14_col20, #T_f64bb_row18_col20, #T_f64bb_row21_col13, #T_f64bb_row29_col26 {\n",
              "  background-color: #5470de;\n",
              "  color: #f1f1f1;\n",
              "}\n",
              "#T_f64bb_row5_col0 {\n",
              "  background-color: #d6dce4;\n",
              "  color: #000000;\n",
              "}\n",
              "#T_f64bb_row5_col2 {\n",
              "  background-color: #ebd3c6;\n",
              "  color: #000000;\n",
              "}\n",
              "#T_f64bb_row5_col7 {\n",
              "  background-color: #f1cdba;\n",
              "  color: #000000;\n",
              "}\n",
              "#T_f64bb_row5_col9, #T_f64bb_row6_col18, #T_f64bb_row7_col21, #T_f64bb_row12_col22, #T_f64bb_row13_col15, #T_f64bb_row15_col0, #T_f64bb_row16_col10, #T_f64bb_row16_col15, #T_f64bb_row18_col15, #T_f64bb_row19_col22, #T_f64bb_row20_col12, #T_f64bb_row20_col26, #T_f64bb_row23_col27, #T_f64bb_row24_col11, #T_f64bb_row25_col11, #T_f64bb_row26_col11, #T_f64bb_row26_col12, #T_f64bb_row28_col16, #T_f64bb_row29_col28 {\n",
              "  background-color: #7597f6;\n",
              "  color: #f1f1f1;\n",
              "}\n",
              "#T_f64bb_row5_col15, #T_f64bb_row7_col12, #T_f64bb_row8_col26, #T_f64bb_row9_col17, #T_f64bb_row11_col26, #T_f64bb_row14_col26, #T_f64bb_row17_col26, #T_f64bb_row22_col14, #T_f64bb_row23_col4 {\n",
              "  background-color: #6485ec;\n",
              "  color: #f1f1f1;\n",
              "}\n",
              "#T_f64bb_row5_col16, #T_f64bb_row5_col22, #T_f64bb_row12_col20, #T_f64bb_row14_col15, #T_f64bb_row14_col22, #T_f64bb_row18_col10, #T_f64bb_row19_col12, #T_f64bb_row21_col11, #T_f64bb_row21_col17, #T_f64bb_row22_col11, #T_f64bb_row22_col18, #T_f64bb_row26_col17, #T_f64bb_row30_col9 {\n",
              "  background-color: #7699f6;\n",
              "  color: #f1f1f1;\n",
              "}\n",
              "#T_f64bb_row5_col30, #T_f64bb_row10_col12, #T_f64bb_row16_col14, #T_f64bb_row28_col19 {\n",
              "  background-color: #445acc;\n",
              "  color: #f1f1f1;\n",
              "}\n",
              "#T_f64bb_row6_col3 {\n",
              "  background-color: #ccd9ed;\n",
              "  color: #000000;\n",
              "}\n",
              "#T_f64bb_row6_col8 {\n",
              "  background-color: #f2cbb7;\n",
              "  color: #000000;\n",
              "}\n",
              "#T_f64bb_row6_col29 {\n",
              "  background-color: #d5dbe5;\n",
              "  color: #000000;\n",
              "}\n",
              "#T_f64bb_row6_col30, #T_f64bb_row12_col17 {\n",
              "  background-color: #4257c9;\n",
              "  color: #f1f1f1;\n",
              "}\n",
              "#T_f64bb_row7_col2 {\n",
              "  background-color: #f4c6af;\n",
              "  color: #000000;\n",
              "}\n",
              "#T_f64bb_row7_col5, #T_f64bb_row8_col6 {\n",
              "  background-color: #edd2c3;\n",
              "  color: #000000;\n",
              "}\n",
              "#T_f64bb_row7_col10, #T_f64bb_row10_col28, #T_f64bb_row18_col17, #T_f64bb_row22_col30, #T_f64bb_row25_col30, #T_f64bb_row26_col30, #T_f64bb_row27_col14, #T_f64bb_row29_col19 {\n",
              "  background-color: #4e68d8;\n",
              "  color: #f1f1f1;\n",
              "}\n",
              "#T_f64bb_row7_col25, #T_f64bb_row13_col7, #T_f64bb_row14_col5, #T_f64bb_row14_col21, #T_f64bb_row15_col8, #T_f64bb_row18_col6, #T_f64bb_row20_col6, #T_f64bb_row21_col2, #T_f64bb_row21_col16, #T_f64bb_row21_col20, #T_f64bb_row29_col10 {\n",
              "  background-color: #93b5fe;\n",
              "  color: #000000;\n",
              "}\n",
              "#T_f64bb_row7_col29, #T_f64bb_row15_col1, #T_f64bb_row19_col1, #T_f64bb_row29_col25, #T_f64bb_row30_col0 {\n",
              "  background-color: #a3c2fe;\n",
              "  color: #000000;\n",
              "}\n",
              "#T_f64bb_row7_col30, #T_f64bb_row9_col30, #T_f64bb_row16_col30, #T_f64bb_row23_col20 {\n",
              "  background-color: #3e51c5;\n",
              "  color: #f1f1f1;\n",
              "}\n",
              "#T_f64bb_row8_col2, #T_f64bb_row8_col29, #T_f64bb_row19_col0, #T_f64bb_row29_col20 {\n",
              "  background-color: #abc8fd;\n",
              "  color: #000000;\n",
              "}\n",
              "#T_f64bb_row8_col3 {\n",
              "  background-color: #cad8ef;\n",
              "  color: #000000;\n",
              "}\n",
              "#T_f64bb_row8_col22, #T_f64bb_row9_col7, #T_f64bb_row11_col20, #T_f64bb_row15_col5, #T_f64bb_row16_col6, #T_f64bb_row18_col16, #T_f64bb_row21_col5, #T_f64bb_row23_col11, #T_f64bb_row24_col20, #T_f64bb_row24_col28, #T_f64bb_row25_col9, #T_f64bb_row25_col20, #T_f64bb_row26_col6, #T_f64bb_row27_col10 {\n",
              "  background-color: #7ea1fa;\n",
              "  color: #f1f1f1;\n",
              "}\n",
              "#T_f64bb_row8_col23, #T_f64bb_row9_col23, #T_f64bb_row25_col29 {\n",
              "  background-color: #afcafc;\n",
              "  color: #000000;\n",
              "}\n",
              "#T_f64bb_row8_col27, #T_f64bb_row11_col1, #T_f64bb_row12_col25, #T_f64bb_row17_col25, #T_f64bb_row19_col25, #T_f64bb_row30_col25 {\n",
              "  background-color: #9fbfff;\n",
              "  color: #000000;\n",
              "}\n",
              "#T_f64bb_row9_col1, #T_f64bb_row21_col0, #T_f64bb_row22_col29 {\n",
              "  background-color: #bcd2f7;\n",
              "  color: #000000;\n",
              "}\n",
              "#T_f64bb_row10_col1 {\n",
              "  background-color: #d1dae9;\n",
              "  color: #000000;\n",
              "}\n",
              "#T_f64bb_row10_col18, #T_f64bb_row12_col19, #T_f64bb_row14_col19, #T_f64bb_row16_col24, #T_f64bb_row30_col19 {\n",
              "  background-color: #5673e0;\n",
              "  color: #f1f1f1;\n",
              "}\n",
              "#T_f64bb_row10_col23, #T_f64bb_row13_col2, #T_f64bb_row29_col21 {\n",
              "  background-color: #b1cbfc;\n",
              "  color: #000000;\n",
              "}\n",
              "#T_f64bb_row10_col29, #T_f64bb_row12_col2, #T_f64bb_row17_col29, #T_f64bb_row30_col2 {\n",
              "  background-color: #b6cefa;\n",
              "  color: #000000;\n",
              "}\n",
              "#T_f64bb_row11_col2, #T_f64bb_row13_col1, #T_f64bb_row13_col3, #T_f64bb_row13_col12, #T_f64bb_row17_col23, #T_f64bb_row18_col8, #T_f64bb_row19_col29, #T_f64bb_row21_col25, #T_f64bb_row22_col3, #T_f64bb_row24_col29, #T_f64bb_row25_col1 {\n",
              "  background-color: #a7c5fe;\n",
              "  color: #000000;\n",
              "}\n",
              "#T_f64bb_row11_col25, #T_f64bb_row12_col1, #T_f64bb_row18_col25, #T_f64bb_row21_col3, #T_f64bb_row22_col2, #T_f64bb_row22_col8, #T_f64bb_row23_col29, #T_f64bb_row26_col1, #T_f64bb_row29_col0, #T_f64bb_row30_col8, #T_f64bb_row30_col23 {\n",
              "  background-color: #9dbdff;\n",
              "  color: #000000;\n",
              "}\n",
              "#T_f64bb_row12_col11, #T_f64bb_row16_col8, #T_f64bb_row28_col8 {\n",
              "  background-color: #aec9fc;\n",
              "  color: #000000;\n",
              "}\n",
              "#T_f64bb_row14_col2 {\n",
              "  background-color: #bed2f6;\n",
              "  color: #000000;\n",
              "}\n",
              "#T_f64bb_row14_col8, #T_f64bb_row14_col23, #T_f64bb_row19_col3, #T_f64bb_row24_col0, #T_f64bb_row26_col3 {\n",
              "  background-color: #a2c1ff;\n",
              "  color: #000000;\n",
              "}\n",
              "#T_f64bb_row14_col13, #T_f64bb_row20_col18 {\n",
              "  background-color: #485fd1;\n",
              "  color: #f1f1f1;\n",
              "}\n",
              "#T_f64bb_row16_col2 {\n",
              "  background-color: #bad0f8;\n",
              "  color: #000000;\n",
              "}\n",
              "#T_f64bb_row17_col30 {\n",
              "  background-color: #3f53c6;\n",
              "  color: #f1f1f1;\n",
              "}\n",
              "#T_f64bb_row20_col3, #T_f64bb_row20_col7, #T_f64bb_row23_col1 {\n",
              "  background-color: #bfd3f6;\n",
              "  color: #000000;\n",
              "}\n",
              "#T_f64bb_row20_col29 {\n",
              "  background-color: #d4dbe6;\n",
              "  color: #000000;\n",
              "}\n",
              "#T_f64bb_row21_col22, #T_f64bb_row22_col21 {\n",
              "  background-color: #f59d7e;\n",
              "  color: #000000;\n",
              "}\n",
              "#T_f64bb_row21_col29 {\n",
              "  background-color: #d3dbe7;\n",
              "  color: #000000;\n",
              "}\n",
              "#T_f64bb_row23_col0 {\n",
              "  background-color: #c7d7f0;\n",
              "  color: #000000;\n",
              "}\n",
              "#T_f64bb_row27_col2 {\n",
              "  background-color: #c6d6f1;\n",
              "  color: #000000;\n",
              "}\n",
              "#T_f64bb_row27_col3, #T_f64bb_row27_col8 {\n",
              "  background-color: #c5d6f2;\n",
              "  color: #000000;\n",
              "}\n",
              "#T_f64bb_row27_col28 {\n",
              "  background-color: #ead5c9;\n",
              "  color: #000000;\n",
              "}\n",
              "#T_f64bb_row28_col3 {\n",
              "  background-color: #cdd9ec;\n",
              "  color: #000000;\n",
              "}\n",
              "#T_f64bb_row28_col27 {\n",
              "  background-color: #e5d8d1;\n",
              "  color: #000000;\n",
              "}\n",
              "</style>\n",
              "<table id=\"T_f64bb\">\n",
              "  <thead>\n",
              "    <tr>\n",
              "      <th class=\"blank level0\" >&nbsp;</th>\n",
              "      <th id=\"T_f64bb_level0_col0\" class=\"col_heading level0 col0\" >Time</th>\n",
              "      <th id=\"T_f64bb_level0_col1\" class=\"col_heading level0 col1\" >V1</th>\n",
              "      <th id=\"T_f64bb_level0_col2\" class=\"col_heading level0 col2\" >V2</th>\n",
              "      <th id=\"T_f64bb_level0_col3\" class=\"col_heading level0 col3\" >V3</th>\n",
              "      <th id=\"T_f64bb_level0_col4\" class=\"col_heading level0 col4\" >V4</th>\n",
              "      <th id=\"T_f64bb_level0_col5\" class=\"col_heading level0 col5\" >V5</th>\n",
              "      <th id=\"T_f64bb_level0_col6\" class=\"col_heading level0 col6\" >V6</th>\n",
              "      <th id=\"T_f64bb_level0_col7\" class=\"col_heading level0 col7\" >V7</th>\n",
              "      <th id=\"T_f64bb_level0_col8\" class=\"col_heading level0 col8\" >V8</th>\n",
              "      <th id=\"T_f64bb_level0_col9\" class=\"col_heading level0 col9\" >V9</th>\n",
              "      <th id=\"T_f64bb_level0_col10\" class=\"col_heading level0 col10\" >V10</th>\n",
              "      <th id=\"T_f64bb_level0_col11\" class=\"col_heading level0 col11\" >V11</th>\n",
              "      <th id=\"T_f64bb_level0_col12\" class=\"col_heading level0 col12\" >V12</th>\n",
              "      <th id=\"T_f64bb_level0_col13\" class=\"col_heading level0 col13\" >V13</th>\n",
              "      <th id=\"T_f64bb_level0_col14\" class=\"col_heading level0 col14\" >V14</th>\n",
              "      <th id=\"T_f64bb_level0_col15\" class=\"col_heading level0 col15\" >V15</th>\n",
              "      <th id=\"T_f64bb_level0_col16\" class=\"col_heading level0 col16\" >V16</th>\n",
              "      <th id=\"T_f64bb_level0_col17\" class=\"col_heading level0 col17\" >V17</th>\n",
              "      <th id=\"T_f64bb_level0_col18\" class=\"col_heading level0 col18\" >V18</th>\n",
              "      <th id=\"T_f64bb_level0_col19\" class=\"col_heading level0 col19\" >V19</th>\n",
              "      <th id=\"T_f64bb_level0_col20\" class=\"col_heading level0 col20\" >V20</th>\n",
              "      <th id=\"T_f64bb_level0_col21\" class=\"col_heading level0 col21\" >V21</th>\n",
              "      <th id=\"T_f64bb_level0_col22\" class=\"col_heading level0 col22\" >V22</th>\n",
              "      <th id=\"T_f64bb_level0_col23\" class=\"col_heading level0 col23\" >V23</th>\n",
              "      <th id=\"T_f64bb_level0_col24\" class=\"col_heading level0 col24\" >V24</th>\n",
              "      <th id=\"T_f64bb_level0_col25\" class=\"col_heading level0 col25\" >V25</th>\n",
              "      <th id=\"T_f64bb_level0_col26\" class=\"col_heading level0 col26\" >V26</th>\n",
              "      <th id=\"T_f64bb_level0_col27\" class=\"col_heading level0 col27\" >V27</th>\n",
              "      <th id=\"T_f64bb_level0_col28\" class=\"col_heading level0 col28\" >V28</th>\n",
              "      <th id=\"T_f64bb_level0_col29\" class=\"col_heading level0 col29\" >Amount</th>\n",
              "      <th id=\"T_f64bb_level0_col30\" class=\"col_heading level0 col30\" >Class</th>\n",
              "    </tr>\n",
              "  </thead>\n",
              "  <tbody>\n",
              "    <tr>\n",
              "      <th id=\"T_f64bb_level0_row0\" class=\"row_heading level0 row0\" >Time</th>\n",
              "      <td id=\"T_f64bb_row0_col0\" class=\"data row0 col0\" >1.000000</td>\n",
              "      <td id=\"T_f64bb_row0_col1\" class=\"data row0 col1\" >0.190647</td>\n",
              "      <td id=\"T_f64bb_row0_col2\" class=\"data row0 col2\" >-0.006419</td>\n",
              "      <td id=\"T_f64bb_row0_col3\" class=\"data row0 col3\" >-0.473348</td>\n",
              "      <td id=\"T_f64bb_row0_col4\" class=\"data row0 col4\" >-0.142156</td>\n",
              "      <td id=\"T_f64bb_row0_col5\" class=\"data row0 col5\" >0.226004</td>\n",
              "      <td id=\"T_f64bb_row0_col6\" class=\"data row0 col6\" >-0.111408</td>\n",
              "      <td id=\"T_f64bb_row0_col7\" class=\"data row0 col7\" >0.116722</td>\n",
              "      <td id=\"T_f64bb_row0_col8\" class=\"data row0 col8\" >-0.103882</td>\n",
              "      <td id=\"T_f64bb_row0_col9\" class=\"data row0 col9\" >0.017986</td>\n",
              "      <td id=\"T_f64bb_row0_col10\" class=\"data row0 col10\" >0.014692</td>\n",
              "      <td id=\"T_f64bb_row0_col11\" class=\"data row0 col11\" >-0.227116</td>\n",
              "      <td id=\"T_f64bb_row0_col12\" class=\"data row0 col12\" >0.073665</td>\n",
              "      <td id=\"T_f64bb_row0_col13\" class=\"data row0 col13\" >-0.045340</td>\n",
              "      <td id=\"T_f64bb_row0_col14\" class=\"data row0 col14\" >-0.092388</td>\n",
              "      <td id=\"T_f64bb_row0_col15\" class=\"data row0 col15\" >-0.205421</td>\n",
              "      <td id=\"T_f64bb_row0_col16\" class=\"data row0 col16\" >0.002415</td>\n",
              "      <td id=\"T_f64bb_row0_col17\" class=\"data row0 col17\" >-0.102351</td>\n",
              "      <td id=\"T_f64bb_row0_col18\" class=\"data row0 col18\" >0.090840</td>\n",
              "      <td id=\"T_f64bb_row0_col19\" class=\"data row0 col19\" >0.025136</td>\n",
              "      <td id=\"T_f64bb_row0_col20\" class=\"data row0 col20\" >-0.120319</td>\n",
              "      <td id=\"T_f64bb_row0_col21\" class=\"data row0 col21\" >0.096564</td>\n",
              "      <td id=\"T_f64bb_row0_col22\" class=\"data row0 col22\" >0.132651</td>\n",
              "      <td id=\"T_f64bb_row0_col23\" class=\"data row0 col23\" >0.148505</td>\n",
              "      <td id=\"T_f64bb_row0_col24\" class=\"data row0 col24\" >-0.015980</td>\n",
              "      <td id=\"T_f64bb_row0_col25\" class=\"data row0 col25\" >-0.259220</td>\n",
              "      <td id=\"T_f64bb_row0_col26\" class=\"data row0 col26\" >0.000132</td>\n",
              "      <td id=\"T_f64bb_row0_col27\" class=\"data row0 col27\" >-0.035063</td>\n",
              "      <td id=\"T_f64bb_row0_col28\" class=\"data row0 col28\" >-0.143200</td>\n",
              "      <td id=\"T_f64bb_row0_col29\" class=\"data row0 col29\" >-0.040007</td>\n",
              "      <td id=\"T_f64bb_row0_col30\" class=\"data row0 col30\" >-0.011692</td>\n",
              "    </tr>\n",
              "    <tr>\n",
              "      <th id=\"T_f64bb_level0_row1\" class=\"row_heading level0 row1\" >V1</th>\n",
              "      <td id=\"T_f64bb_row1_col0\" class=\"data row1 col0\" >0.190647</td>\n",
              "      <td id=\"T_f64bb_row1_col1\" class=\"data row1 col1\" >1.000000</td>\n",
              "      <td id=\"T_f64bb_row1_col2\" class=\"data row1 col2\" >-0.384328</td>\n",
              "      <td id=\"T_f64bb_row1_col3\" class=\"data row1 col3\" >-0.412095</td>\n",
              "      <td id=\"T_f64bb_row1_col4\" class=\"data row1 col4\" >0.101011</td>\n",
              "      <td id=\"T_f64bb_row1_col5\" class=\"data row1 col5\" >-0.106632</td>\n",
              "      <td id=\"T_f64bb_row1_col6\" class=\"data row1 col6\" >-0.086561</td>\n",
              "      <td id=\"T_f64bb_row1_col7\" class=\"data row1 col7\" >-0.227650</td>\n",
              "      <td id=\"T_f64bb_row1_col8\" class=\"data row1 col8\" >-0.236140</td>\n",
              "      <td id=\"T_f64bb_row1_col9\" class=\"data row1 col9\" >0.138614</td>\n",
              "      <td id=\"T_f64bb_row1_col10\" class=\"data row1 col10\" >0.231636</td>\n",
              "      <td id=\"T_f64bb_row1_col11\" class=\"data row1 col11\" >0.013750</td>\n",
              "      <td id=\"T_f64bb_row1_col12\" class=\"data row1 col12\" >0.003095</td>\n",
              "      <td id=\"T_f64bb_row1_col13\" class=\"data row1 col13\" >0.047839</td>\n",
              "      <td id=\"T_f64bb_row1_col14\" class=\"data row1 col14\" >-0.024329</td>\n",
              "      <td id=\"T_f64bb_row1_col15\" class=\"data row1 col15\" >0.030048</td>\n",
              "      <td id=\"T_f64bb_row1_col16\" class=\"data row1 col16\" >0.037791</td>\n",
              "      <td id=\"T_f64bb_row1_col17\" class=\"data row1 col17\" >-0.057902</td>\n",
              "      <td id=\"T_f64bb_row1_col18\" class=\"data row1 col18\" >-0.043565</td>\n",
              "      <td id=\"T_f64bb_row1_col19\" class=\"data row1 col19\" >0.031168</td>\n",
              "      <td id=\"T_f64bb_row1_col20\" class=\"data row1 col20\" >-0.209614</td>\n",
              "      <td id=\"T_f64bb_row1_col21\" class=\"data row1 col21\" >-0.061958</td>\n",
              "      <td id=\"T_f64bb_row1_col22\" class=\"data row1 col22\" >-0.028827</td>\n",
              "      <td id=\"T_f64bb_row1_col23\" class=\"data row1 col23\" >0.145440</td>\n",
              "      <td id=\"T_f64bb_row1_col24\" class=\"data row1 col24\" >-0.000315</td>\n",
              "      <td id=\"T_f64bb_row1_col25\" class=\"data row1 col25\" >0.049291</td>\n",
              "      <td id=\"T_f64bb_row1_col26\" class=\"data row1 col26\" >0.006380</td>\n",
              "      <td id=\"T_f64bb_row1_col27\" class=\"data row1 col27\" >-0.104815</td>\n",
              "      <td id=\"T_f64bb_row1_col28\" class=\"data row1 col28\" >-0.207967</td>\n",
              "      <td id=\"T_f64bb_row1_col29\" class=\"data row1 col29\" >-0.086663</td>\n",
              "      <td id=\"T_f64bb_row1_col30\" class=\"data row1 col30\" >-0.042424</td>\n",
              "    </tr>\n",
              "    <tr>\n",
              "      <th id=\"T_f64bb_level0_row2\" class=\"row_heading level0 row2\" >V2</th>\n",
              "      <td id=\"T_f64bb_row2_col0\" class=\"data row2 col0\" >-0.006419</td>\n",
              "      <td id=\"T_f64bb_row2_col1\" class=\"data row2 col1\" >-0.384328</td>\n",
              "      <td id=\"T_f64bb_row2_col2\" class=\"data row2 col2\" >1.000000</td>\n",
              "      <td id=\"T_f64bb_row2_col3\" class=\"data row2 col3\" >0.073967</td>\n",
              "      <td id=\"T_f64bb_row2_col4\" class=\"data row2 col4\" >0.155042</td>\n",
              "      <td id=\"T_f64bb_row2_col5\" class=\"data row2 col5\" >0.342701</td>\n",
              "      <td id=\"T_f64bb_row2_col6\" class=\"data row2 col6\" >-0.110393</td>\n",
              "      <td id=\"T_f64bb_row2_col7\" class=\"data row2 col7\" >0.426320</td>\n",
              "      <td id=\"T_f64bb_row2_col8\" class=\"data row2 col8\" >0.006980</td>\n",
              "      <td id=\"T_f64bb_row2_col9\" class=\"data row2 col9\" >-0.077880</td>\n",
              "      <td id=\"T_f64bb_row2_col10\" class=\"data row2 col10\" >-0.212437</td>\n",
              "      <td id=\"T_f64bb_row2_col11\" class=\"data row2 col11\" >-0.013464</td>\n",
              "      <td id=\"T_f64bb_row2_col12\" class=\"data row2 col12\" >0.052846</td>\n",
              "      <td id=\"T_f64bb_row2_col13\" class=\"data row2 col13\" >0.028702</td>\n",
              "      <td id=\"T_f64bb_row2_col14\" class=\"data row2 col14\" >0.088108</td>\n",
              "      <td id=\"T_f64bb_row2_col15\" class=\"data row2 col15\" >0.038186</td>\n",
              "      <td id=\"T_f64bb_row2_col16\" class=\"data row2 col16\" >0.068053</td>\n",
              "      <td id=\"T_f64bb_row2_col17\" class=\"data row2 col17\" >-0.002416</td>\n",
              "      <td id=\"T_f64bb_row2_col18\" class=\"data row2 col18\" >0.011481</td>\n",
              "      <td id=\"T_f64bb_row2_col19\" class=\"data row2 col19\" >0.002082</td>\n",
              "      <td id=\"T_f64bb_row2_col20\" class=\"data row2 col20\" >0.040716</td>\n",
              "      <td id=\"T_f64bb_row2_col21\" class=\"data row2 col21\" >-0.098255</td>\n",
              "      <td id=\"T_f64bb_row2_col22\" class=\"data row2 col22\" >-0.056478</td>\n",
              "      <td id=\"T_f64bb_row2_col23\" class=\"data row2 col23\" >-0.094982</td>\n",
              "      <td id=\"T_f64bb_row2_col24\" class=\"data row2 col24\" >0.012617</td>\n",
              "      <td id=\"T_f64bb_row2_col25\" class=\"data row2 col25\" >-0.085682</td>\n",
              "      <td id=\"T_f64bb_row2_col26\" class=\"data row2 col26\" >0.033865</td>\n",
              "      <td id=\"T_f64bb_row2_col27\" class=\"data row2 col27\" >0.129234</td>\n",
              "      <td id=\"T_f64bb_row2_col28\" class=\"data row2 col28\" >0.137976</td>\n",
              "      <td id=\"T_f64bb_row2_col29\" class=\"data row2 col29\" >-0.502052</td>\n",
              "      <td id=\"T_f64bb_row2_col30\" class=\"data row2 col30\" >0.051062</td>\n",
              "    </tr>\n",
              "    <tr>\n",
              "      <th id=\"T_f64bb_level0_row3\" class=\"row_heading level0 row3\" >V3</th>\n",
              "      <td id=\"T_f64bb_row3_col0\" class=\"data row3 col0\" >-0.473348</td>\n",
              "      <td id=\"T_f64bb_row3_col1\" class=\"data row3 col1\" >-0.412095</td>\n",
              "      <td id=\"T_f64bb_row3_col2\" class=\"data row3 col2\" >0.073967</td>\n",
              "      <td id=\"T_f64bb_row3_col3\" class=\"data row3 col3\" >1.000000</td>\n",
              "      <td id=\"T_f64bb_row3_col4\" class=\"data row3 col4\" >0.060812</td>\n",
              "      <td id=\"T_f64bb_row3_col5\" class=\"data row3 col5\" >-0.223849</td>\n",
              "      <td id=\"T_f64bb_row3_col6\" class=\"data row3 col6\" >0.171263</td>\n",
              "      <td id=\"T_f64bb_row3_col7\" class=\"data row3 col7\" >-0.074582</td>\n",
              "      <td id=\"T_f64bb_row3_col8\" class=\"data row3 col8\" >0.164374</td>\n",
              "      <td id=\"T_f64bb_row3_col9\" class=\"data row3 col9\" >-0.030876</td>\n",
              "      <td id=\"T_f64bb_row3_col10\" class=\"data row3 col10\" >-0.070960</td>\n",
              "      <td id=\"T_f64bb_row3_col11\" class=\"data row3 col11\" >0.056105</td>\n",
              "      <td id=\"T_f64bb_row3_col12\" class=\"data row3 col12\" >-0.051875</td>\n",
              "      <td id=\"T_f64bb_row3_col13\" class=\"data row3 col13\" >0.006839</td>\n",
              "      <td id=\"T_f64bb_row3_col14\" class=\"data row3 col14\" >-0.130565</td>\n",
              "      <td id=\"T_f64bb_row3_col15\" class=\"data row3 col15\" >0.051314</td>\n",
              "      <td id=\"T_f64bb_row3_col16\" class=\"data row3 col16\" >-0.046590</td>\n",
              "      <td id=\"T_f64bb_row3_col17\" class=\"data row3 col17\" >-0.035420</td>\n",
              "      <td id=\"T_f64bb_row3_col18\" class=\"data row3 col18\" >-0.045167</td>\n",
              "      <td id=\"T_f64bb_row3_col19\" class=\"data row3 col19\" >-0.015326</td>\n",
              "      <td id=\"T_f64bb_row3_col20\" class=\"data row3 col20\" >0.108271</td>\n",
              "      <td id=\"T_f64bb_row3_col21\" class=\"data row3 col21\" >-0.040234</td>\n",
              "      <td id=\"T_f64bb_row3_col22\" class=\"data row3 col22\" >0.004404</td>\n",
              "      <td id=\"T_f64bb_row3_col23\" class=\"data row3 col23\" >-0.140076</td>\n",
              "      <td id=\"T_f64bb_row3_col24\" class=\"data row3 col24\" >-0.000559</td>\n",
              "      <td id=\"T_f64bb_row3_col25\" class=\"data row3 col25\" >0.031854</td>\n",
              "      <td id=\"T_f64bb_row3_col26\" class=\"data row3 col26\" >-0.016689</td>\n",
              "      <td id=\"T_f64bb_row3_col27\" class=\"data row3 col27\" >0.140724</td>\n",
              "      <td id=\"T_f64bb_row3_col28\" class=\"data row3 col28\" >0.180169</td>\n",
              "      <td id=\"T_f64bb_row3_col29\" class=\"data row3 col29\" >-0.000236</td>\n",
              "      <td id=\"T_f64bb_row3_col30\" class=\"data row3 col30\" >-0.059278</td>\n",
              "    </tr>\n",
              "    <tr>\n",
              "      <th id=\"T_f64bb_level0_row4\" class=\"row_heading level0 row4\" >V4</th>\n",
              "      <td id=\"T_f64bb_row4_col0\" class=\"data row4 col0\" >-0.142156</td>\n",
              "      <td id=\"T_f64bb_row4_col1\" class=\"data row4 col1\" >0.101011</td>\n",
              "      <td id=\"T_f64bb_row4_col2\" class=\"data row4 col2\" >0.155042</td>\n",
              "      <td id=\"T_f64bb_row4_col3\" class=\"data row4 col3\" >0.060812</td>\n",
              "      <td id=\"T_f64bb_row4_col4\" class=\"data row4 col4\" >1.000000</td>\n",
              "      <td id=\"T_f64bb_row4_col5\" class=\"data row4 col5\" >0.021367</td>\n",
              "      <td id=\"T_f64bb_row4_col6\" class=\"data row4 col6\" >0.075185</td>\n",
              "      <td id=\"T_f64bb_row4_col7\" class=\"data row4 col7\" >0.059920</td>\n",
              "      <td id=\"T_f64bb_row4_col8\" class=\"data row4 col8\" >-0.009608</td>\n",
              "      <td id=\"T_f64bb_row4_col9\" class=\"data row4 col9\" >0.105248</td>\n",
              "      <td id=\"T_f64bb_row4_col10\" class=\"data row4 col10\" >0.025553</td>\n",
              "      <td id=\"T_f64bb_row4_col11\" class=\"data row4 col11\" >-0.013122</td>\n",
              "      <td id=\"T_f64bb_row4_col12\" class=\"data row4 col12\" >0.147738</td>\n",
              "      <td id=\"T_f64bb_row4_col13\" class=\"data row4 col13\" >-0.024538</td>\n",
              "      <td id=\"T_f64bb_row4_col14\" class=\"data row4 col14\" >0.099464</td>\n",
              "      <td id=\"T_f64bb_row4_col15\" class=\"data row4 col15\" >0.053405</td>\n",
              "      <td id=\"T_f64bb_row4_col16\" class=\"data row4 col16\" >-0.041414</td>\n",
              "      <td id=\"T_f64bb_row4_col17\" class=\"data row4 col17\" >0.049298</td>\n",
              "      <td id=\"T_f64bb_row4_col18\" class=\"data row4 col18\" >0.021175</td>\n",
              "      <td id=\"T_f64bb_row4_col19\" class=\"data row4 col19\" >-0.017866</td>\n",
              "      <td id=\"T_f64bb_row4_col20\" class=\"data row4 col20\" >-0.009598</td>\n",
              "      <td id=\"T_f64bb_row4_col21\" class=\"data row4 col21\" >0.038960</td>\n",
              "      <td id=\"T_f64bb_row4_col22\" class=\"data row4 col22\" >-0.004931</td>\n",
              "      <td id=\"T_f64bb_row4_col23\" class=\"data row4 col23\" >0.009615</td>\n",
              "      <td id=\"T_f64bb_row4_col24\" class=\"data row4 col24\" >-0.008782</td>\n",
              "      <td id=\"T_f64bb_row4_col25\" class=\"data row4 col25\" >0.060647</td>\n",
              "      <td id=\"T_f64bb_row4_col26\" class=\"data row4 col26\" >-0.064357</td>\n",
              "      <td id=\"T_f64bb_row4_col27\" class=\"data row4 col27\" >-0.033634</td>\n",
              "      <td id=\"T_f64bb_row4_col28\" class=\"data row4 col28\" >0.004757</td>\n",
              "      <td id=\"T_f64bb_row4_col29\" class=\"data row4 col29\" >-0.022117</td>\n",
              "      <td id=\"T_f64bb_row4_col30\" class=\"data row4 col30\" >0.063045</td>\n",
              "    </tr>\n",
              "    <tr>\n",
              "      <th id=\"T_f64bb_level0_row5\" class=\"row_heading level0 row5\" >V5</th>\n",
              "      <td id=\"T_f64bb_row5_col0\" class=\"data row5 col0\" >0.226004</td>\n",
              "      <td id=\"T_f64bb_row5_col1\" class=\"data row5 col1\" >-0.106632</td>\n",
              "      <td id=\"T_f64bb_row5_col2\" class=\"data row5 col2\" >0.342701</td>\n",
              "      <td id=\"T_f64bb_row5_col3\" class=\"data row5 col3\" >-0.223849</td>\n",
              "      <td id=\"T_f64bb_row5_col4\" class=\"data row5 col4\" >0.021367</td>\n",
              "      <td id=\"T_f64bb_row5_col5\" class=\"data row5 col5\" >1.000000</td>\n",
              "      <td id=\"T_f64bb_row5_col6\" class=\"data row5 col6\" >-0.007577</td>\n",
              "      <td id=\"T_f64bb_row5_col7\" class=\"data row5 col7\" >0.431573</td>\n",
              "      <td id=\"T_f64bb_row5_col8\" class=\"data row5 col8\" >-0.057022</td>\n",
              "      <td id=\"T_f64bb_row5_col9\" class=\"data row5 col9\" >-0.056580</td>\n",
              "      <td id=\"T_f64bb_row5_col10\" class=\"data row5 col10\" >-0.154910</td>\n",
              "      <td id=\"T_f64bb_row5_col11\" class=\"data row5 col11\" >0.010749</td>\n",
              "      <td id=\"T_f64bb_row5_col12\" class=\"data row5 col12\" >-0.048560</td>\n",
              "      <td id=\"T_f64bb_row5_col13\" class=\"data row5 col13\" >0.019549</td>\n",
              "      <td id=\"T_f64bb_row5_col14\" class=\"data row5 col14\" >0.035107</td>\n",
              "      <td id=\"T_f64bb_row5_col15\" class=\"data row5 col15\" >-0.041029</td>\n",
              "      <td id=\"T_f64bb_row5_col16\" class=\"data row5 col16\" >-0.007564</td>\n",
              "      <td id=\"T_f64bb_row5_col17\" class=\"data row5 col17\" >-0.145735</td>\n",
              "      <td id=\"T_f64bb_row5_col18\" class=\"data row5 col18\" >-0.016252</td>\n",
              "      <td id=\"T_f64bb_row5_col19\" class=\"data row5 col19\" >0.012257</td>\n",
              "      <td id=\"T_f64bb_row5_col20\" class=\"data row5 col20\" >0.056719</td>\n",
              "      <td id=\"T_f64bb_row5_col21\" class=\"data row5 col21\" >-0.040364</td>\n",
              "      <td id=\"T_f64bb_row5_col22\" class=\"data row5 col22\" >-0.010920</td>\n",
              "      <td id=\"T_f64bb_row5_col23\" class=\"data row5 col23\" >-0.108300</td>\n",
              "      <td id=\"T_f64bb_row5_col24\" class=\"data row5 col24\" >-0.023076</td>\n",
              "      <td id=\"T_f64bb_row5_col25\" class=\"data row5 col25\" >-0.015618</td>\n",
              "      <td id=\"T_f64bb_row5_col26\" class=\"data row5 col26\" >0.029513</td>\n",
              "      <td id=\"T_f64bb_row5_col27\" class=\"data row5 col27\" >0.012883</td>\n",
              "      <td id=\"T_f64bb_row5_col28\" class=\"data row5 col28\" >-0.027806</td>\n",
              "      <td id=\"T_f64bb_row5_col29\" class=\"data row5 col29\" >-0.314061</td>\n",
              "      <td id=\"T_f64bb_row5_col30\" class=\"data row5 col30\" >-0.030147</td>\n",
              "    </tr>\n",
              "    <tr>\n",
              "      <th id=\"T_f64bb_level0_row6\" class=\"row_heading level0 row6\" >V6</th>\n",
              "      <td id=\"T_f64bb_row6_col0\" class=\"data row6 col0\" >-0.111408</td>\n",
              "      <td id=\"T_f64bb_row6_col1\" class=\"data row6 col1\" >-0.086561</td>\n",
              "      <td id=\"T_f64bb_row6_col2\" class=\"data row6 col2\" >-0.110393</td>\n",
              "      <td id=\"T_f64bb_row6_col3\" class=\"data row6 col3\" >0.171263</td>\n",
              "      <td id=\"T_f64bb_row6_col4\" class=\"data row6 col4\" >0.075185</td>\n",
              "      <td id=\"T_f64bb_row6_col5\" class=\"data row6 col5\" >-0.007577</td>\n",
              "      <td id=\"T_f64bb_row6_col6\" class=\"data row6 col6\" >1.000000</td>\n",
              "      <td id=\"T_f64bb_row6_col7\" class=\"data row6 col7\" >-0.292680</td>\n",
              "      <td id=\"T_f64bb_row6_col8\" class=\"data row6 col8\" >0.444053</td>\n",
              "      <td id=\"T_f64bb_row6_col9\" class=\"data row6 col9\" >0.028864</td>\n",
              "      <td id=\"T_f64bb_row6_col10\" class=\"data row6 col10\" >0.063326</td>\n",
              "      <td id=\"T_f64bb_row6_col11\" class=\"data row6 col11\" >0.059672</td>\n",
              "      <td id=\"T_f64bb_row6_col12\" class=\"data row6 col12\" >0.037176</td>\n",
              "      <td id=\"T_f64bb_row6_col13\" class=\"data row6 col13\" >-0.004068</td>\n",
              "      <td id=\"T_f64bb_row6_col14\" class=\"data row6 col14\" >-0.068788</td>\n",
              "      <td id=\"T_f64bb_row6_col15\" class=\"data row6 col15\" >-0.046259</td>\n",
              "      <td id=\"T_f64bb_row6_col16\" class=\"data row6 col16\" >-0.020208</td>\n",
              "      <td id=\"T_f64bb_row6_col17\" class=\"data row6 col17\" >-0.027470</td>\n",
              "      <td id=\"T_f64bb_row6_col18\" class=\"data row6 col18\" >0.052293</td>\n",
              "      <td id=\"T_f64bb_row6_col19\" class=\"data row6 col19\" >0.031965</td>\n",
              "      <td id=\"T_f64bb_row6_col20\" class=\"data row6 col20\" >0.052824</td>\n",
              "      <td id=\"T_f64bb_row6_col21\" class=\"data row6 col21\" >0.034595</td>\n",
              "      <td id=\"T_f64bb_row6_col22\" class=\"data row6 col22\" >0.040370</td>\n",
              "      <td id=\"T_f64bb_row6_col23\" class=\"data row6 col23\" >-0.050293</td>\n",
              "      <td id=\"T_f64bb_row6_col24\" class=\"data row6 col24\" >-0.135166</td>\n",
              "      <td id=\"T_f64bb_row6_col25\" class=\"data row6 col25\" >-0.011131</td>\n",
              "      <td id=\"T_f64bb_row6_col26\" class=\"data row6 col26\" >-0.023932</td>\n",
              "      <td id=\"T_f64bb_row6_col27\" class=\"data row6 col27\" >0.073772</td>\n",
              "      <td id=\"T_f64bb_row6_col28\" class=\"data row6 col28\" >0.020459</td>\n",
              "      <td id=\"T_f64bb_row6_col29\" class=\"data row6 col29\" >0.205452</td>\n",
              "      <td id=\"T_f64bb_row6_col30\" class=\"data row6 col30\" >-0.038410</td>\n",
              "    </tr>\n",
              "    <tr>\n",
              "      <th id=\"T_f64bb_level0_row7\" class=\"row_heading level0 row7\" >V7</th>\n",
              "      <td id=\"T_f64bb_row7_col0\" class=\"data row7 col0\" >0.116722</td>\n",
              "      <td id=\"T_f64bb_row7_col1\" class=\"data row7 col1\" >-0.227650</td>\n",
              "      <td id=\"T_f64bb_row7_col2\" class=\"data row7 col2\" >0.426320</td>\n",
              "      <td id=\"T_f64bb_row7_col3\" class=\"data row7 col3\" >-0.074582</td>\n",
              "      <td id=\"T_f64bb_row7_col4\" class=\"data row7 col4\" >0.059920</td>\n",
              "      <td id=\"T_f64bb_row7_col5\" class=\"data row7 col5\" >0.431573</td>\n",
              "      <td id=\"T_f64bb_row7_col6\" class=\"data row7 col6\" >-0.292680</td>\n",
              "      <td id=\"T_f64bb_row7_col7\" class=\"data row7 col7\" >1.000000</td>\n",
              "      <td id=\"T_f64bb_row7_col8\" class=\"data row7 col8\" >-0.389213</td>\n",
              "      <td id=\"T_f64bb_row7_col9\" class=\"data row7 col9\" >-0.100252</td>\n",
              "      <td id=\"T_f64bb_row7_col10\" class=\"data row7 col10\" >-0.207930</td>\n",
              "      <td id=\"T_f64bb_row7_col11\" class=\"data row7 col11\" >0.003714</td>\n",
              "      <td id=\"T_f64bb_row7_col12\" class=\"data row7 col12\" >-0.043924</td>\n",
              "      <td id=\"T_f64bb_row7_col13\" class=\"data row7 col13\" >-0.015749</td>\n",
              "      <td id=\"T_f64bb_row7_col14\" class=\"data row7 col14\" >0.058462</td>\n",
              "      <td id=\"T_f64bb_row7_col15\" class=\"data row7 col15\" >-0.051186</td>\n",
              "      <td id=\"T_f64bb_row7_col16\" class=\"data row7 col16\" >-0.120372</td>\n",
              "      <td id=\"T_f64bb_row7_col17\" class=\"data row7 col17\" >-0.147005</td>\n",
              "      <td id=\"T_f64bb_row7_col18\" class=\"data row7 col18\" >-0.070876</td>\n",
              "      <td id=\"T_f64bb_row7_col19\" class=\"data row7 col19\" >0.000808</td>\n",
              "      <td id=\"T_f64bb_row7_col20\" class=\"data row7 col20\" >0.160522</td>\n",
              "      <td id=\"T_f64bb_row7_col21\" class=\"data row7 col21\" >-0.022250</td>\n",
              "      <td id=\"T_f64bb_row7_col22\" class=\"data row7 col22\" >-0.023750</td>\n",
              "      <td id=\"T_f64bb_row7_col23\" class=\"data row7 col23\" >-0.186343</td>\n",
              "      <td id=\"T_f64bb_row7_col24\" class=\"data row7 col24\" >-0.012879</td>\n",
              "      <td id=\"T_f64bb_row7_col25\" class=\"data row7 col25\" >-0.046468</td>\n",
              "      <td id=\"T_f64bb_row7_col26\" class=\"data row7 col26\" >0.016724</td>\n",
              "      <td id=\"T_f64bb_row7_col27\" class=\"data row7 col27\" >-0.094494</td>\n",
              "      <td id=\"T_f64bb_row7_col28\" class=\"data row7 col28\" >0.056405</td>\n",
              "      <td id=\"T_f64bb_row7_col29\" class=\"data row7 col29\" >-0.030003</td>\n",
              "      <td id=\"T_f64bb_row7_col30\" class=\"data row7 col30\" >-0.048308</td>\n",
              "    </tr>\n",
              "    <tr>\n",
              "      <th id=\"T_f64bb_level0_row8\" class=\"row_heading level0 row8\" >V8</th>\n",
              "      <td id=\"T_f64bb_row8_col0\" class=\"data row8 col0\" >-0.103882</td>\n",
              "      <td id=\"T_f64bb_row8_col1\" class=\"data row8 col1\" >-0.236140</td>\n",
              "      <td id=\"T_f64bb_row8_col2\" class=\"data row8 col2\" >0.006980</td>\n",
              "      <td id=\"T_f64bb_row8_col3\" class=\"data row8 col3\" >0.164374</td>\n",
              "      <td id=\"T_f64bb_row8_col4\" class=\"data row8 col4\" >-0.009608</td>\n",
              "      <td id=\"T_f64bb_row8_col5\" class=\"data row8 col5\" >-0.057022</td>\n",
              "      <td id=\"T_f64bb_row8_col6\" class=\"data row8 col6\" >0.444053</td>\n",
              "      <td id=\"T_f64bb_row8_col7\" class=\"data row8 col7\" >-0.389213</td>\n",
              "      <td id=\"T_f64bb_row8_col8\" class=\"data row8 col8\" >1.000000</td>\n",
              "      <td id=\"T_f64bb_row8_col9\" class=\"data row8 col9\" >-0.002511</td>\n",
              "      <td id=\"T_f64bb_row8_col10\" class=\"data row8 col10\" >-0.120992</td>\n",
              "      <td id=\"T_f64bb_row8_col11\" class=\"data row8 col11\" >0.053048</td>\n",
              "      <td id=\"T_f64bb_row8_col12\" class=\"data row8 col12\" >0.106016</td>\n",
              "      <td id=\"T_f64bb_row8_col13\" class=\"data row8 col13\" >-0.144864</td>\n",
              "      <td id=\"T_f64bb_row8_col14\" class=\"data row8 col14\" >0.041255</td>\n",
              "      <td id=\"T_f64bb_row8_col15\" class=\"data row8 col15\" >-0.016752</td>\n",
              "      <td id=\"T_f64bb_row8_col16\" class=\"data row8 col16\" >0.089504</td>\n",
              "      <td id=\"T_f64bb_row8_col17\" class=\"data row8 col17\" >0.074985</td>\n",
              "      <td id=\"T_f64bb_row8_col18\" class=\"data row8 col18\" >0.066508</td>\n",
              "      <td id=\"T_f64bb_row8_col19\" class=\"data row8 col19\" >-0.033248</td>\n",
              "      <td id=\"T_f64bb_row8_col20\" class=\"data row8 col20\" >0.006028</td>\n",
              "      <td id=\"T_f64bb_row8_col21\" class=\"data row8 col21\" >0.076569</td>\n",
              "      <td id=\"T_f64bb_row8_col22\" class=\"data row8 col22\" >0.019775</td>\n",
              "      <td id=\"T_f64bb_row8_col23\" class=\"data row8 col23\" >0.075212</td>\n",
              "      <td id=\"T_f64bb_row8_col24\" class=\"data row8 col24\" >-0.024536</td>\n",
              "      <td id=\"T_f64bb_row8_col25\" class=\"data row8 col25\" >-0.074303</td>\n",
              "      <td id=\"T_f64bb_row8_col26\" class=\"data row8 col26\" >-0.007648</td>\n",
              "      <td id=\"T_f64bb_row8_col27\" class=\"data row8 col27\" >0.189916</td>\n",
              "      <td id=\"T_f64bb_row8_col28\" class=\"data row8 col28\" >0.089700</td>\n",
              "      <td id=\"T_f64bb_row8_col29\" class=\"data row8 col29\" >0.004371</td>\n",
              "      <td id=\"T_f64bb_row8_col30\" class=\"data row8 col30\" >0.022706</td>\n",
              "    </tr>\n",
              "    <tr>\n",
              "      <th id=\"T_f64bb_level0_row9\" class=\"row_heading level0 row9\" >V9</th>\n",
              "      <td id=\"T_f64bb_row9_col0\" class=\"data row9 col0\" >0.017986</td>\n",
              "      <td id=\"T_f64bb_row9_col1\" class=\"data row9 col1\" >0.138614</td>\n",
              "      <td id=\"T_f64bb_row9_col2\" class=\"data row9 col2\" >-0.077880</td>\n",
              "      <td id=\"T_f64bb_row9_col3\" class=\"data row9 col3\" >-0.030876</td>\n",
              "      <td id=\"T_f64bb_row9_col4\" class=\"data row9 col4\" >0.105248</td>\n",
              "      <td id=\"T_f64bb_row9_col5\" class=\"data row9 col5\" >-0.056580</td>\n",
              "      <td id=\"T_f64bb_row9_col6\" class=\"data row9 col6\" >0.028864</td>\n",
              "      <td id=\"T_f64bb_row9_col7\" class=\"data row9 col7\" >-0.100252</td>\n",
              "      <td id=\"T_f64bb_row9_col8\" class=\"data row9 col8\" >-0.002511</td>\n",
              "      <td id=\"T_f64bb_row9_col9\" class=\"data row9 col9\" >1.000000</td>\n",
              "      <td id=\"T_f64bb_row9_col10\" class=\"data row9 col10\" >-0.291153</td>\n",
              "      <td id=\"T_f64bb_row9_col11\" class=\"data row9 col11\" >-0.031365</td>\n",
              "      <td id=\"T_f64bb_row9_col12\" class=\"data row9 col12\" >0.103193</td>\n",
              "      <td id=\"T_f64bb_row9_col13\" class=\"data row9 col13\" >-0.047521</td>\n",
              "      <td id=\"T_f64bb_row9_col14\" class=\"data row9 col14\" >-0.031144</td>\n",
              "      <td id=\"T_f64bb_row9_col15\" class=\"data row9 col15\" >-0.004438</td>\n",
              "      <td id=\"T_f64bb_row9_col16\" class=\"data row9 col16\" >-0.031735</td>\n",
              "      <td id=\"T_f64bb_row9_col17\" class=\"data row9 col17\" >-0.068576</td>\n",
              "      <td id=\"T_f64bb_row9_col18\" class=\"data row9 col18\" >-0.014809</td>\n",
              "      <td id=\"T_f64bb_row9_col19\" class=\"data row9 col19\" >0.003057</td>\n",
              "      <td id=\"T_f64bb_row9_col20\" class=\"data row9 col20\" >-0.015357</td>\n",
              "      <td id=\"T_f64bb_row9_col21\" class=\"data row9 col21\" >-0.065773</td>\n",
              "      <td id=\"T_f64bb_row9_col22\" class=\"data row9 col22\" >0.001958</td>\n",
              "      <td id=\"T_f64bb_row9_col23\" class=\"data row9 col23\" >0.074164</td>\n",
              "      <td id=\"T_f64bb_row9_col24\" class=\"data row9 col24\" >-0.001572</td>\n",
              "      <td id=\"T_f64bb_row9_col25\" class=\"data row9 col25\" >-0.022575</td>\n",
              "      <td id=\"T_f64bb_row9_col26\" class=\"data row9 col26\" >0.026677</td>\n",
              "      <td id=\"T_f64bb_row9_col27\" class=\"data row9 col27\" >-0.001804</td>\n",
              "      <td id=\"T_f64bb_row9_col28\" class=\"data row9 col28\" >-0.103743</td>\n",
              "      <td id=\"T_f64bb_row9_col29\" class=\"data row9 col29\" >-0.077437</td>\n",
              "      <td id=\"T_f64bb_row9_col30\" class=\"data row9 col30\" >-0.049499</td>\n",
              "    </tr>\n",
              "    <tr>\n",
              "      <th id=\"T_f64bb_level0_row10\" class=\"row_heading level0 row10\" >V10</th>\n",
              "      <td id=\"T_f64bb_row10_col0\" class=\"data row10 col0\" >0.014692</td>\n",
              "      <td id=\"T_f64bb_row10_col1\" class=\"data row10 col1\" >0.231636</td>\n",
              "      <td id=\"T_f64bb_row10_col2\" class=\"data row10 col2\" >-0.212437</td>\n",
              "      <td id=\"T_f64bb_row10_col3\" class=\"data row10 col3\" >-0.070960</td>\n",
              "      <td id=\"T_f64bb_row10_col4\" class=\"data row10 col4\" >0.025553</td>\n",
              "      <td id=\"T_f64bb_row10_col5\" class=\"data row10 col5\" >-0.154910</td>\n",
              "      <td id=\"T_f64bb_row10_col6\" class=\"data row10 col6\" >0.063326</td>\n",
              "      <td id=\"T_f64bb_row10_col7\" class=\"data row10 col7\" >-0.207930</td>\n",
              "      <td id=\"T_f64bb_row10_col8\" class=\"data row10 col8\" >-0.120992</td>\n",
              "      <td id=\"T_f64bb_row10_col9\" class=\"data row10 col9\" >-0.291153</td>\n",
              "      <td id=\"T_f64bb_row10_col10\" class=\"data row10 col10\" >1.000000</td>\n",
              "      <td id=\"T_f64bb_row10_col11\" class=\"data row10 col11\" >0.034302</td>\n",
              "      <td id=\"T_f64bb_row10_col12\" class=\"data row10 col12\" >-0.164351</td>\n",
              "      <td id=\"T_f64bb_row10_col13\" class=\"data row10 col13\" >0.000447</td>\n",
              "      <td id=\"T_f64bb_row10_col14\" class=\"data row10 col14\" >0.004775</td>\n",
              "      <td id=\"T_f64bb_row10_col15\" class=\"data row10 col15\" >-0.027435</td>\n",
              "      <td id=\"T_f64bb_row10_col16\" class=\"data row10 col16\" >-0.055068</td>\n",
              "      <td id=\"T_f64bb_row10_col17\" class=\"data row10 col17\" >-0.147597</td>\n",
              "      <td id=\"T_f64bb_row10_col18\" class=\"data row10 col18\" >-0.053661</td>\n",
              "      <td id=\"T_f64bb_row10_col19\" class=\"data row10 col19\" >0.039552</td>\n",
              "      <td id=\"T_f64bb_row10_col20\" class=\"data row10 col20\" >-0.087240</td>\n",
              "      <td id=\"T_f64bb_row10_col21\" class=\"data row10 col21\" >-0.046775</td>\n",
              "      <td id=\"T_f64bb_row10_col22\" class=\"data row10 col22\" >0.042022</td>\n",
              "      <td id=\"T_f64bb_row10_col23\" class=\"data row10 col23\" >0.077078</td>\n",
              "      <td id=\"T_f64bb_row10_col24\" class=\"data row10 col24\" >-0.007778</td>\n",
              "      <td id=\"T_f64bb_row10_col25\" class=\"data row10 col25\" >-0.016904</td>\n",
              "      <td id=\"T_f64bb_row10_col26\" class=\"data row10 col26\" >-0.026877</td>\n",
              "      <td id=\"T_f64bb_row10_col27\" class=\"data row10 col27\" >-0.020471</td>\n",
              "      <td id=\"T_f64bb_row10_col28\" class=\"data row10 col28\" >-0.130545</td>\n",
              "      <td id=\"T_f64bb_row10_col29\" class=\"data row10 col29\" >0.054835</td>\n",
              "      <td id=\"T_f64bb_row10_col30\" class=\"data row10 col30\" >-0.059564</td>\n",
              "    </tr>\n",
              "    <tr>\n",
              "      <th id=\"T_f64bb_level0_row11\" class=\"row_heading level0 row11\" >V11</th>\n",
              "      <td id=\"T_f64bb_row11_col0\" class=\"data row11 col0\" >-0.227116</td>\n",
              "      <td id=\"T_f64bb_row11_col1\" class=\"data row11 col1\" >0.013750</td>\n",
              "      <td id=\"T_f64bb_row11_col2\" class=\"data row11 col2\" >-0.013464</td>\n",
              "      <td id=\"T_f64bb_row11_col3\" class=\"data row11 col3\" >0.056105</td>\n",
              "      <td id=\"T_f64bb_row11_col4\" class=\"data row11 col4\" >-0.013122</td>\n",
              "      <td id=\"T_f64bb_row11_col5\" class=\"data row11 col5\" >0.010749</td>\n",
              "      <td id=\"T_f64bb_row11_col6\" class=\"data row11 col6\" >0.059672</td>\n",
              "      <td id=\"T_f64bb_row11_col7\" class=\"data row11 col7\" >0.003714</td>\n",
              "      <td id=\"T_f64bb_row11_col8\" class=\"data row11 col8\" >0.053048</td>\n",
              "      <td id=\"T_f64bb_row11_col9\" class=\"data row11 col9\" >-0.031365</td>\n",
              "      <td id=\"T_f64bb_row11_col10\" class=\"data row11 col10\" >0.034302</td>\n",
              "      <td id=\"T_f64bb_row11_col11\" class=\"data row11 col11\" >1.000000</td>\n",
              "      <td id=\"T_f64bb_row11_col12\" class=\"data row11 col12\" >0.196537</td>\n",
              "      <td id=\"T_f64bb_row11_col13\" class=\"data row11 col13\" >-0.035353</td>\n",
              "      <td id=\"T_f64bb_row11_col14\" class=\"data row11 col14\" >0.151355</td>\n",
              "      <td id=\"T_f64bb_row11_col15\" class=\"data row11 col15\" >-0.036396</td>\n",
              "      <td id=\"T_f64bb_row11_col16\" class=\"data row11 col16\" >0.069376</td>\n",
              "      <td id=\"T_f64bb_row11_col17\" class=\"data row11 col17\" >0.073664</td>\n",
              "      <td id=\"T_f64bb_row11_col18\" class=\"data row11 col18\" >0.069107</td>\n",
              "      <td id=\"T_f64bb_row11_col19\" class=\"data row11 col19\" >0.009885</td>\n",
              "      <td id=\"T_f64bb_row11_col20\" class=\"data row11 col20\" >0.042478</td>\n",
              "      <td id=\"T_f64bb_row11_col21\" class=\"data row11 col21\" >-0.001111</td>\n",
              "      <td id=\"T_f64bb_row11_col22\" class=\"data row11 col22\" >0.000753</td>\n",
              "      <td id=\"T_f64bb_row11_col23\" class=\"data row11 col23\" >0.031314</td>\n",
              "      <td id=\"T_f64bb_row11_col24\" class=\"data row11 col24\" >-0.005295</td>\n",
              "      <td id=\"T_f64bb_row11_col25\" class=\"data row11 col25\" >-0.005389</td>\n",
              "      <td id=\"T_f64bb_row11_col26\" class=\"data row11 col26\" >-0.005930</td>\n",
              "      <td id=\"T_f64bb_row11_col27\" class=\"data row11 col27\" >-0.026304</td>\n",
              "      <td id=\"T_f64bb_row11_col28\" class=\"data row11 col28\" >-0.027859</td>\n",
              "      <td id=\"T_f64bb_row11_col29\" class=\"data row11 col29\" >-0.044158</td>\n",
              "      <td id=\"T_f64bb_row11_col30\" class=\"data row11 col30\" >0.060143</td>\n",
              "    </tr>\n",
              "    <tr>\n",
              "      <th id=\"T_f64bb_level0_row12\" class=\"row_heading level0 row12\" >V12</th>\n",
              "      <td id=\"T_f64bb_row12_col0\" class=\"data row12 col0\" >0.073665</td>\n",
              "      <td id=\"T_f64bb_row12_col1\" class=\"data row12 col1\" >0.003095</td>\n",
              "      <td id=\"T_f64bb_row12_col2\" class=\"data row12 col2\" >0.052846</td>\n",
              "      <td id=\"T_f64bb_row12_col3\" class=\"data row12 col3\" >-0.051875</td>\n",
              "      <td id=\"T_f64bb_row12_col4\" class=\"data row12 col4\" >0.147738</td>\n",
              "      <td id=\"T_f64bb_row12_col5\" class=\"data row12 col5\" >-0.048560</td>\n",
              "      <td id=\"T_f64bb_row12_col6\" class=\"data row12 col6\" >0.037176</td>\n",
              "      <td id=\"T_f64bb_row12_col7\" class=\"data row12 col7\" >-0.043924</td>\n",
              "      <td id=\"T_f64bb_row12_col8\" class=\"data row12 col8\" >0.106016</td>\n",
              "      <td id=\"T_f64bb_row12_col9\" class=\"data row12 col9\" >0.103193</td>\n",
              "      <td id=\"T_f64bb_row12_col10\" class=\"data row12 col10\" >-0.164351</td>\n",
              "      <td id=\"T_f64bb_row12_col11\" class=\"data row12 col11\" >0.196537</td>\n",
              "      <td id=\"T_f64bb_row12_col12\" class=\"data row12 col12\" >1.000000</td>\n",
              "      <td id=\"T_f64bb_row12_col13\" class=\"data row12 col13\" >0.187426</td>\n",
              "      <td id=\"T_f64bb_row12_col14\" class=\"data row12 col14\" >-0.052563</td>\n",
              "      <td id=\"T_f64bb_row12_col15\" class=\"data row12 col15\" >-0.068740</td>\n",
              "      <td id=\"T_f64bb_row12_col16\" class=\"data row12 col16\" >-0.118218</td>\n",
              "      <td id=\"T_f64bb_row12_col17\" class=\"data row12 col17\" >-0.204867</td>\n",
              "      <td id=\"T_f64bb_row12_col18\" class=\"data row12 col18\" >-0.065605</td>\n",
              "      <td id=\"T_f64bb_row12_col19\" class=\"data row12 col19\" >0.019610</td>\n",
              "      <td id=\"T_f64bb_row12_col20\" class=\"data row12 col20\" >0.013717</td>\n",
              "      <td id=\"T_f64bb_row12_col21\" class=\"data row12 col21\" >0.030667</td>\n",
              "      <td id=\"T_f64bb_row12_col22\" class=\"data row12 col22\" >-0.014063</td>\n",
              "      <td id=\"T_f64bb_row12_col23\" class=\"data row12 col23\" >0.081191</td>\n",
              "      <td id=\"T_f64bb_row12_col24\" class=\"data row12 col24\" >-0.001926</td>\n",
              "      <td id=\"T_f64bb_row12_col25\" class=\"data row12 col25\" >0.003252</td>\n",
              "      <td id=\"T_f64bb_row12_col26\" class=\"data row12 col26\" >0.011659</td>\n",
              "      <td id=\"T_f64bb_row12_col27\" class=\"data row12 col27\" >0.028654</td>\n",
              "      <td id=\"T_f64bb_row12_col28\" class=\"data row12 col28\" >-0.007827</td>\n",
              "      <td id=\"T_f64bb_row12_col29\" class=\"data row12 col29\" >-0.038711</td>\n",
              "      <td id=\"T_f64bb_row12_col30\" class=\"data row12 col30\" >-0.062870</td>\n",
              "    </tr>\n",
              "    <tr>\n",
              "      <th id=\"T_f64bb_level0_row13\" class=\"row_heading level0 row13\" >V13</th>\n",
              "      <td id=\"T_f64bb_row13_col0\" class=\"data row13 col0\" >-0.045340</td>\n",
              "      <td id=\"T_f64bb_row13_col1\" class=\"data row13 col1\" >0.047839</td>\n",
              "      <td id=\"T_f64bb_row13_col2\" class=\"data row13 col2\" >0.028702</td>\n",
              "      <td id=\"T_f64bb_row13_col3\" class=\"data row13 col3\" >0.006839</td>\n",
              "      <td id=\"T_f64bb_row13_col4\" class=\"data row13 col4\" >-0.024538</td>\n",
              "      <td id=\"T_f64bb_row13_col5\" class=\"data row13 col5\" >0.019549</td>\n",
              "      <td id=\"T_f64bb_row13_col6\" class=\"data row13 col6\" >-0.004068</td>\n",
              "      <td id=\"T_f64bb_row13_col7\" class=\"data row13 col7\" >-0.015749</td>\n",
              "      <td id=\"T_f64bb_row13_col8\" class=\"data row13 col8\" >-0.144864</td>\n",
              "      <td id=\"T_f64bb_row13_col9\" class=\"data row13 col9\" >-0.047521</td>\n",
              "      <td id=\"T_f64bb_row13_col10\" class=\"data row13 col10\" >0.000447</td>\n",
              "      <td id=\"T_f64bb_row13_col11\" class=\"data row13 col11\" >-0.035353</td>\n",
              "      <td id=\"T_f64bb_row13_col12\" class=\"data row13 col12\" >0.187426</td>\n",
              "      <td id=\"T_f64bb_row13_col13\" class=\"data row13 col13\" >1.000000</td>\n",
              "      <td id=\"T_f64bb_row13_col14\" class=\"data row13 col14\" >-0.093152</td>\n",
              "      <td id=\"T_f64bb_row13_col15\" class=\"data row13 col15\" >0.014484</td>\n",
              "      <td id=\"T_f64bb_row13_col16\" class=\"data row13 col16\" >0.000260</td>\n",
              "      <td id=\"T_f64bb_row13_col17\" class=\"data row13 col17\" >-0.016981</td>\n",
              "      <td id=\"T_f64bb_row13_col18\" class=\"data row13 col18\" >-0.009849</td>\n",
              "      <td id=\"T_f64bb_row13_col19\" class=\"data row13 col19\" >-0.006247</td>\n",
              "      <td id=\"T_f64bb_row13_col20\" class=\"data row13 col20\" >0.100839</td>\n",
              "      <td id=\"T_f64bb_row13_col21\" class=\"data row13 col21\" >-0.049897</td>\n",
              "      <td id=\"T_f64bb_row13_col22\" class=\"data row13 col22\" >0.006830</td>\n",
              "      <td id=\"T_f64bb_row13_col23\" class=\"data row13 col23\" >0.002265</td>\n",
              "      <td id=\"T_f64bb_row13_col24\" class=\"data row13 col24\" >0.004753</td>\n",
              "      <td id=\"T_f64bb_row13_col25\" class=\"data row13 col25\" >0.002930</td>\n",
              "      <td id=\"T_f64bb_row13_col26\" class=\"data row13 col26\" >-0.003904</td>\n",
              "      <td id=\"T_f64bb_row13_col27\" class=\"data row13 col27\" >0.003783</td>\n",
              "      <td id=\"T_f64bb_row13_col28\" class=\"data row13 col28\" >-0.006607</td>\n",
              "      <td id=\"T_f64bb_row13_col29\" class=\"data row13 col29\" >-0.005677</td>\n",
              "      <td id=\"T_f64bb_row13_col30\" class=\"data row13 col30\" >-0.003653</td>\n",
              "    </tr>\n",
              "    <tr>\n",
              "      <th id=\"T_f64bb_level0_row14\" class=\"row_heading level0 row14\" >V14</th>\n",
              "      <td id=\"T_f64bb_row14_col0\" class=\"data row14 col0\" >-0.092388</td>\n",
              "      <td id=\"T_f64bb_row14_col1\" class=\"data row14 col1\" >-0.024329</td>\n",
              "      <td id=\"T_f64bb_row14_col2\" class=\"data row14 col2\" >0.088108</td>\n",
              "      <td id=\"T_f64bb_row14_col3\" class=\"data row14 col3\" >-0.130565</td>\n",
              "      <td id=\"T_f64bb_row14_col4\" class=\"data row14 col4\" >0.099464</td>\n",
              "      <td id=\"T_f64bb_row14_col5\" class=\"data row14 col5\" >0.035107</td>\n",
              "      <td id=\"T_f64bb_row14_col6\" class=\"data row14 col6\" >-0.068788</td>\n",
              "      <td id=\"T_f64bb_row14_col7\" class=\"data row14 col7\" >0.058462</td>\n",
              "      <td id=\"T_f64bb_row14_col8\" class=\"data row14 col8\" >0.041255</td>\n",
              "      <td id=\"T_f64bb_row14_col9\" class=\"data row14 col9\" >-0.031144</td>\n",
              "      <td id=\"T_f64bb_row14_col10\" class=\"data row14 col10\" >0.004775</td>\n",
              "      <td id=\"T_f64bb_row14_col11\" class=\"data row14 col11\" >0.151355</td>\n",
              "      <td id=\"T_f64bb_row14_col12\" class=\"data row14 col12\" >-0.052563</td>\n",
              "      <td id=\"T_f64bb_row14_col13\" class=\"data row14 col13\" >-0.093152</td>\n",
              "      <td id=\"T_f64bb_row14_col14\" class=\"data row14 col14\" >1.000000</td>\n",
              "      <td id=\"T_f64bb_row14_col15\" class=\"data row14 col15\" >0.019141</td>\n",
              "      <td id=\"T_f64bb_row14_col16\" class=\"data row14 col16\" >-0.127108</td>\n",
              "      <td id=\"T_f64bb_row14_col17\" class=\"data row14 col17\" >-0.165207</td>\n",
              "      <td id=\"T_f64bb_row14_col18\" class=\"data row14 col18\" >-0.027373</td>\n",
              "      <td id=\"T_f64bb_row14_col19\" class=\"data row14 col19\" >0.021479</td>\n",
              "      <td id=\"T_f64bb_row14_col20\" class=\"data row14 col20\" >-0.106410</td>\n",
              "      <td id=\"T_f64bb_row14_col21\" class=\"data row14 col21\" >0.084425</td>\n",
              "      <td id=\"T_f64bb_row14_col22\" class=\"data row14 col22\" >-0.008544</td>\n",
              "      <td id=\"T_f64bb_row14_col23\" class=\"data row14 col23\" >0.016451</td>\n",
              "      <td id=\"T_f64bb_row14_col24\" class=\"data row14 col24\" >-0.022123</td>\n",
              "      <td id=\"T_f64bb_row14_col25\" class=\"data row14 col25\" >0.035528</td>\n",
              "      <td id=\"T_f64bb_row14_col26\" class=\"data row14 col26\" >-0.004562</td>\n",
              "      <td id=\"T_f64bb_row14_col27\" class=\"data row14 col27\" >-0.090996</td>\n",
              "      <td id=\"T_f64bb_row14_col28\" class=\"data row14 col28\" >-0.018130</td>\n",
              "      <td id=\"T_f64bb_row14_col29\" class=\"data row14 col29\" >-0.004950</td>\n",
              "      <td id=\"T_f64bb_row14_col30\" class=\"data row14 col30\" >-0.064613</td>\n",
              "    </tr>\n",
              "    <tr>\n",
              "      <th id=\"T_f64bb_level0_row15\" class=\"row_heading level0 row15\" >V15</th>\n",
              "      <td id=\"T_f64bb_row15_col0\" class=\"data row15 col0\" >-0.205421</td>\n",
              "      <td id=\"T_f64bb_row15_col1\" class=\"data row15 col1\" >0.030048</td>\n",
              "      <td id=\"T_f64bb_row15_col2\" class=\"data row15 col2\" >0.038186</td>\n",
              "      <td id=\"T_f64bb_row15_col3\" class=\"data row15 col3\" >0.051314</td>\n",
              "      <td id=\"T_f64bb_row15_col4\" class=\"data row15 col4\" >0.053405</td>\n",
              "      <td id=\"T_f64bb_row15_col5\" class=\"data row15 col5\" >-0.041029</td>\n",
              "      <td id=\"T_f64bb_row15_col6\" class=\"data row15 col6\" >-0.046259</td>\n",
              "      <td id=\"T_f64bb_row15_col7\" class=\"data row15 col7\" >-0.051186</td>\n",
              "      <td id=\"T_f64bb_row15_col8\" class=\"data row15 col8\" >-0.016752</td>\n",
              "      <td id=\"T_f64bb_row15_col9\" class=\"data row15 col9\" >-0.004438</td>\n",
              "      <td id=\"T_f64bb_row15_col10\" class=\"data row15 col10\" >-0.027435</td>\n",
              "      <td id=\"T_f64bb_row15_col11\" class=\"data row15 col11\" >-0.036396</td>\n",
              "      <td id=\"T_f64bb_row15_col12\" class=\"data row15 col12\" >-0.068740</td>\n",
              "      <td id=\"T_f64bb_row15_col13\" class=\"data row15 col13\" >0.014484</td>\n",
              "      <td id=\"T_f64bb_row15_col14\" class=\"data row15 col14\" >0.019141</td>\n",
              "      <td id=\"T_f64bb_row15_col15\" class=\"data row15 col15\" >1.000000</td>\n",
              "      <td id=\"T_f64bb_row15_col16\" class=\"data row15 col16\" >0.013538</td>\n",
              "      <td id=\"T_f64bb_row15_col17\" class=\"data row15 col17\" >-0.023710</td>\n",
              "      <td id=\"T_f64bb_row15_col18\" class=\"data row15 col18\" >0.012898</td>\n",
              "      <td id=\"T_f64bb_row15_col19\" class=\"data row15 col19\" >-0.054607</td>\n",
              "      <td id=\"T_f64bb_row15_col20\" class=\"data row15 col20\" >0.094851</td>\n",
              "      <td id=\"T_f64bb_row15_col21\" class=\"data row15 col21\" >0.031526</td>\n",
              "      <td id=\"T_f64bb_row15_col22\" class=\"data row15 col22\" >0.001714</td>\n",
              "      <td id=\"T_f64bb_row15_col23\" class=\"data row15 col23\" >0.031996</td>\n",
              "      <td id=\"T_f64bb_row15_col24\" class=\"data row15 col24\" >0.022780</td>\n",
              "      <td id=\"T_f64bb_row15_col25\" class=\"data row15 col25\" >0.010777</td>\n",
              "      <td id=\"T_f64bb_row15_col26\" class=\"data row15 col26\" >-0.016134</td>\n",
              "      <td id=\"T_f64bb_row15_col27\" class=\"data row15 col27\" >0.029202</td>\n",
              "      <td id=\"T_f64bb_row15_col28\" class=\"data row15 col28\" >0.038744</td>\n",
              "      <td id=\"T_f64bb_row15_col29\" class=\"data row15 col29\" >-0.071849</td>\n",
              "      <td id=\"T_f64bb_row15_col30\" class=\"data row15 col30\" >-0.002841</td>\n",
              "    </tr>\n",
              "    <tr>\n",
              "      <th id=\"T_f64bb_level0_row16\" class=\"row_heading level0 row16\" >V16</th>\n",
              "      <td id=\"T_f64bb_row16_col0\" class=\"data row16 col0\" >0.002415</td>\n",
              "      <td id=\"T_f64bb_row16_col1\" class=\"data row16 col1\" >0.037791</td>\n",
              "      <td id=\"T_f64bb_row16_col2\" class=\"data row16 col2\" >0.068053</td>\n",
              "      <td id=\"T_f64bb_row16_col3\" class=\"data row16 col3\" >-0.046590</td>\n",
              "      <td id=\"T_f64bb_row16_col4\" class=\"data row16 col4\" >-0.041414</td>\n",
              "      <td id=\"T_f64bb_row16_col5\" class=\"data row16 col5\" >-0.007564</td>\n",
              "      <td id=\"T_f64bb_row16_col6\" class=\"data row16 col6\" >-0.020208</td>\n",
              "      <td id=\"T_f64bb_row16_col7\" class=\"data row16 col7\" >-0.120372</td>\n",
              "      <td id=\"T_f64bb_row16_col8\" class=\"data row16 col8\" >0.089504</td>\n",
              "      <td id=\"T_f64bb_row16_col9\" class=\"data row16 col9\" >-0.031735</td>\n",
              "      <td id=\"T_f64bb_row16_col10\" class=\"data row16 col10\" >-0.055068</td>\n",
              "      <td id=\"T_f64bb_row16_col11\" class=\"data row16 col11\" >0.069376</td>\n",
              "      <td id=\"T_f64bb_row16_col12\" class=\"data row16 col12\" >-0.118218</td>\n",
              "      <td id=\"T_f64bb_row16_col13\" class=\"data row16 col13\" >0.000260</td>\n",
              "      <td id=\"T_f64bb_row16_col14\" class=\"data row16 col14\" >-0.127108</td>\n",
              "      <td id=\"T_f64bb_row16_col15\" class=\"data row16 col15\" >0.013538</td>\n",
              "      <td id=\"T_f64bb_row16_col16\" class=\"data row16 col16\" >1.000000</td>\n",
              "      <td id=\"T_f64bb_row16_col17\" class=\"data row16 col17\" >-0.237016</td>\n",
              "      <td id=\"T_f64bb_row16_col18\" class=\"data row16 col18\" >0.023421</td>\n",
              "      <td id=\"T_f64bb_row16_col19\" class=\"data row16 col19\" >0.017062</td>\n",
              "      <td id=\"T_f64bb_row16_col20\" class=\"data row16 col20\" >0.176986</td>\n",
              "      <td id=\"T_f64bb_row16_col21\" class=\"data row16 col21\" >0.091734</td>\n",
              "      <td id=\"T_f64bb_row16_col22\" class=\"data row16 col22\" >-0.045050</td>\n",
              "      <td id=\"T_f64bb_row16_col23\" class=\"data row16 col23\" >0.044663</td>\n",
              "      <td id=\"T_f64bb_row16_col24\" class=\"data row16 col24\" >-0.029806</td>\n",
              "      <td id=\"T_f64bb_row16_col25\" class=\"data row16 col25\" >-0.015480</td>\n",
              "      <td id=\"T_f64bb_row16_col26\" class=\"data row16 col26\" >0.042409</td>\n",
              "      <td id=\"T_f64bb_row16_col27\" class=\"data row16 col27\" >-0.046068</td>\n",
              "      <td id=\"T_f64bb_row16_col28\" class=\"data row16 col28\" >-0.010306</td>\n",
              "      <td id=\"T_f64bb_row16_col29\" class=\"data row16 col29\" >-0.106322</td>\n",
              "      <td id=\"T_f64bb_row16_col30\" class=\"data row16 col30\" >-0.049936</td>\n",
              "    </tr>\n",
              "    <tr>\n",
              "      <th id=\"T_f64bb_level0_row17\" class=\"row_heading level0 row17\" >V17</th>\n",
              "      <td id=\"T_f64bb_row17_col0\" class=\"data row17 col0\" >-0.102351</td>\n",
              "      <td id=\"T_f64bb_row17_col1\" class=\"data row17 col1\" >-0.057902</td>\n",
              "      <td id=\"T_f64bb_row17_col2\" class=\"data row17 col2\" >-0.002416</td>\n",
              "      <td id=\"T_f64bb_row17_col3\" class=\"data row17 col3\" >-0.035420</td>\n",
              "      <td id=\"T_f64bb_row17_col4\" class=\"data row17 col4\" >0.049298</td>\n",
              "      <td id=\"T_f64bb_row17_col5\" class=\"data row17 col5\" >-0.145735</td>\n",
              "      <td id=\"T_f64bb_row17_col6\" class=\"data row17 col6\" >-0.027470</td>\n",
              "      <td id=\"T_f64bb_row17_col7\" class=\"data row17 col7\" >-0.147005</td>\n",
              "      <td id=\"T_f64bb_row17_col8\" class=\"data row17 col8\" >0.074985</td>\n",
              "      <td id=\"T_f64bb_row17_col9\" class=\"data row17 col9\" >-0.068576</td>\n",
              "      <td id=\"T_f64bb_row17_col10\" class=\"data row17 col10\" >-0.147597</td>\n",
              "      <td id=\"T_f64bb_row17_col11\" class=\"data row17 col11\" >0.073664</td>\n",
              "      <td id=\"T_f64bb_row17_col12\" class=\"data row17 col12\" >-0.204867</td>\n",
              "      <td id=\"T_f64bb_row17_col13\" class=\"data row17 col13\" >-0.016981</td>\n",
              "      <td id=\"T_f64bb_row17_col14\" class=\"data row17 col14\" >-0.165207</td>\n",
              "      <td id=\"T_f64bb_row17_col15\" class=\"data row17 col15\" >-0.023710</td>\n",
              "      <td id=\"T_f64bb_row17_col16\" class=\"data row17 col16\" >-0.237016</td>\n",
              "      <td id=\"T_f64bb_row17_col17\" class=\"data row17 col17\" >1.000000</td>\n",
              "      <td id=\"T_f64bb_row17_col18\" class=\"data row17 col18\" >-0.157970</td>\n",
              "      <td id=\"T_f64bb_row17_col19\" class=\"data row17 col19\" >0.045430</td>\n",
              "      <td id=\"T_f64bb_row17_col20\" class=\"data row17 col20\" >-0.017217</td>\n",
              "      <td id=\"T_f64bb_row17_col21\" class=\"data row17 col21\" >-0.009305</td>\n",
              "      <td id=\"T_f64bb_row17_col22\" class=\"data row17 col22\" >0.012551</td>\n",
              "      <td id=\"T_f64bb_row17_col23\" class=\"data row17 col23\" >0.036941</td>\n",
              "      <td id=\"T_f64bb_row17_col24\" class=\"data row17 col24\" >0.052269</td>\n",
              "      <td id=\"T_f64bb_row17_col25\" class=\"data row17 col25\" >0.004485</td>\n",
              "      <td id=\"T_f64bb_row17_col26\" class=\"data row17 col26\" >-0.008512</td>\n",
              "      <td id=\"T_f64bb_row17_col27\" class=\"data row17 col27\" >0.045756</td>\n",
              "      <td id=\"T_f64bb_row17_col28\" class=\"data row17 col28\" >0.064973</td>\n",
              "      <td id=\"T_f64bb_row17_col29\" class=\"data row17 col29\" >0.053967</td>\n",
              "      <td id=\"T_f64bb_row17_col30\" class=\"data row17 col30\" >-0.044335</td>\n",
              "    </tr>\n",
              "    <tr>\n",
              "      <th id=\"T_f64bb_level0_row18\" class=\"row_heading level0 row18\" >V18</th>\n",
              "      <td id=\"T_f64bb_row18_col0\" class=\"data row18 col0\" >0.090840</td>\n",
              "      <td id=\"T_f64bb_row18_col1\" class=\"data row18 col1\" >-0.043565</td>\n",
              "      <td id=\"T_f64bb_row18_col2\" class=\"data row18 col2\" >0.011481</td>\n",
              "      <td id=\"T_f64bb_row18_col3\" class=\"data row18 col3\" >-0.045167</td>\n",
              "      <td id=\"T_f64bb_row18_col4\" class=\"data row18 col4\" >0.021175</td>\n",
              "      <td id=\"T_f64bb_row18_col5\" class=\"data row18 col5\" >-0.016252</td>\n",
              "      <td id=\"T_f64bb_row18_col6\" class=\"data row18 col6\" >0.052293</td>\n",
              "      <td id=\"T_f64bb_row18_col7\" class=\"data row18 col7\" >-0.070876</td>\n",
              "      <td id=\"T_f64bb_row18_col8\" class=\"data row18 col8\" >0.066508</td>\n",
              "      <td id=\"T_f64bb_row18_col9\" class=\"data row18 col9\" >-0.014809</td>\n",
              "      <td id=\"T_f64bb_row18_col10\" class=\"data row18 col10\" >-0.053661</td>\n",
              "      <td id=\"T_f64bb_row18_col11\" class=\"data row18 col11\" >0.069107</td>\n",
              "      <td id=\"T_f64bb_row18_col12\" class=\"data row18 col12\" >-0.065605</td>\n",
              "      <td id=\"T_f64bb_row18_col13\" class=\"data row18 col13\" >-0.009849</td>\n",
              "      <td id=\"T_f64bb_row18_col14\" class=\"data row18 col14\" >-0.027373</td>\n",
              "      <td id=\"T_f64bb_row18_col15\" class=\"data row18 col15\" >0.012898</td>\n",
              "      <td id=\"T_f64bb_row18_col16\" class=\"data row18 col16\" >0.023421</td>\n",
              "      <td id=\"T_f64bb_row18_col17\" class=\"data row18 col17\" >-0.157970</td>\n",
              "      <td id=\"T_f64bb_row18_col18\" class=\"data row18 col18\" >1.000000</td>\n",
              "      <td id=\"T_f64bb_row18_col19\" class=\"data row18 col19\" >-0.004237</td>\n",
              "      <td id=\"T_f64bb_row18_col20\" class=\"data row18 col20\" >-0.106237</td>\n",
              "      <td id=\"T_f64bb_row18_col21\" class=\"data row18 col21\" >0.025895</td>\n",
              "      <td id=\"T_f64bb_row18_col22\" class=\"data row18 col22\" >0.057312</td>\n",
              "      <td id=\"T_f64bb_row18_col23\" class=\"data row18 col23\" >-0.108939</td>\n",
              "      <td id=\"T_f64bb_row18_col24\" class=\"data row18 col24\" >-0.047626</td>\n",
              "      <td id=\"T_f64bb_row18_col25\" class=\"data row18 col25\" >-0.005767</td>\n",
              "      <td id=\"T_f64bb_row18_col26\" class=\"data row18 col26\" >-0.026689</td>\n",
              "      <td id=\"T_f64bb_row18_col27\" class=\"data row18 col27\" >0.020533</td>\n",
              "      <td id=\"T_f64bb_row18_col28\" class=\"data row18 col28\" >0.022941</td>\n",
              "      <td id=\"T_f64bb_row18_col29\" class=\"data row18 col29\" >0.047713</td>\n",
              "      <td id=\"T_f64bb_row18_col30\" class=\"data row18 col30\" >-0.034872</td>\n",
              "    </tr>\n",
              "    <tr>\n",
              "      <th id=\"T_f64bb_level0_row19\" class=\"row_heading level0 row19\" >V19</th>\n",
              "      <td id=\"T_f64bb_row19_col0\" class=\"data row19 col0\" >0.025136</td>\n",
              "      <td id=\"T_f64bb_row19_col1\" class=\"data row19 col1\" >0.031168</td>\n",
              "      <td id=\"T_f64bb_row19_col2\" class=\"data row19 col2\" >0.002082</td>\n",
              "      <td id=\"T_f64bb_row19_col3\" class=\"data row19 col3\" >-0.015326</td>\n",
              "      <td id=\"T_f64bb_row19_col4\" class=\"data row19 col4\" >-0.017866</td>\n",
              "      <td id=\"T_f64bb_row19_col5\" class=\"data row19 col5\" >0.012257</td>\n",
              "      <td id=\"T_f64bb_row19_col6\" class=\"data row19 col6\" >0.031965</td>\n",
              "      <td id=\"T_f64bb_row19_col7\" class=\"data row19 col7\" >0.000808</td>\n",
              "      <td id=\"T_f64bb_row19_col8\" class=\"data row19 col8\" >-0.033248</td>\n",
              "      <td id=\"T_f64bb_row19_col9\" class=\"data row19 col9\" >0.003057</td>\n",
              "      <td id=\"T_f64bb_row19_col10\" class=\"data row19 col10\" >0.039552</td>\n",
              "      <td id=\"T_f64bb_row19_col11\" class=\"data row19 col11\" >0.009885</td>\n",
              "      <td id=\"T_f64bb_row19_col12\" class=\"data row19 col12\" >0.019610</td>\n",
              "      <td id=\"T_f64bb_row19_col13\" class=\"data row19 col13\" >-0.006247</td>\n",
              "      <td id=\"T_f64bb_row19_col14\" class=\"data row19 col14\" >0.021479</td>\n",
              "      <td id=\"T_f64bb_row19_col15\" class=\"data row19 col15\" >-0.054607</td>\n",
              "      <td id=\"T_f64bb_row19_col16\" class=\"data row19 col16\" >0.017062</td>\n",
              "      <td id=\"T_f64bb_row19_col17\" class=\"data row19 col17\" >0.045430</td>\n",
              "      <td id=\"T_f64bb_row19_col18\" class=\"data row19 col18\" >-0.004237</td>\n",
              "      <td id=\"T_f64bb_row19_col19\" class=\"data row19 col19\" >1.000000</td>\n",
              "      <td id=\"T_f64bb_row19_col20\" class=\"data row19 col20\" >0.232867</td>\n",
              "      <td id=\"T_f64bb_row19_col21\" class=\"data row19 col21\" >-0.005717</td>\n",
              "      <td id=\"T_f64bb_row19_col22\" class=\"data row19 col22\" >-0.012338</td>\n",
              "      <td id=\"T_f64bb_row19_col23\" class=\"data row19 col23\" >-0.078460</td>\n",
              "      <td id=\"T_f64bb_row19_col24\" class=\"data row19 col24\" >-0.055560</td>\n",
              "      <td id=\"T_f64bb_row19_col25\" class=\"data row19 col25\" >0.003658</td>\n",
              "      <td id=\"T_f64bb_row19_col26\" class=\"data row19 col26\" >-0.015603</td>\n",
              "      <td id=\"T_f64bb_row19_col27\" class=\"data row19 col27\" >-0.018541</td>\n",
              "      <td id=\"T_f64bb_row19_col28\" class=\"data row19 col28\" >-0.040927</td>\n",
              "      <td id=\"T_f64bb_row19_col29\" class=\"data row19 col29\" >-0.009394</td>\n",
              "      <td id=\"T_f64bb_row19_col30\" class=\"data row19 col30\" >0.022546</td>\n",
              "    </tr>\n",
              "    <tr>\n",
              "      <th id=\"T_f64bb_level0_row20\" class=\"row_heading level0 row20\" >V20</th>\n",
              "      <td id=\"T_f64bb_row20_col0\" class=\"data row20 col0\" >-0.120319</td>\n",
              "      <td id=\"T_f64bb_row20_col1\" class=\"data row20 col1\" >-0.209614</td>\n",
              "      <td id=\"T_f64bb_row20_col2\" class=\"data row20 col2\" >0.040716</td>\n",
              "      <td id=\"T_f64bb_row20_col3\" class=\"data row20 col3\" >0.108271</td>\n",
              "      <td id=\"T_f64bb_row20_col4\" class=\"data row20 col4\" >-0.009598</td>\n",
              "      <td id=\"T_f64bb_row20_col5\" class=\"data row20 col5\" >0.056719</td>\n",
              "      <td id=\"T_f64bb_row20_col6\" class=\"data row20 col6\" >0.052824</td>\n",
              "      <td id=\"T_f64bb_row20_col7\" class=\"data row20 col7\" >0.160522</td>\n",
              "      <td id=\"T_f64bb_row20_col8\" class=\"data row20 col8\" >0.006028</td>\n",
              "      <td id=\"T_f64bb_row20_col9\" class=\"data row20 col9\" >-0.015357</td>\n",
              "      <td id=\"T_f64bb_row20_col10\" class=\"data row20 col10\" >-0.087240</td>\n",
              "      <td id=\"T_f64bb_row20_col11\" class=\"data row20 col11\" >0.042478</td>\n",
              "      <td id=\"T_f64bb_row20_col12\" class=\"data row20 col12\" >0.013717</td>\n",
              "      <td id=\"T_f64bb_row20_col13\" class=\"data row20 col13\" >0.100839</td>\n",
              "      <td id=\"T_f64bb_row20_col14\" class=\"data row20 col14\" >-0.106410</td>\n",
              "      <td id=\"T_f64bb_row20_col15\" class=\"data row20 col15\" >0.094851</td>\n",
              "      <td id=\"T_f64bb_row20_col16\" class=\"data row20 col16\" >0.176986</td>\n",
              "      <td id=\"T_f64bb_row20_col17\" class=\"data row20 col17\" >-0.017217</td>\n",
              "      <td id=\"T_f64bb_row20_col18\" class=\"data row20 col18\" >-0.106237</td>\n",
              "      <td id=\"T_f64bb_row20_col19\" class=\"data row20 col19\" >0.232867</td>\n",
              "      <td id=\"T_f64bb_row20_col20\" class=\"data row20 col20\" >1.000000</td>\n",
              "      <td id=\"T_f64bb_row20_col21\" class=\"data row20 col21\" >0.114530</td>\n",
              "      <td id=\"T_f64bb_row20_col22\" class=\"data row20 col22\" >0.034381</td>\n",
              "      <td id=\"T_f64bb_row20_col23\" class=\"data row20 col23\" >-0.194834</td>\n",
              "      <td id=\"T_f64bb_row20_col24\" class=\"data row20 col24\" >0.041257</td>\n",
              "      <td id=\"T_f64bb_row20_col25\" class=\"data row20 col25\" >0.044851</td>\n",
              "      <td id=\"T_f64bb_row20_col26\" class=\"data row20 col26\" >0.046991</td>\n",
              "      <td id=\"T_f64bb_row20_col27\" class=\"data row20 col27\" >0.103674</td>\n",
              "      <td id=\"T_f64bb_row20_col28\" class=\"data row20 col28\" >0.275061</td>\n",
              "      <td id=\"T_f64bb_row20_col29\" class=\"data row20 col29\" >0.201151</td>\n",
              "      <td id=\"T_f64bb_row20_col30\" class=\"data row20 col30\" >0.021574</td>\n",
              "    </tr>\n",
              "    <tr>\n",
              "      <th id=\"T_f64bb_level0_row21\" class=\"row_heading level0 row21\" >V21</th>\n",
              "      <td id=\"T_f64bb_row21_col0\" class=\"data row21 col0\" >0.096564</td>\n",
              "      <td id=\"T_f64bb_row21_col1\" class=\"data row21 col1\" >-0.061958</td>\n",
              "      <td id=\"T_f64bb_row21_col2\" class=\"data row21 col2\" >-0.098255</td>\n",
              "      <td id=\"T_f64bb_row21_col3\" class=\"data row21 col3\" >-0.040234</td>\n",
              "      <td id=\"T_f64bb_row21_col4\" class=\"data row21 col4\" >0.038960</td>\n",
              "      <td id=\"T_f64bb_row21_col5\" class=\"data row21 col5\" >-0.040364</td>\n",
              "      <td id=\"T_f64bb_row21_col6\" class=\"data row21 col6\" >0.034595</td>\n",
              "      <td id=\"T_f64bb_row21_col7\" class=\"data row21 col7\" >-0.022250</td>\n",
              "      <td id=\"T_f64bb_row21_col8\" class=\"data row21 col8\" >0.076569</td>\n",
              "      <td id=\"T_f64bb_row21_col9\" class=\"data row21 col9\" >-0.065773</td>\n",
              "      <td id=\"T_f64bb_row21_col10\" class=\"data row21 col10\" >-0.046775</td>\n",
              "      <td id=\"T_f64bb_row21_col11\" class=\"data row21 col11\" >-0.001111</td>\n",
              "      <td id=\"T_f64bb_row21_col12\" class=\"data row21 col12\" >0.030667</td>\n",
              "      <td id=\"T_f64bb_row21_col13\" class=\"data row21 col13\" >-0.049897</td>\n",
              "      <td id=\"T_f64bb_row21_col14\" class=\"data row21 col14\" >0.084425</td>\n",
              "      <td id=\"T_f64bb_row21_col15\" class=\"data row21 col15\" >0.031526</td>\n",
              "      <td id=\"T_f64bb_row21_col16\" class=\"data row21 col16\" >0.091734</td>\n",
              "      <td id=\"T_f64bb_row21_col17\" class=\"data row21 col17\" >-0.009305</td>\n",
              "      <td id=\"T_f64bb_row21_col18\" class=\"data row21 col18\" >0.025895</td>\n",
              "      <td id=\"T_f64bb_row21_col19\" class=\"data row21 col19\" >-0.005717</td>\n",
              "      <td id=\"T_f64bb_row21_col20\" class=\"data row21 col20\" >0.114530</td>\n",
              "      <td id=\"T_f64bb_row21_col21\" class=\"data row21 col21\" >1.000000</td>\n",
              "      <td id=\"T_f64bb_row21_col22\" class=\"data row21 col22\" >0.676718</td>\n",
              "      <td id=\"T_f64bb_row21_col23\" class=\"data row21 col23\" >-0.250182</td>\n",
              "      <td id=\"T_f64bb_row21_col24\" class=\"data row21 col24\" >0.031954</td>\n",
              "      <td id=\"T_f64bb_row21_col25\" class=\"data row21 col25\" >0.037247</td>\n",
              "      <td id=\"T_f64bb_row21_col26\" class=\"data row21 col26\" >-0.039867</td>\n",
              "      <td id=\"T_f64bb_row21_col27\" class=\"data row21 col27\" >-0.026841</td>\n",
              "      <td id=\"T_f64bb_row21_col28\" class=\"data row21 col28\" >0.067260</td>\n",
              "      <td id=\"T_f64bb_row21_col29\" class=\"data row21 col29\" >0.194075</td>\n",
              "      <td id=\"T_f64bb_row21_col30\" class=\"data row21 col30\" >0.035442</td>\n",
              "    </tr>\n",
              "    <tr>\n",
              "      <th id=\"T_f64bb_level0_row22\" class=\"row_heading level0 row22\" >V22</th>\n",
              "      <td id=\"T_f64bb_row22_col0\" class=\"data row22 col0\" >0.132651</td>\n",
              "      <td id=\"T_f64bb_row22_col1\" class=\"data row22 col1\" >-0.028827</td>\n",
              "      <td id=\"T_f64bb_row22_col2\" class=\"data row22 col2\" >-0.056478</td>\n",
              "      <td id=\"T_f64bb_row22_col3\" class=\"data row22 col3\" >0.004404</td>\n",
              "      <td id=\"T_f64bb_row22_col4\" class=\"data row22 col4\" >-0.004931</td>\n",
              "      <td id=\"T_f64bb_row22_col5\" class=\"data row22 col5\" >-0.010920</td>\n",
              "      <td id=\"T_f64bb_row22_col6\" class=\"data row22 col6\" >0.040370</td>\n",
              "      <td id=\"T_f64bb_row22_col7\" class=\"data row22 col7\" >-0.023750</td>\n",
              "      <td id=\"T_f64bb_row22_col8\" class=\"data row22 col8\" >0.019775</td>\n",
              "      <td id=\"T_f64bb_row22_col9\" class=\"data row22 col9\" >0.001958</td>\n",
              "      <td id=\"T_f64bb_row22_col10\" class=\"data row22 col10\" >0.042022</td>\n",
              "      <td id=\"T_f64bb_row22_col11\" class=\"data row22 col11\" >0.000753</td>\n",
              "      <td id=\"T_f64bb_row22_col12\" class=\"data row22 col12\" >-0.014063</td>\n",
              "      <td id=\"T_f64bb_row22_col13\" class=\"data row22 col13\" >0.006830</td>\n",
              "      <td id=\"T_f64bb_row22_col14\" class=\"data row22 col14\" >-0.008544</td>\n",
              "      <td id=\"T_f64bb_row22_col15\" class=\"data row22 col15\" >0.001714</td>\n",
              "      <td id=\"T_f64bb_row22_col16\" class=\"data row22 col16\" >-0.045050</td>\n",
              "      <td id=\"T_f64bb_row22_col17\" class=\"data row22 col17\" >0.012551</td>\n",
              "      <td id=\"T_f64bb_row22_col18\" class=\"data row22 col18\" >0.057312</td>\n",
              "      <td id=\"T_f64bb_row22_col19\" class=\"data row22 col19\" >-0.012338</td>\n",
              "      <td id=\"T_f64bb_row22_col20\" class=\"data row22 col20\" >0.034381</td>\n",
              "      <td id=\"T_f64bb_row22_col21\" class=\"data row22 col21\" >0.676718</td>\n",
              "      <td id=\"T_f64bb_row22_col22\" class=\"data row22 col22\" >1.000000</td>\n",
              "      <td id=\"T_f64bb_row22_col23\" class=\"data row22 col23\" >-0.239368</td>\n",
              "      <td id=\"T_f64bb_row22_col24\" class=\"data row22 col24\" >0.014669</td>\n",
              "      <td id=\"T_f64bb_row22_col25\" class=\"data row22 col25\" >0.028557</td>\n",
              "      <td id=\"T_f64bb_row22_col26\" class=\"data row22 col26\" >-0.039765</td>\n",
              "      <td id=\"T_f64bb_row22_col27\" class=\"data row22 col27\" >0.072514</td>\n",
              "      <td id=\"T_f64bb_row22_col28\" class=\"data row22 col28\" >-0.036970</td>\n",
              "      <td id=\"T_f64bb_row22_col29\" class=\"data row22 col29\" >0.080227</td>\n",
              "      <td id=\"T_f64bb_row22_col30\" class=\"data row22 col30\" >0.002083</td>\n",
              "    </tr>\n",
              "    <tr>\n",
              "      <th id=\"T_f64bb_level0_row23\" class=\"row_heading level0 row23\" >V23</th>\n",
              "      <td id=\"T_f64bb_row23_col0\" class=\"data row23 col0\" >0.148505</td>\n",
              "      <td id=\"T_f64bb_row23_col1\" class=\"data row23 col1\" >0.145440</td>\n",
              "      <td id=\"T_f64bb_row23_col2\" class=\"data row23 col2\" >-0.094982</td>\n",
              "      <td id=\"T_f64bb_row23_col3\" class=\"data row23 col3\" >-0.140076</td>\n",
              "      <td id=\"T_f64bb_row23_col4\" class=\"data row23 col4\" >0.009615</td>\n",
              "      <td id=\"T_f64bb_row23_col5\" class=\"data row23 col5\" >-0.108300</td>\n",
              "      <td id=\"T_f64bb_row23_col6\" class=\"data row23 col6\" >-0.050293</td>\n",
              "      <td id=\"T_f64bb_row23_col7\" class=\"data row23 col7\" >-0.186343</td>\n",
              "      <td id=\"T_f64bb_row23_col8\" class=\"data row23 col8\" >0.075212</td>\n",
              "      <td id=\"T_f64bb_row23_col9\" class=\"data row23 col9\" >0.074164</td>\n",
              "      <td id=\"T_f64bb_row23_col10\" class=\"data row23 col10\" >0.077078</td>\n",
              "      <td id=\"T_f64bb_row23_col11\" class=\"data row23 col11\" >0.031314</td>\n",
              "      <td id=\"T_f64bb_row23_col12\" class=\"data row23 col12\" >0.081191</td>\n",
              "      <td id=\"T_f64bb_row23_col13\" class=\"data row23 col13\" >0.002265</td>\n",
              "      <td id=\"T_f64bb_row23_col14\" class=\"data row23 col14\" >0.016451</td>\n",
              "      <td id=\"T_f64bb_row23_col15\" class=\"data row23 col15\" >0.031996</td>\n",
              "      <td id=\"T_f64bb_row23_col16\" class=\"data row23 col16\" >0.044663</td>\n",
              "      <td id=\"T_f64bb_row23_col17\" class=\"data row23 col17\" >0.036941</td>\n",
              "      <td id=\"T_f64bb_row23_col18\" class=\"data row23 col18\" >-0.108939</td>\n",
              "      <td id=\"T_f64bb_row23_col19\" class=\"data row23 col19\" >-0.078460</td>\n",
              "      <td id=\"T_f64bb_row23_col20\" class=\"data row23 col20\" >-0.194834</td>\n",
              "      <td id=\"T_f64bb_row23_col21\" class=\"data row23 col21\" >-0.250182</td>\n",
              "      <td id=\"T_f64bb_row23_col22\" class=\"data row23 col22\" >-0.239368</td>\n",
              "      <td id=\"T_f64bb_row23_col23\" class=\"data row23 col23\" >1.000000</td>\n",
              "      <td id=\"T_f64bb_row23_col24\" class=\"data row23 col24\" >0.097100</td>\n",
              "      <td id=\"T_f64bb_row23_col25\" class=\"data row23 col25\" >-0.425606</td>\n",
              "      <td id=\"T_f64bb_row23_col26\" class=\"data row23 col26\" >-0.002068</td>\n",
              "      <td id=\"T_f64bb_row23_col27\" class=\"data row23 col27\" >0.048683</td>\n",
              "      <td id=\"T_f64bb_row23_col28\" class=\"data row23 col28\" >-0.069365</td>\n",
              "      <td id=\"T_f64bb_row23_col29\" class=\"data row23 col29\" >-0.057364</td>\n",
              "      <td id=\"T_f64bb_row23_col30\" class=\"data row23 col30\" >-0.005017</td>\n",
              "    </tr>\n",
              "    <tr>\n",
              "      <th id=\"T_f64bb_level0_row24\" class=\"row_heading level0 row24\" >V24</th>\n",
              "      <td id=\"T_f64bb_row24_col0\" class=\"data row24 col0\" >-0.015980</td>\n",
              "      <td id=\"T_f64bb_row24_col1\" class=\"data row24 col1\" >-0.000315</td>\n",
              "      <td id=\"T_f64bb_row24_col2\" class=\"data row24 col2\" >0.012617</td>\n",
              "      <td id=\"T_f64bb_row24_col3\" class=\"data row24 col3\" >-0.000559</td>\n",
              "      <td id=\"T_f64bb_row24_col4\" class=\"data row24 col4\" >-0.008782</td>\n",
              "      <td id=\"T_f64bb_row24_col5\" class=\"data row24 col5\" >-0.023076</td>\n",
              "      <td id=\"T_f64bb_row24_col6\" class=\"data row24 col6\" >-0.135166</td>\n",
              "      <td id=\"T_f64bb_row24_col7\" class=\"data row24 col7\" >-0.012879</td>\n",
              "      <td id=\"T_f64bb_row24_col8\" class=\"data row24 col8\" >-0.024536</td>\n",
              "      <td id=\"T_f64bb_row24_col9\" class=\"data row24 col9\" >-0.001572</td>\n",
              "      <td id=\"T_f64bb_row24_col10\" class=\"data row24 col10\" >-0.007778</td>\n",
              "      <td id=\"T_f64bb_row24_col11\" class=\"data row24 col11\" >-0.005295</td>\n",
              "      <td id=\"T_f64bb_row24_col12\" class=\"data row24 col12\" >-0.001926</td>\n",
              "      <td id=\"T_f64bb_row24_col13\" class=\"data row24 col13\" >0.004753</td>\n",
              "      <td id=\"T_f64bb_row24_col14\" class=\"data row24 col14\" >-0.022123</td>\n",
              "      <td id=\"T_f64bb_row24_col15\" class=\"data row24 col15\" >0.022780</td>\n",
              "      <td id=\"T_f64bb_row24_col16\" class=\"data row24 col16\" >-0.029806</td>\n",
              "      <td id=\"T_f64bb_row24_col17\" class=\"data row24 col17\" >0.052269</td>\n",
              "      <td id=\"T_f64bb_row24_col18\" class=\"data row24 col18\" >-0.047626</td>\n",
              "      <td id=\"T_f64bb_row24_col19\" class=\"data row24 col19\" >-0.055560</td>\n",
              "      <td id=\"T_f64bb_row24_col20\" class=\"data row24 col20\" >0.041257</td>\n",
              "      <td id=\"T_f64bb_row24_col21\" class=\"data row24 col21\" >0.031954</td>\n",
              "      <td id=\"T_f64bb_row24_col22\" class=\"data row24 col22\" >0.014669</td>\n",
              "      <td id=\"T_f64bb_row24_col23\" class=\"data row24 col23\" >0.097100</td>\n",
              "      <td id=\"T_f64bb_row24_col24\" class=\"data row24 col24\" >1.000000</td>\n",
              "      <td id=\"T_f64bb_row24_col25\" class=\"data row24 col25\" >0.001259</td>\n",
              "      <td id=\"T_f64bb_row24_col26\" class=\"data row24 col26\" >0.005153</td>\n",
              "      <td id=\"T_f64bb_row24_col27\" class=\"data row24 col27\" >-0.036420</td>\n",
              "      <td id=\"T_f64bb_row24_col28\" class=\"data row24 col28\" >0.046572</td>\n",
              "      <td id=\"T_f64bb_row24_col29\" class=\"data row24 col29\" >-0.012550</td>\n",
              "      <td id=\"T_f64bb_row24_col30\" class=\"data row24 col30\" >-0.009188</td>\n",
              "    </tr>\n",
              "    <tr>\n",
              "      <th id=\"T_f64bb_level0_row25\" class=\"row_heading level0 row25\" >V25</th>\n",
              "      <td id=\"T_f64bb_row25_col0\" class=\"data row25 col0\" >-0.259220</td>\n",
              "      <td id=\"T_f64bb_row25_col1\" class=\"data row25 col1\" >0.049291</td>\n",
              "      <td id=\"T_f64bb_row25_col2\" class=\"data row25 col2\" >-0.085682</td>\n",
              "      <td id=\"T_f64bb_row25_col3\" class=\"data row25 col3\" >0.031854</td>\n",
              "      <td id=\"T_f64bb_row25_col4\" class=\"data row25 col4\" >0.060647</td>\n",
              "      <td id=\"T_f64bb_row25_col5\" class=\"data row25 col5\" >-0.015618</td>\n",
              "      <td id=\"T_f64bb_row25_col6\" class=\"data row25 col6\" >-0.011131</td>\n",
              "      <td id=\"T_f64bb_row25_col7\" class=\"data row25 col7\" >-0.046468</td>\n",
              "      <td id=\"T_f64bb_row25_col8\" class=\"data row25 col8\" >-0.074303</td>\n",
              "      <td id=\"T_f64bb_row25_col9\" class=\"data row25 col9\" >-0.022575</td>\n",
              "      <td id=\"T_f64bb_row25_col10\" class=\"data row25 col10\" >-0.016904</td>\n",
              "      <td id=\"T_f64bb_row25_col11\" class=\"data row25 col11\" >-0.005389</td>\n",
              "      <td id=\"T_f64bb_row25_col12\" class=\"data row25 col12\" >0.003252</td>\n",
              "      <td id=\"T_f64bb_row25_col13\" class=\"data row25 col13\" >0.002930</td>\n",
              "      <td id=\"T_f64bb_row25_col14\" class=\"data row25 col14\" >0.035528</td>\n",
              "      <td id=\"T_f64bb_row25_col15\" class=\"data row25 col15\" >0.010777</td>\n",
              "      <td id=\"T_f64bb_row25_col16\" class=\"data row25 col16\" >-0.015480</td>\n",
              "      <td id=\"T_f64bb_row25_col17\" class=\"data row25 col17\" >0.004485</td>\n",
              "      <td id=\"T_f64bb_row25_col18\" class=\"data row25 col18\" >-0.005767</td>\n",
              "      <td id=\"T_f64bb_row25_col19\" class=\"data row25 col19\" >0.003658</td>\n",
              "      <td id=\"T_f64bb_row25_col20\" class=\"data row25 col20\" >0.044851</td>\n",
              "      <td id=\"T_f64bb_row25_col21\" class=\"data row25 col21\" >0.037247</td>\n",
              "      <td id=\"T_f64bb_row25_col22\" class=\"data row25 col22\" >0.028557</td>\n",
              "      <td id=\"T_f64bb_row25_col23\" class=\"data row25 col23\" >-0.425606</td>\n",
              "      <td id=\"T_f64bb_row25_col24\" class=\"data row25 col24\" >0.001259</td>\n",
              "      <td id=\"T_f64bb_row25_col25\" class=\"data row25 col25\" >1.000000</td>\n",
              "      <td id=\"T_f64bb_row25_col26\" class=\"data row25 col26\" >-0.052895</td>\n",
              "      <td id=\"T_f64bb_row25_col27\" class=\"data row25 col27\" >-0.091530</td>\n",
              "      <td id=\"T_f64bb_row25_col28\" class=\"data row25 col28\" >-0.052147</td>\n",
              "      <td id=\"T_f64bb_row25_col29\" class=\"data row25 col29\" >0.023020</td>\n",
              "      <td id=\"T_f64bb_row25_col30\" class=\"data row25 col30\" >0.004682</td>\n",
              "    </tr>\n",
              "    <tr>\n",
              "      <th id=\"T_f64bb_level0_row26\" class=\"row_heading level0 row26\" >V26</th>\n",
              "      <td id=\"T_f64bb_row26_col0\" class=\"data row26 col0\" >0.000132</td>\n",
              "      <td id=\"T_f64bb_row26_col1\" class=\"data row26 col1\" >0.006380</td>\n",
              "      <td id=\"T_f64bb_row26_col2\" class=\"data row26 col2\" >0.033865</td>\n",
              "      <td id=\"T_f64bb_row26_col3\" class=\"data row26 col3\" >-0.016689</td>\n",
              "      <td id=\"T_f64bb_row26_col4\" class=\"data row26 col4\" >-0.064357</td>\n",
              "      <td id=\"T_f64bb_row26_col5\" class=\"data row26 col5\" >0.029513</td>\n",
              "      <td id=\"T_f64bb_row26_col6\" class=\"data row26 col6\" >-0.023932</td>\n",
              "      <td id=\"T_f64bb_row26_col7\" class=\"data row26 col7\" >0.016724</td>\n",
              "      <td id=\"T_f64bb_row26_col8\" class=\"data row26 col8\" >-0.007648</td>\n",
              "      <td id=\"T_f64bb_row26_col9\" class=\"data row26 col9\" >0.026677</td>\n",
              "      <td id=\"T_f64bb_row26_col10\" class=\"data row26 col10\" >-0.026877</td>\n",
              "      <td id=\"T_f64bb_row26_col11\" class=\"data row26 col11\" >-0.005930</td>\n",
              "      <td id=\"T_f64bb_row26_col12\" class=\"data row26 col12\" >0.011659</td>\n",
              "      <td id=\"T_f64bb_row26_col13\" class=\"data row26 col13\" >-0.003904</td>\n",
              "      <td id=\"T_f64bb_row26_col14\" class=\"data row26 col14\" >-0.004562</td>\n",
              "      <td id=\"T_f64bb_row26_col15\" class=\"data row26 col15\" >-0.016134</td>\n",
              "      <td id=\"T_f64bb_row26_col16\" class=\"data row26 col16\" >0.042409</td>\n",
              "      <td id=\"T_f64bb_row26_col17\" class=\"data row26 col17\" >-0.008512</td>\n",
              "      <td id=\"T_f64bb_row26_col18\" class=\"data row26 col18\" >-0.026689</td>\n",
              "      <td id=\"T_f64bb_row26_col19\" class=\"data row26 col19\" >-0.015603</td>\n",
              "      <td id=\"T_f64bb_row26_col20\" class=\"data row26 col20\" >0.046991</td>\n",
              "      <td id=\"T_f64bb_row26_col21\" class=\"data row26 col21\" >-0.039867</td>\n",
              "      <td id=\"T_f64bb_row26_col22\" class=\"data row26 col22\" >-0.039765</td>\n",
              "      <td id=\"T_f64bb_row26_col23\" class=\"data row26 col23\" >-0.002068</td>\n",
              "      <td id=\"T_f64bb_row26_col24\" class=\"data row26 col24\" >0.005153</td>\n",
              "      <td id=\"T_f64bb_row26_col25\" class=\"data row26 col25\" >-0.052895</td>\n",
              "      <td id=\"T_f64bb_row26_col26\" class=\"data row26 col26\" >1.000000</td>\n",
              "      <td id=\"T_f64bb_row26_col27\" class=\"data row26 col27\" >-0.163095</td>\n",
              "      <td id=\"T_f64bb_row26_col28\" class=\"data row26 col28\" >-0.021550</td>\n",
              "      <td id=\"T_f64bb_row26_col29\" class=\"data row26 col29\" >-0.066698</td>\n",
              "      <td id=\"T_f64bb_row26_col30\" class=\"data row26 col30\" >0.005466</td>\n",
              "    </tr>\n",
              "    <tr>\n",
              "      <th id=\"T_f64bb_level0_row27\" class=\"row_heading level0 row27\" >V27</th>\n",
              "      <td id=\"T_f64bb_row27_col0\" class=\"data row27 col0\" >-0.035063</td>\n",
              "      <td id=\"T_f64bb_row27_col1\" class=\"data row27 col1\" >-0.104815</td>\n",
              "      <td id=\"T_f64bb_row27_col2\" class=\"data row27 col2\" >0.129234</td>\n",
              "      <td id=\"T_f64bb_row27_col3\" class=\"data row27 col3\" >0.140724</td>\n",
              "      <td id=\"T_f64bb_row27_col4\" class=\"data row27 col4\" >-0.033634</td>\n",
              "      <td id=\"T_f64bb_row27_col5\" class=\"data row27 col5\" >0.012883</td>\n",
              "      <td id=\"T_f64bb_row27_col6\" class=\"data row27 col6\" >0.073772</td>\n",
              "      <td id=\"T_f64bb_row27_col7\" class=\"data row27 col7\" >-0.094494</td>\n",
              "      <td id=\"T_f64bb_row27_col8\" class=\"data row27 col8\" >0.189916</td>\n",
              "      <td id=\"T_f64bb_row27_col9\" class=\"data row27 col9\" >-0.001804</td>\n",
              "      <td id=\"T_f64bb_row27_col10\" class=\"data row27 col10\" >-0.020471</td>\n",
              "      <td id=\"T_f64bb_row27_col11\" class=\"data row27 col11\" >-0.026304</td>\n",
              "      <td id=\"T_f64bb_row27_col12\" class=\"data row27 col12\" >0.028654</td>\n",
              "      <td id=\"T_f64bb_row27_col13\" class=\"data row27 col13\" >0.003783</td>\n",
              "      <td id=\"T_f64bb_row27_col14\" class=\"data row27 col14\" >-0.090996</td>\n",
              "      <td id=\"T_f64bb_row27_col15\" class=\"data row27 col15\" >0.029202</td>\n",
              "      <td id=\"T_f64bb_row27_col16\" class=\"data row27 col16\" >-0.046068</td>\n",
              "      <td id=\"T_f64bb_row27_col17\" class=\"data row27 col17\" >0.045756</td>\n",
              "      <td id=\"T_f64bb_row27_col18\" class=\"data row27 col18\" >0.020533</td>\n",
              "      <td id=\"T_f64bb_row27_col19\" class=\"data row27 col19\" >-0.018541</td>\n",
              "      <td id=\"T_f64bb_row27_col20\" class=\"data row27 col20\" >0.103674</td>\n",
              "      <td id=\"T_f64bb_row27_col21\" class=\"data row27 col21\" >-0.026841</td>\n",
              "      <td id=\"T_f64bb_row27_col22\" class=\"data row27 col22\" >0.072514</td>\n",
              "      <td id=\"T_f64bb_row27_col23\" class=\"data row27 col23\" >0.048683</td>\n",
              "      <td id=\"T_f64bb_row27_col24\" class=\"data row27 col24\" >-0.036420</td>\n",
              "      <td id=\"T_f64bb_row27_col25\" class=\"data row27 col25\" >-0.091530</td>\n",
              "      <td id=\"T_f64bb_row27_col26\" class=\"data row27 col26\" >-0.163095</td>\n",
              "      <td id=\"T_f64bb_row27_col27\" class=\"data row27 col27\" >1.000000</td>\n",
              "      <td id=\"T_f64bb_row27_col28\" class=\"data row27 col28\" >0.458497</td>\n",
              "      <td id=\"T_f64bb_row27_col29\" class=\"data row27 col29\" >-0.126824</td>\n",
              "      <td id=\"T_f64bb_row27_col30\" class=\"data row27 col30\" >0.028311</td>\n",
              "    </tr>\n",
              "    <tr>\n",
              "      <th id=\"T_f64bb_level0_row28\" class=\"row_heading level0 row28\" >V28</th>\n",
              "      <td id=\"T_f64bb_row28_col0\" class=\"data row28 col0\" >-0.143200</td>\n",
              "      <td id=\"T_f64bb_row28_col1\" class=\"data row28 col1\" >-0.207967</td>\n",
              "      <td id=\"T_f64bb_row28_col2\" class=\"data row28 col2\" >0.137976</td>\n",
              "      <td id=\"T_f64bb_row28_col3\" class=\"data row28 col3\" >0.180169</td>\n",
              "      <td id=\"T_f64bb_row28_col4\" class=\"data row28 col4\" >0.004757</td>\n",
              "      <td id=\"T_f64bb_row28_col5\" class=\"data row28 col5\" >-0.027806</td>\n",
              "      <td id=\"T_f64bb_row28_col6\" class=\"data row28 col6\" >0.020459</td>\n",
              "      <td id=\"T_f64bb_row28_col7\" class=\"data row28 col7\" >0.056405</td>\n",
              "      <td id=\"T_f64bb_row28_col8\" class=\"data row28 col8\" >0.089700</td>\n",
              "      <td id=\"T_f64bb_row28_col9\" class=\"data row28 col9\" >-0.103743</td>\n",
              "      <td id=\"T_f64bb_row28_col10\" class=\"data row28 col10\" >-0.130545</td>\n",
              "      <td id=\"T_f64bb_row28_col11\" class=\"data row28 col11\" >-0.027859</td>\n",
              "      <td id=\"T_f64bb_row28_col12\" class=\"data row28 col12\" >-0.007827</td>\n",
              "      <td id=\"T_f64bb_row28_col13\" class=\"data row28 col13\" >-0.006607</td>\n",
              "      <td id=\"T_f64bb_row28_col14\" class=\"data row28 col14\" >-0.018130</td>\n",
              "      <td id=\"T_f64bb_row28_col15\" class=\"data row28 col15\" >0.038744</td>\n",
              "      <td id=\"T_f64bb_row28_col16\" class=\"data row28 col16\" >-0.010306</td>\n",
              "      <td id=\"T_f64bb_row28_col17\" class=\"data row28 col17\" >0.064973</td>\n",
              "      <td id=\"T_f64bb_row28_col18\" class=\"data row28 col18\" >0.022941</td>\n",
              "      <td id=\"T_f64bb_row28_col19\" class=\"data row28 col19\" >-0.040927</td>\n",
              "      <td id=\"T_f64bb_row28_col20\" class=\"data row28 col20\" >0.275061</td>\n",
              "      <td id=\"T_f64bb_row28_col21\" class=\"data row28 col21\" >0.067260</td>\n",
              "      <td id=\"T_f64bb_row28_col22\" class=\"data row28 col22\" >-0.036970</td>\n",
              "      <td id=\"T_f64bb_row28_col23\" class=\"data row28 col23\" >-0.069365</td>\n",
              "      <td id=\"T_f64bb_row28_col24\" class=\"data row28 col24\" >0.046572</td>\n",
              "      <td id=\"T_f64bb_row28_col25\" class=\"data row28 col25\" >-0.052147</td>\n",
              "      <td id=\"T_f64bb_row28_col26\" class=\"data row28 col26\" >-0.021550</td>\n",
              "      <td id=\"T_f64bb_row28_col27\" class=\"data row28 col27\" >0.458497</td>\n",
              "      <td id=\"T_f64bb_row28_col28\" class=\"data row28 col28\" >1.000000</td>\n",
              "      <td id=\"T_f64bb_row28_col29\" class=\"data row28 col29\" >0.010416</td>\n",
              "      <td id=\"T_f64bb_row28_col30\" class=\"data row28 col30\" >0.020417</td>\n",
              "    </tr>\n",
              "    <tr>\n",
              "      <th id=\"T_f64bb_level0_row29\" class=\"row_heading level0 row29\" >Amount</th>\n",
              "      <td id=\"T_f64bb_row29_col0\" class=\"data row29 col0\" >-0.040007</td>\n",
              "      <td id=\"T_f64bb_row29_col1\" class=\"data row29 col1\" >-0.086663</td>\n",
              "      <td id=\"T_f64bb_row29_col2\" class=\"data row29 col2\" >-0.502052</td>\n",
              "      <td id=\"T_f64bb_row29_col3\" class=\"data row29 col3\" >-0.000236</td>\n",
              "      <td id=\"T_f64bb_row29_col4\" class=\"data row29 col4\" >-0.022117</td>\n",
              "      <td id=\"T_f64bb_row29_col5\" class=\"data row29 col5\" >-0.314061</td>\n",
              "      <td id=\"T_f64bb_row29_col6\" class=\"data row29 col6\" >0.205452</td>\n",
              "      <td id=\"T_f64bb_row29_col7\" class=\"data row29 col7\" >-0.030003</td>\n",
              "      <td id=\"T_f64bb_row29_col8\" class=\"data row29 col8\" >0.004371</td>\n",
              "      <td id=\"T_f64bb_row29_col9\" class=\"data row29 col9\" >-0.077437</td>\n",
              "      <td id=\"T_f64bb_row29_col10\" class=\"data row29 col10\" >0.054835</td>\n",
              "      <td id=\"T_f64bb_row29_col11\" class=\"data row29 col11\" >-0.044158</td>\n",
              "      <td id=\"T_f64bb_row29_col12\" class=\"data row29 col12\" >-0.038711</td>\n",
              "      <td id=\"T_f64bb_row29_col13\" class=\"data row29 col13\" >-0.005677</td>\n",
              "      <td id=\"T_f64bb_row29_col14\" class=\"data row29 col14\" >-0.004950</td>\n",
              "      <td id=\"T_f64bb_row29_col15\" class=\"data row29 col15\" >-0.071849</td>\n",
              "      <td id=\"T_f64bb_row29_col16\" class=\"data row29 col16\" >-0.106322</td>\n",
              "      <td id=\"T_f64bb_row29_col17\" class=\"data row29 col17\" >0.053967</td>\n",
              "      <td id=\"T_f64bb_row29_col18\" class=\"data row29 col18\" >0.047713</td>\n",
              "      <td id=\"T_f64bb_row29_col19\" class=\"data row29 col19\" >-0.009394</td>\n",
              "      <td id=\"T_f64bb_row29_col20\" class=\"data row29 col20\" >0.201151</td>\n",
              "      <td id=\"T_f64bb_row29_col21\" class=\"data row29 col21\" >0.194075</td>\n",
              "      <td id=\"T_f64bb_row29_col22\" class=\"data row29 col22\" >0.080227</td>\n",
              "      <td id=\"T_f64bb_row29_col23\" class=\"data row29 col23\" >-0.057364</td>\n",
              "      <td id=\"T_f64bb_row29_col24\" class=\"data row29 col24\" >-0.012550</td>\n",
              "      <td id=\"T_f64bb_row29_col25\" class=\"data row29 col25\" >0.023020</td>\n",
              "      <td id=\"T_f64bb_row29_col26\" class=\"data row29 col26\" >-0.066698</td>\n",
              "      <td id=\"T_f64bb_row29_col27\" class=\"data row29 col27\" >-0.126824</td>\n",
              "      <td id=\"T_f64bb_row29_col28\" class=\"data row29 col28\" >0.010416</td>\n",
              "      <td id=\"T_f64bb_row29_col29\" class=\"data row29 col29\" >1.000000</td>\n",
              "      <td id=\"T_f64bb_row29_col30\" class=\"data row29 col30\" >-0.008339</td>\n",
              "    </tr>\n",
              "    <tr>\n",
              "      <th id=\"T_f64bb_level0_row30\" class=\"row_heading level0 row30\" >Class</th>\n",
              "      <td id=\"T_f64bb_row30_col0\" class=\"data row30 col0\" >-0.011692</td>\n",
              "      <td id=\"T_f64bb_row30_col1\" class=\"data row30 col1\" >-0.042424</td>\n",
              "      <td id=\"T_f64bb_row30_col2\" class=\"data row30 col2\" >0.051062</td>\n",
              "      <td id=\"T_f64bb_row30_col3\" class=\"data row30 col3\" >-0.059278</td>\n",
              "      <td id=\"T_f64bb_row30_col4\" class=\"data row30 col4\" >0.063045</td>\n",
              "      <td id=\"T_f64bb_row30_col5\" class=\"data row30 col5\" >-0.030147</td>\n",
              "      <td id=\"T_f64bb_row30_col6\" class=\"data row30 col6\" >-0.038410</td>\n",
              "      <td id=\"T_f64bb_row30_col7\" class=\"data row30 col7\" >-0.048308</td>\n",
              "      <td id=\"T_f64bb_row30_col8\" class=\"data row30 col8\" >0.022706</td>\n",
              "      <td id=\"T_f64bb_row30_col9\" class=\"data row30 col9\" >-0.049499</td>\n",
              "      <td id=\"T_f64bb_row30_col10\" class=\"data row30 col10\" >-0.059564</td>\n",
              "      <td id=\"T_f64bb_row30_col11\" class=\"data row30 col11\" >0.060143</td>\n",
              "      <td id=\"T_f64bb_row30_col12\" class=\"data row30 col12\" >-0.062870</td>\n",
              "      <td id=\"T_f64bb_row30_col13\" class=\"data row30 col13\" >-0.003653</td>\n",
              "      <td id=\"T_f64bb_row30_col14\" class=\"data row30 col14\" >-0.064613</td>\n",
              "      <td id=\"T_f64bb_row30_col15\" class=\"data row30 col15\" >-0.002841</td>\n",
              "      <td id=\"T_f64bb_row30_col16\" class=\"data row30 col16\" >-0.049936</td>\n",
              "      <td id=\"T_f64bb_row30_col17\" class=\"data row30 col17\" >-0.044335</td>\n",
              "      <td id=\"T_f64bb_row30_col18\" class=\"data row30 col18\" >-0.034872</td>\n",
              "      <td id=\"T_f64bb_row30_col19\" class=\"data row30 col19\" >0.022546</td>\n",
              "      <td id=\"T_f64bb_row30_col20\" class=\"data row30 col20\" >0.021574</td>\n",
              "      <td id=\"T_f64bb_row30_col21\" class=\"data row30 col21\" >0.035442</td>\n",
              "      <td id=\"T_f64bb_row30_col22\" class=\"data row30 col22\" >0.002083</td>\n",
              "      <td id=\"T_f64bb_row30_col23\" class=\"data row30 col23\" >-0.005017</td>\n",
              "      <td id=\"T_f64bb_row30_col24\" class=\"data row30 col24\" >-0.009188</td>\n",
              "      <td id=\"T_f64bb_row30_col25\" class=\"data row30 col25\" >0.004682</td>\n",
              "      <td id=\"T_f64bb_row30_col26\" class=\"data row30 col26\" >0.005466</td>\n",
              "      <td id=\"T_f64bb_row30_col27\" class=\"data row30 col27\" >0.028311</td>\n",
              "      <td id=\"T_f64bb_row30_col28\" class=\"data row30 col28\" >0.020417</td>\n",
              "      <td id=\"T_f64bb_row30_col29\" class=\"data row30 col29\" >-0.008339</td>\n",
              "      <td id=\"T_f64bb_row30_col30\" class=\"data row30 col30\" >1.000000</td>\n",
              "    </tr>\n",
              "  </tbody>\n",
              "</table>\n"
            ],
            "text/plain": [
              "<pandas.io.formats.style.Styler at 0x12755a0ae20>"
            ]
          },
          "execution_count": 235,
          "metadata": {},
          "output_type": "execute_result"
        }
      ],
      "source": [
        "#Matriz de correlação\n",
        "\n",
        "corr_  = df.corr(method= 'spearman')\n",
        "\n",
        "pd.DataFrame(corr_).style.background_gradient(cmap='coolwarm')"
      ]
    },
    {
      "cell_type": "markdown",
      "metadata": {
        "id": "Vr-ItUOeqI-r"
      },
      "source": [
        "### Conclusões da análise exploratória\n",
        "\n",
        "\n",
        "* O dataset não possui valores ausentes para serem tratados.\n",
        "* As classes que representam transações fraudulentas e não-fraudulentas estão totalmente desbalanceadas e isso precisará ser tratado. Se usarmos o conjunto de dados assim mesmo, o modelo não irá generalizar bem o padrão da classe que representa fraude, ficando muito bom apenas em detectar transações não fraudulentas.\n",
        "* As variáveis \"Time\" e \"Amount\" estão em grandezas diferentes do restante das outras *features*. Estas duas colunas precisarão ser normalizadas, já que todo o *dataset* se encontra também normalizado. Caso isso não ocorra, acarretará em dificuldades na hora de treinar o modelo.\n"
      ]
    },
    {
      "cell_type": "markdown",
      "metadata": {
        "id": "ULe7z0jZt0EH",
        "tags": []
      },
      "source": [
        "# Preparação dos Dados\n",
        "---\n",
        "\n",
        "Aqui, os dados serão preparados para posteriormente haver a criação do modelo e treiná-lo. Nesta etapa irei:\n",
        "\n",
        "* Normalizar os dados que ainda não haviam sido pré-processados (`Time` e `Amount`)\n",
        "* Dividir o conjunto de dados entre treino e teste\n",
        "* Balancear o conjunto de dados"
      ]
    },
    {
      "cell_type": "code",
      "execution_count": null,
      "metadata": {
        "id": "IqfjG_SUSTi-"
      },
      "outputs": [],
      "source": [
        "#Criando uma cópia do dataframe\n",
        "\n",
        "df_limpo = df.copy()"
      ]
    },
    {
      "cell_type": "code",
      "execution_count": null,
      "metadata": {
        "id": "Tx_iEZvMqI-s"
      },
      "outputs": [],
      "source": [
        "#Importando o algoritmo que usarei para normalizar os dados\n",
        "\n",
        "scaler = StandardScaler()"
      ]
    },
    {
      "cell_type": "code",
      "execution_count": null,
      "metadata": {
        "id": "-M_5C2XIqI-s"
      },
      "outputs": [],
      "source": [
        "#Atribuindo ao modelo as variáveis \"Time\" e \"Amount\" e criando novas variáveis dentro do dataframe\n",
        "\n",
        "df_limpo['ss_time'] = scaler.fit_transform(df_limpo[['Time']])\n",
        "df_limpo['ss_amount'] = scaler.fit_transform(df_limpo[['Amount']])"
      ]
    },
    {
      "cell_type": "code",
      "execution_count": null,
      "metadata": {
        "id": "CcaJWDFBqI-s"
      },
      "outputs": [],
      "source": [
        "#Deletando as variáveis não-normalizadas\n",
        "\n",
        "df_limpo.drop(['Time', 'Amount'], axis= 1, inplace= True)"
      ]
    },
    {
      "cell_type": "code",
      "execution_count": null,
      "metadata": {
        "id": "cMywT6-MqI-s",
        "outputId": "24024b93-bd1a-49a9-c8c4-ddf090b46c63"
      },
      "outputs": [
        {
          "data": {
            "text/html": [
              "<div>\n",
              "<style scoped>\n",
              "    .dataframe tbody tr th:only-of-type {\n",
              "        vertical-align: middle;\n",
              "    }\n",
              "\n",
              "    .dataframe tbody tr th {\n",
              "        vertical-align: top;\n",
              "    }\n",
              "\n",
              "    .dataframe thead th {\n",
              "        text-align: right;\n",
              "    }\n",
              "</style>\n",
              "<table border=\"1\" class=\"dataframe\">\n",
              "  <thead>\n",
              "    <tr style=\"text-align: right;\">\n",
              "      <th></th>\n",
              "      <th>V1</th>\n",
              "      <th>V2</th>\n",
              "      <th>V3</th>\n",
              "      <th>V4</th>\n",
              "      <th>V5</th>\n",
              "      <th>V6</th>\n",
              "      <th>V7</th>\n",
              "      <th>V8</th>\n",
              "      <th>V9</th>\n",
              "      <th>V10</th>\n",
              "      <th>...</th>\n",
              "      <th>V22</th>\n",
              "      <th>V23</th>\n",
              "      <th>V24</th>\n",
              "      <th>V25</th>\n",
              "      <th>V26</th>\n",
              "      <th>V27</th>\n",
              "      <th>V28</th>\n",
              "      <th>Class</th>\n",
              "      <th>ss_time</th>\n",
              "      <th>ss_amount</th>\n",
              "    </tr>\n",
              "  </thead>\n",
              "  <tbody>\n",
              "    <tr>\n",
              "      <th>0</th>\n",
              "      <td>-1.359807</td>\n",
              "      <td>-0.072781</td>\n",
              "      <td>2.536347</td>\n",
              "      <td>1.378155</td>\n",
              "      <td>-0.338321</td>\n",
              "      <td>0.462388</td>\n",
              "      <td>0.239599</td>\n",
              "      <td>0.098698</td>\n",
              "      <td>0.363787</td>\n",
              "      <td>0.090794</td>\n",
              "      <td>...</td>\n",
              "      <td>0.277838</td>\n",
              "      <td>-0.110474</td>\n",
              "      <td>0.066928</td>\n",
              "      <td>0.128539</td>\n",
              "      <td>-0.189115</td>\n",
              "      <td>0.133558</td>\n",
              "      <td>-0.021053</td>\n",
              "      <td>0</td>\n",
              "      <td>-1.996583</td>\n",
              "      <td>0.244964</td>\n",
              "    </tr>\n",
              "    <tr>\n",
              "      <th>1</th>\n",
              "      <td>1.191857</td>\n",
              "      <td>0.266151</td>\n",
              "      <td>0.166480</td>\n",
              "      <td>0.448154</td>\n",
              "      <td>0.060018</td>\n",
              "      <td>-0.082361</td>\n",
              "      <td>-0.078803</td>\n",
              "      <td>0.085102</td>\n",
              "      <td>-0.255425</td>\n",
              "      <td>-0.166974</td>\n",
              "      <td>...</td>\n",
              "      <td>-0.638672</td>\n",
              "      <td>0.101288</td>\n",
              "      <td>-0.339846</td>\n",
              "      <td>0.167170</td>\n",
              "      <td>0.125895</td>\n",
              "      <td>-0.008983</td>\n",
              "      <td>0.014724</td>\n",
              "      <td>0</td>\n",
              "      <td>-1.996583</td>\n",
              "      <td>-0.342475</td>\n",
              "    </tr>\n",
              "    <tr>\n",
              "      <th>2</th>\n",
              "      <td>-1.358354</td>\n",
              "      <td>-1.340163</td>\n",
              "      <td>1.773209</td>\n",
              "      <td>0.379780</td>\n",
              "      <td>-0.503198</td>\n",
              "      <td>1.800499</td>\n",
              "      <td>0.791461</td>\n",
              "      <td>0.247676</td>\n",
              "      <td>-1.514654</td>\n",
              "      <td>0.207643</td>\n",
              "      <td>...</td>\n",
              "      <td>0.771679</td>\n",
              "      <td>0.909412</td>\n",
              "      <td>-0.689281</td>\n",
              "      <td>-0.327642</td>\n",
              "      <td>-0.139097</td>\n",
              "      <td>-0.055353</td>\n",
              "      <td>-0.059752</td>\n",
              "      <td>0</td>\n",
              "      <td>-1.996562</td>\n",
              "      <td>1.160686</td>\n",
              "    </tr>\n",
              "    <tr>\n",
              "      <th>3</th>\n",
              "      <td>-0.966272</td>\n",
              "      <td>-0.185226</td>\n",
              "      <td>1.792993</td>\n",
              "      <td>-0.863291</td>\n",
              "      <td>-0.010309</td>\n",
              "      <td>1.247203</td>\n",
              "      <td>0.237609</td>\n",
              "      <td>0.377436</td>\n",
              "      <td>-1.387024</td>\n",
              "      <td>-0.054952</td>\n",
              "      <td>...</td>\n",
              "      <td>0.005274</td>\n",
              "      <td>-0.190321</td>\n",
              "      <td>-1.175575</td>\n",
              "      <td>0.647376</td>\n",
              "      <td>-0.221929</td>\n",
              "      <td>0.062723</td>\n",
              "      <td>0.061458</td>\n",
              "      <td>0</td>\n",
              "      <td>-1.996562</td>\n",
              "      <td>0.140534</td>\n",
              "    </tr>\n",
              "    <tr>\n",
              "      <th>4</th>\n",
              "      <td>-1.158233</td>\n",
              "      <td>0.877737</td>\n",
              "      <td>1.548718</td>\n",
              "      <td>0.403034</td>\n",
              "      <td>-0.407193</td>\n",
              "      <td>0.095921</td>\n",
              "      <td>0.592941</td>\n",
              "      <td>-0.270533</td>\n",
              "      <td>0.817739</td>\n",
              "      <td>0.753074</td>\n",
              "      <td>...</td>\n",
              "      <td>0.798278</td>\n",
              "      <td>-0.137458</td>\n",
              "      <td>0.141267</td>\n",
              "      <td>-0.206010</td>\n",
              "      <td>0.502292</td>\n",
              "      <td>0.219422</td>\n",
              "      <td>0.215153</td>\n",
              "      <td>0</td>\n",
              "      <td>-1.996541</td>\n",
              "      <td>-0.073403</td>\n",
              "    </tr>\n",
              "    <tr>\n",
              "      <th>5</th>\n",
              "      <td>-0.425966</td>\n",
              "      <td>0.960523</td>\n",
              "      <td>1.141109</td>\n",
              "      <td>-0.168252</td>\n",
              "      <td>0.420987</td>\n",
              "      <td>-0.029728</td>\n",
              "      <td>0.476201</td>\n",
              "      <td>0.260314</td>\n",
              "      <td>-0.568671</td>\n",
              "      <td>-0.371407</td>\n",
              "      <td>...</td>\n",
              "      <td>-0.559825</td>\n",
              "      <td>-0.026398</td>\n",
              "      <td>-0.371427</td>\n",
              "      <td>-0.232794</td>\n",
              "      <td>0.105915</td>\n",
              "      <td>0.253844</td>\n",
              "      <td>0.081080</td>\n",
              "      <td>0</td>\n",
              "      <td>-1.996541</td>\n",
              "      <td>-0.338556</td>\n",
              "    </tr>\n",
              "    <tr>\n",
              "      <th>6</th>\n",
              "      <td>1.229658</td>\n",
              "      <td>0.141004</td>\n",
              "      <td>0.045371</td>\n",
              "      <td>1.202613</td>\n",
              "      <td>0.191881</td>\n",
              "      <td>0.272708</td>\n",
              "      <td>-0.005159</td>\n",
              "      <td>0.081213</td>\n",
              "      <td>0.464960</td>\n",
              "      <td>-0.099254</td>\n",
              "      <td>...</td>\n",
              "      <td>-0.270710</td>\n",
              "      <td>-0.154104</td>\n",
              "      <td>-0.780055</td>\n",
              "      <td>0.750137</td>\n",
              "      <td>-0.257237</td>\n",
              "      <td>0.034507</td>\n",
              "      <td>0.005168</td>\n",
              "      <td>0</td>\n",
              "      <td>-1.996499</td>\n",
              "      <td>-0.333279</td>\n",
              "    </tr>\n",
              "    <tr>\n",
              "      <th>7</th>\n",
              "      <td>-0.644269</td>\n",
              "      <td>1.417964</td>\n",
              "      <td>1.074380</td>\n",
              "      <td>-0.492199</td>\n",
              "      <td>0.948934</td>\n",
              "      <td>0.428118</td>\n",
              "      <td>1.120631</td>\n",
              "      <td>-3.807864</td>\n",
              "      <td>0.615375</td>\n",
              "      <td>1.249376</td>\n",
              "      <td>...</td>\n",
              "      <td>-1.015455</td>\n",
              "      <td>0.057504</td>\n",
              "      <td>-0.649709</td>\n",
              "      <td>-0.415267</td>\n",
              "      <td>-0.051634</td>\n",
              "      <td>-1.206921</td>\n",
              "      <td>-1.085339</td>\n",
              "      <td>0</td>\n",
              "      <td>-1.996436</td>\n",
              "      <td>-0.190107</td>\n",
              "    </tr>\n",
              "    <tr>\n",
              "      <th>8</th>\n",
              "      <td>-0.894286</td>\n",
              "      <td>0.286157</td>\n",
              "      <td>-0.113192</td>\n",
              "      <td>-0.271526</td>\n",
              "      <td>2.669599</td>\n",
              "      <td>3.721818</td>\n",
              "      <td>0.370145</td>\n",
              "      <td>0.851084</td>\n",
              "      <td>-0.392048</td>\n",
              "      <td>-0.410430</td>\n",
              "      <td>...</td>\n",
              "      <td>-0.268092</td>\n",
              "      <td>-0.204233</td>\n",
              "      <td>1.011592</td>\n",
              "      <td>0.373205</td>\n",
              "      <td>-0.384157</td>\n",
              "      <td>0.011747</td>\n",
              "      <td>0.142404</td>\n",
              "      <td>0</td>\n",
              "      <td>-1.996436</td>\n",
              "      <td>0.019392</td>\n",
              "    </tr>\n",
              "    <tr>\n",
              "      <th>9</th>\n",
              "      <td>-0.338262</td>\n",
              "      <td>1.119593</td>\n",
              "      <td>1.044367</td>\n",
              "      <td>-0.222187</td>\n",
              "      <td>0.499361</td>\n",
              "      <td>-0.246761</td>\n",
              "      <td>0.651583</td>\n",
              "      <td>0.069539</td>\n",
              "      <td>-0.736727</td>\n",
              "      <td>-0.366846</td>\n",
              "      <td>...</td>\n",
              "      <td>-0.633753</td>\n",
              "      <td>-0.120794</td>\n",
              "      <td>-0.385050</td>\n",
              "      <td>-0.069733</td>\n",
              "      <td>0.094199</td>\n",
              "      <td>0.246219</td>\n",
              "      <td>0.083076</td>\n",
              "      <td>0</td>\n",
              "      <td>-1.996394</td>\n",
              "      <td>-0.338516</td>\n",
              "    </tr>\n",
              "  </tbody>\n",
              "</table>\n",
              "<p>10 rows × 31 columns</p>\n",
              "</div>"
            ],
            "text/plain": [
              "         V1        V2        V3        V4        V5        V6        V7  \\\n",
              "0 -1.359807 -0.072781  2.536347  1.378155 -0.338321  0.462388  0.239599   \n",
              "1  1.191857  0.266151  0.166480  0.448154  0.060018 -0.082361 -0.078803   \n",
              "2 -1.358354 -1.340163  1.773209  0.379780 -0.503198  1.800499  0.791461   \n",
              "3 -0.966272 -0.185226  1.792993 -0.863291 -0.010309  1.247203  0.237609   \n",
              "4 -1.158233  0.877737  1.548718  0.403034 -0.407193  0.095921  0.592941   \n",
              "5 -0.425966  0.960523  1.141109 -0.168252  0.420987 -0.029728  0.476201   \n",
              "6  1.229658  0.141004  0.045371  1.202613  0.191881  0.272708 -0.005159   \n",
              "7 -0.644269  1.417964  1.074380 -0.492199  0.948934  0.428118  1.120631   \n",
              "8 -0.894286  0.286157 -0.113192 -0.271526  2.669599  3.721818  0.370145   \n",
              "9 -0.338262  1.119593  1.044367 -0.222187  0.499361 -0.246761  0.651583   \n",
              "\n",
              "         V8        V9       V10  ...       V22       V23       V24       V25  \\\n",
              "0  0.098698  0.363787  0.090794  ...  0.277838 -0.110474  0.066928  0.128539   \n",
              "1  0.085102 -0.255425 -0.166974  ... -0.638672  0.101288 -0.339846  0.167170   \n",
              "2  0.247676 -1.514654  0.207643  ...  0.771679  0.909412 -0.689281 -0.327642   \n",
              "3  0.377436 -1.387024 -0.054952  ...  0.005274 -0.190321 -1.175575  0.647376   \n",
              "4 -0.270533  0.817739  0.753074  ...  0.798278 -0.137458  0.141267 -0.206010   \n",
              "5  0.260314 -0.568671 -0.371407  ... -0.559825 -0.026398 -0.371427 -0.232794   \n",
              "6  0.081213  0.464960 -0.099254  ... -0.270710 -0.154104 -0.780055  0.750137   \n",
              "7 -3.807864  0.615375  1.249376  ... -1.015455  0.057504 -0.649709 -0.415267   \n",
              "8  0.851084 -0.392048 -0.410430  ... -0.268092 -0.204233  1.011592  0.373205   \n",
              "9  0.069539 -0.736727 -0.366846  ... -0.633753 -0.120794 -0.385050 -0.069733   \n",
              "\n",
              "        V26       V27       V28  Class   ss_time  ss_amount  \n",
              "0 -0.189115  0.133558 -0.021053      0 -1.996583   0.244964  \n",
              "1  0.125895 -0.008983  0.014724      0 -1.996583  -0.342475  \n",
              "2 -0.139097 -0.055353 -0.059752      0 -1.996562   1.160686  \n",
              "3 -0.221929  0.062723  0.061458      0 -1.996562   0.140534  \n",
              "4  0.502292  0.219422  0.215153      0 -1.996541  -0.073403  \n",
              "5  0.105915  0.253844  0.081080      0 -1.996541  -0.338556  \n",
              "6 -0.257237  0.034507  0.005168      0 -1.996499  -0.333279  \n",
              "7 -0.051634 -1.206921 -1.085339      0 -1.996436  -0.190107  \n",
              "8 -0.384157  0.011747  0.142404      0 -1.996436   0.019392  \n",
              "9  0.094199  0.246219  0.083076      0 -1.996394  -0.338516  \n",
              "\n",
              "[10 rows x 31 columns]"
            ]
          },
          "execution_count": 240,
          "metadata": {},
          "output_type": "execute_result"
        }
      ],
      "source": [
        "#Conferindo o resultado\n",
        "\n",
        "df_limpo.head(10)"
      ]
    },
    {
      "cell_type": "code",
      "execution_count": null,
      "metadata": {
        "id": "Ts4KoupCqI-t"
      },
      "outputs": [],
      "source": [
        "#Separando as variáveis depedentes e independente\n",
        "\n",
        "X = df_limpo.drop('Class', axis = 1)\n",
        "y = df_limpo['Class']"
      ]
    },
    {
      "cell_type": "markdown",
      "metadata": {
        "tags": [],
        "id": "N0h3VlCrqI-t"
      },
      "source": [
        "## Balanceando o conjunto de dados\n",
        "Como o conjunto de dados está totalmente desbalanceado onde as transações que não são fraude representam a maior parte das ocorrências, é preciso aplicar técnicas de balanceamento antes de treinar nossos modelos\n",
        "\n",
        "Para este cenário, escolhi mixar duas técnicas: \"Undersampling\" e \"Oversampling\"; com o objetivo de aumentar um pouco a classe de transações que representam fraude para melhor treinamento dos modelos. O método NearMiss da biblioteca [imblearn](https://imbalanced-learn.org/stable/install.html#) é um algoritmo de \"Undersampling\" onde ele basicamente pega a quantidade de ocorrencias que não são fraude e reduz a mesma quantidade das transações que são fraude. Isto é, o algoritmo faz um corte nos dados de modo que a classe com maior ocorrência se reduz e fica igual a classe que tem menos ocorrências. \n",
        "O método \"SMOTE\" (Synthetic Minority Over-sampling Technique) também da mesma biblioteca, ao contrário do \"Undersampling\", fabrica dados sintéticos. Aumentando assim, a quantidade de dados da classe desejada. \n",
        "\n",
        "Primeiramente irei aumentar a quantidade de dados da classe menor com o \"SMOTE\" depois farei um corte, de modo que elas estejam com as mesmas quantidades de dados.\n",
        "\n",
        "Se treinarmos o nosso modelo simplesmente com dados desbaçanceados, ele vai ficar muito melhor em acertar transações que não são fraude do que as que são. Por isso, balancear os dados nesse cenário é altamente necessário!\n",
        "\n"
      ]
    },
    {
      "cell_type": "markdown",
      "metadata": {
        "id": "SCKFNCTfqI-u"
      },
      "source": [
        "## Oversampling"
      ]
    },
    {
      "cell_type": "markdown",
      "metadata": {
        "id": "yj7WDu9rqI-u"
      },
      "source": [
        "No `sampling_strategy`, é possível passar a quantidade de dados que você queira fabricar. O parâmetro que passei, indica que ele irá gerar 10% da quantidade total de linhas do dataset."
      ]
    },
    {
      "cell_type": "code",
      "execution_count": null,
      "metadata": {
        "id": "UmRa971qqI-u"
      },
      "outputs": [],
      "source": [
        "smote = SMOTE(sampling_strategy= 0.1)\n",
        "X_over, y_over = smote.fit_resample(X, y)"
      ]
    },
    {
      "cell_type": "code",
      "execution_count": null,
      "metadata": {
        "id": "7nnpNfESqI-v",
        "outputId": "d12e6bd7-2de2-42d5-cd5f-ad72da7a97a4"
      },
      "outputs": [
        {
          "data": {
            "text/plain": [
              "[Text(0, 0, 'Normal'), Text(1, 0, 'Fraude')]"
            ]
          },
          "execution_count": 243,
          "metadata": {},
          "output_type": "execute_result"
        },
        {
          "data": {
            "image/png": "[encoded data removed]",
            "text/plain": [
              "<Figure size 1080x360 with 2 Axes>"
            ]
          },
          "metadata": {
            "needs_background": "light"
          },
          "output_type": "display_data"
        }
      ],
      "source": [
        "#Plotando um antes e depois dos dados\n",
        "\n",
        "fig, ax = plt.subplots(ncols= 2, figsize = (15,5))\n",
        "\n",
        "\n",
        "sns.countplot(df.Class, ax = ax[0], color= azul)\n",
        "ax[0].set_title('Antes do Oversampling',\n",
        "                fontsize = 15,\n",
        "                color = preto_titulo, \n",
        "                pad= 10, \n",
        "                fontweight= 'bold')\n",
        "ax[0].set_xlabel('Transação',fontsize = 12, color= preto_elementos)\n",
        "ax[0].set_ylabel('Quantidade de ocorrências',fontsize = 12, color= preto_elementos)\n",
        "ax[0].set_xticklabels(labels = ['Normal','Fraude'],fontsize = 12, color= preto_elementos)\n",
        "\n",
        "\n",
        "sns.countplot(y_over, ax = ax[1], color= azul)\n",
        "ax[1].set_title('Depois do Oversampling',\n",
        "                fontsize = 15,\n",
        "                color = preto_titulo, \n",
        "                pad= 10, \n",
        "                fontweight= 'bold')\n",
        "ax[1].set_xlabel('Transação',fontsize = 12, color= preto_elementos)\n",
        "ax[1].set_ylabel('Quantidade de ocorrências',fontsize = 12, color= preto_elementos)\n",
        "ax[1].set_xticklabels(labels = ['Normal','Fraude'],fontsize = 12, color= preto_elementos)\n",
        "\n",
        "\n"
      ]
    },
    {
      "cell_type": "markdown",
      "metadata": {
        "id": "bPWmWGfeqI-v"
      },
      "source": [
        "## Undersampling\n"
      ]
    },
    {
      "cell_type": "code",
      "execution_count": null,
      "metadata": {
        "id": "u2ugksluqI-w"
      },
      "outputs": [],
      "source": [
        "#Importando o modelo de Undersampling\n",
        "\n",
        "nm = NearMiss()"
      ]
    },
    {
      "cell_type": "code",
      "execution_count": null,
      "metadata": {
        "id": "359g9OtxqI-w"
      },
      "outputs": [],
      "source": [
        "#Ajustando o modelo com os dados e os atribuindo a novas variáveis\n",
        "\n",
        "X_under, y_under = nm.fit_resample(X_over, y_over)"
      ]
    },
    {
      "cell_type": "code",
      "execution_count": null,
      "metadata": {
        "id": "yMGibsraqI-w",
        "outputId": "f0f70a58-ebb8-4cb1-f8fd-20825c67e4f1"
      },
      "outputs": [
        {
          "data": {
            "text/plain": [
              "[Text(0, 0, 'Normal'), Text(1, 0, 'Fraude')]"
            ]
          },
          "execution_count": 246,
          "metadata": {},
          "output_type": "execute_result"
        },
        {
          "data": {
            "image/png": "[encoded data removed]",
            "text/plain": [
              "<Figure size 1080x360 with 2 Axes>"
            ]
          },
          "metadata": {
            "needs_background": "light"
          },
          "output_type": "display_data"
        }
      ],
      "source": [
        "#Plotando um antes e depois dos dados\n",
        "\n",
        "fig, ax = plt.subplots(ncols= 2, figsize = (15,5))\n",
        "\n",
        "\n",
        "sns.countplot(df.Class, ax = ax[0], color= azul)\n",
        "ax[0].set_title('Antes do Undersampling',\n",
        "                fontsize = 15,\n",
        "                color = preto_titulo, \n",
        "                pad= 10, \n",
        "                fontweight= 'bold')\n",
        "ax[0].set_xlabel('Transação',fontsize = 12, color= preto_elementos)\n",
        "ax[0].set_ylabel('Quantidade de ocorrências',fontsize = 12, color= preto_elementos)\n",
        "ax[0].set_xticklabels(labels = ['Normal','Fraude'],fontsize = 12, color= preto_elementos)\n",
        "\n",
        "\n",
        "sns.countplot(y_under, ax = ax[1], color= azul)\n",
        "ax[1].set_title('Depois do Undersampling',\n",
        "                fontsize = 15,\n",
        "                color = preto_titulo, \n",
        "                pad= 10, \n",
        "                fontweight= 'bold')\n",
        "ax[1].set_xlabel('Transação',fontsize = 12, color= preto_elementos)\n",
        "ax[1].set_ylabel('Quantidade de ocorrências',fontsize = 12, color= preto_elementos)\n",
        "ax[1].set_xticklabels(labels = ['Normal','Fraude'],fontsize = 12, color= preto_elementos)\n",
        "\n",
        "\n"
      ]
    },
    {
      "cell_type": "markdown",
      "metadata": {
        "id": "wJNH5qcjRxfX",
        "tags": []
      },
      "source": [
        "# Modelos de Machine Learning\n",
        "---\n",
        "Com os dados prontos, é hora de construir nossos modelos. Optei por construir cinco modelos afim de compará-los posteriormente. Os modelos que serão usados são:\n",
        "* Regressão Logística\n",
        "* Decision Tree\n",
        "* Random Forest\n",
        "* Gradient Boosting\n",
        "* SGD Classifier\n",
        "\n",
        "Depois farei um comparativo de como cada modelo se saiu neste cenário"
      ]
    },
    {
      "cell_type": "code",
      "execution_count": null,
      "metadata": {
        "id": "-aRqPWNUqI-x"
      },
      "outputs": [],
      "source": [
        "#Separando os dados entre treino e teste\n",
        "\n",
        "X_train, X_test, y_train, y_test = train_test_split(X_under, y_under, test_size=0.2, random_state=42)"
      ]
    },
    {
      "cell_type": "markdown",
      "metadata": {
        "tags": [],
        "id": "EvtJ0IgwqI-x"
      },
      "source": [
        "## Regressão logística"
      ]
    },
    {
      "cell_type": "code",
      "execution_count": null,
      "metadata": {
        "id": "lDySx8XUSMw_",
        "outputId": "480ffbec-4764-4f5b-9da1-a0395fa601c4"
      },
      "outputs": [
        {
          "data": {
            "text/plain": [
              "LogisticRegression()"
            ]
          },
          "execution_count": 248,
          "metadata": {},
          "output_type": "execute_result"
        }
      ],
      "source": [
        "#Criando um modelo de Regressão Logística e ajustando-o\n",
        "\n",
        "modelo = LogisticRegression()\n",
        "modelo.fit(X_train, y_train)"
      ]
    },
    {
      "cell_type": "code",
      "execution_count": null,
      "metadata": {
        "id": "1ncZt49BqI-y",
        "outputId": "366ec819-60b6-43f9-bd8b-b76e80563b69"
      },
      "outputs": [
        {
          "name": "stdout",
          "output_type": "stream",
          "text": [
            "              precision    recall  f1-score   support\n",
            "\n",
            "           0       0.94      0.98      0.96      5653\n",
            "           1       0.98      0.94      0.96      5720\n",
            "\n",
            "    accuracy                           0.96     11373\n",
            "   macro avg       0.96      0.96      0.96     11373\n",
            "weighted avg       0.96      0.96      0.96     11373\n",
            "\n"
          ]
        }
      ],
      "source": [
        "#Previsão dos resultados do modelo de Regressão Logística\n",
        "\n",
        "y_pred = modelo.predict(X_test)\n",
        "print(classification_report(y_test, y_pred))"
      ]
    },
    {
      "cell_type": "markdown",
      "metadata": {
        "tags": [],
        "id": "TSl4Aej8qI-y"
      },
      "source": [
        "## Decision Tree"
      ]
    },
    {
      "cell_type": "code",
      "execution_count": null,
      "metadata": {
        "id": "zulZlXXSqI-y",
        "outputId": "fc631ac5-3859-46e6-918c-b18658a94efe"
      },
      "outputs": [
        {
          "data": {
            "text/plain": [
              "DecisionTreeClassifier(min_samples_leaf=3, random_state=10)"
            ]
          },
          "execution_count": 250,
          "metadata": {},
          "output_type": "execute_result"
        }
      ],
      "source": [
        "#Criando um novo modelo de árvore de decisão\n",
        "\n",
        "arvore = DecisionTreeClassifier(min_samples_leaf= 3, random_state= 10)\n",
        "arvore.fit(X_train, y_train)"
      ]
    },
    {
      "cell_type": "code",
      "execution_count": null,
      "metadata": {
        "id": "dCDtr2f7qI-y",
        "outputId": "e58786c0-5e7b-4475-8ed6-1e929e4373a9"
      },
      "outputs": [
        {
          "name": "stdout",
          "output_type": "stream",
          "text": [
            "Erro médio quadrado: 0.09235243433157232\n",
            "\n",
            "              precision    recall  f1-score   support\n",
            "\n",
            "           0       0.99      0.99      0.99      5653\n",
            "           1       0.99      0.99      0.99      5720\n",
            "\n",
            "    accuracy                           0.99     11373\n",
            "   macro avg       0.99      0.99      0.99     11373\n",
            "weighted avg       0.99      0.99      0.99     11373\n",
            "\n"
          ]
        }
      ],
      "source": [
        "#Previsão dos resultados usando árvore de decisão e avaliando-a usando o erro médio quadrado\n",
        "\n",
        "y_pred_arvore = arvore.predict(X_test)\n",
        "\n",
        "print(\"Erro médio quadrado: {}\\n\".format(np.sqrt(mean_squared_error(y_test, y_pred_arvore))))\n",
        "#Métricas - árvore de decisão\n",
        "print(classification_report(y_test, y_pred_arvore))"
      ]
    },
    {
      "cell_type": "markdown",
      "metadata": {
        "id": "A5vSRVHzqI-z"
      },
      "source": [
        "---\n",
        "Nos hiperparâmetros da árvore de decisão, afim de evitar um possível overfit existem dois parâmetros que ajudam: `max_depth` e o `min_samples_leaf`. O primeiro, limita a profundidade da nossa árvore, ou seja, quantas camadas ela terá. Já o segundo, ao invés de focar na profundidade, nele é limitado quantas folhas terão em cada camada.\n",
        "\n",
        "Se não colocarmos hiperparâmetro nenhum, a árvore irá treinar o modelo até a profundidade que achar melhor e geralmente até ter uma folha em cada camada. Isso acaba se tornando muito sensível em casos de outliers e também a probabilidade de haver um overfit se torna maior.\n",
        "\n",
        "O padrão que escolhi usar foi o `min_samples_leaf`, acabei tendo um resultado um pouco melhor do que o `max_depth`. Usei como métrica também o erro médio quadrado, quanto menor o número, melhor."
      ]
    },
    {
      "cell_type": "markdown",
      "metadata": {
        "tags": [],
        "id": "UAL9-T4mqI-z"
      },
      "source": [
        "## Random Forest"
      ]
    },
    {
      "cell_type": "markdown",
      "metadata": {
        "id": "N9MvpSUDqI-z"
      },
      "source": [
        "Este modelo também aceita o parâmetro que citei anteriormente, o `min_samples_leaf`. Porém foi preciso aumentar o valor pois até então estava tendo um overfit. "
      ]
    },
    {
      "cell_type": "code",
      "execution_count": null,
      "metadata": {
        "id": "Up3MgJ5rqI-z"
      },
      "outputs": [],
      "source": [
        "#Criando o modelo de Random Forests\n",
        "random_f = RandomForestClassifier(min_samples_leaf = 11, random_state = 10)\n",
        "random_f.fit(X_train, y_train)\n",
        "y_pred_rf = random_f.predict(X_test)"
      ]
    },
    {
      "cell_type": "code",
      "execution_count": null,
      "metadata": {
        "id": "_v_gI765qI-z",
        "outputId": "681c60c5-d8c8-4432-a31e-51a129dc1db6"
      },
      "outputs": [
        {
          "name": "stdout",
          "output_type": "stream",
          "text": [
            "Erro médio quadrado: 0.08746254426873502\n",
            "\n",
            "              precision    recall  f1-score   support\n",
            "\n",
            "           0       0.99      0.99      0.99      5653\n",
            "           1       0.99      0.99      0.99      5720\n",
            "\n",
            "    accuracy                           0.99     11373\n",
            "   macro avg       0.99      0.99      0.99     11373\n",
            "weighted avg       0.99      0.99      0.99     11373\n",
            "\n"
          ]
        }
      ],
      "source": [
        "print(\"Erro médio quadrado: {}\\n\".format(np.sqrt(mean_squared_error(y_test, y_pred_rf))))\n",
        "print(classification_report(y_test, y_pred_rf))"
      ]
    },
    {
      "cell_type": "markdown",
      "metadata": {
        "tags": [],
        "id": "43rYvVoBqI-z"
      },
      "source": [
        "## Gradient Boosting"
      ]
    },
    {
      "cell_type": "code",
      "execution_count": null,
      "metadata": {
        "id": "wu8KfKmQqI-z",
        "outputId": "e9a9cbcc-a473-4f85-f5c2-17d9bec3e680"
      },
      "outputs": [
        {
          "data": {
            "text/plain": [
              "GradientBoostingClassifier(random_state=10)"
            ]
          },
          "execution_count": 254,
          "metadata": {},
          "output_type": "execute_result"
        }
      ],
      "source": [
        "gbc = GradientBoostingClassifier(random_state= 10)\n",
        "gbc.fit(X_train, y_train)"
      ]
    },
    {
      "cell_type": "code",
      "execution_count": null,
      "metadata": {
        "id": "ij4xaewCqI-0"
      },
      "outputs": [],
      "source": [
        "y_pred_gbc = gbc.predict(X_test)"
      ]
    },
    {
      "cell_type": "code",
      "execution_count": null,
      "metadata": {
        "id": "YeJLgsmoqI-0",
        "outputId": "e22e0861-3e30-44d0-8919-0ef8d08d5cd4"
      },
      "outputs": [
        {
          "name": "stdout",
          "output_type": "stream",
          "text": [
            "Erro médio quadrado: 0.147072012070179\n",
            "\n",
            "              precision    recall  f1-score   support\n",
            "\n",
            "           0       0.97      0.99      0.98      5653\n",
            "           1       0.99      0.97      0.98      5720\n",
            "\n",
            "    accuracy                           0.98     11373\n",
            "   macro avg       0.98      0.98      0.98     11373\n",
            "weighted avg       0.98      0.98      0.98     11373\n",
            "\n"
          ]
        }
      ],
      "source": [
        "print(\"Erro médio quadrado: {}\\n\".format(np.sqrt(mean_squared_error(y_test, y_pred_gbc))))\n",
        "print(classification_report(y_test, y_pred_gbc))"
      ]
    },
    {
      "cell_type": "markdown",
      "metadata": {
        "tags": [],
        "id": "nng8EcQCqI-0"
      },
      "source": [
        "## SGD Classifier"
      ]
    },
    {
      "cell_type": "code",
      "execution_count": null,
      "metadata": {
        "id": "26yuqHIKqI-0"
      },
      "outputs": [],
      "source": [
        "sgdc = SGDClassifier(random_state= 10)\n",
        "sgdc.fit(X_train, y_train)\n",
        "y_pred_sgdc = sgdc.predict(X_test)"
      ]
    },
    {
      "cell_type": "code",
      "execution_count": null,
      "metadata": {
        "id": "0irpj5lyqI-0",
        "outputId": "98ba8a89-0797-42b1-c361-0365a6129559"
      },
      "outputs": [
        {
          "name": "stdout",
          "output_type": "stream",
          "text": [
            "Erro médio quadrado: 0.202854855312672\n",
            "\n",
            "              precision    recall  f1-score   support\n",
            "\n",
            "           0       0.94      0.98      0.96      5653\n",
            "           1       0.97      0.94      0.96      5720\n",
            "\n",
            "    accuracy                           0.96     11373\n",
            "   macro avg       0.96      0.96      0.96     11373\n",
            "weighted avg       0.96      0.96      0.96     11373\n",
            "\n"
          ]
        }
      ],
      "source": [
        "print(\"Erro médio quadrado: {}\\n\".format(np.sqrt(mean_squared_error(y_test, y_pred_sgdc))))\n",
        "print(classification_report(y_test, y_pred_sgdc))"
      ]
    },
    {
      "cell_type": "markdown",
      "metadata": {
        "id": "3e4ENOTYSUXi"
      },
      "source": [
        "## Avaliando o desempenho dos modelos\n"
      ]
    },
    {
      "cell_type": "code",
      "execution_count": null,
      "metadata": {
        "id": "_uryUf40qI-1",
        "outputId": "dc561593-f562-45c8-9a9d-bd61997d46d1"
      },
      "outputs": [
        {
          "data": {
            "text/html": [
              "<div>\n",
              "<style scoped>\n",
              "    .dataframe tbody tr th:only-of-type {\n",
              "        vertical-align: middle;\n",
              "    }\n",
              "\n",
              "    .dataframe tbody tr th {\n",
              "        vertical-align: top;\n",
              "    }\n",
              "\n",
              "    .dataframe thead th {\n",
              "        text-align: right;\n",
              "    }\n",
              "</style>\n",
              "<table border=\"1\" class=\"dataframe\">\n",
              "  <thead>\n",
              "    <tr style=\"text-align: right;\">\n",
              "      <th></th>\n",
              "      <th>Modelo</th>\n",
              "      <th>Acurácia</th>\n",
              "      <th>Precisão</th>\n",
              "      <th>Recall</th>\n",
              "      <th>f1_score</th>\n",
              "    </tr>\n",
              "  </thead>\n",
              "  <tbody>\n",
              "  </tbody>\n",
              "</table>\n",
              "</div>"
            ],
            "text/plain": [
              "Empty DataFrame\n",
              "Columns: [Modelo, Acurácia,  Precisão, Recall, f1_score]\n",
              "Index: []"
            ]
          },
          "execution_count": 259,
          "metadata": {},
          "output_type": "execute_result"
        }
      ],
      "source": [
        "# Criando um dataframe para salvar as métricas\n",
        "colunas = ['Modelo','Acurácia', ' Precisão','Recall','f1_score']\n",
        "desempenho_modelos = pd.DataFrame(columns=colunas)\n",
        "desempenho_modelos"
      ]
    },
    {
      "cell_type": "code",
      "execution_count": null,
      "metadata": {
        "id": "6Vwd-uSmqI-1"
      },
      "outputs": [],
      "source": [
        "#Para facilitar e também obter um código mais limpo, fiz uma função para ir criando e adicionando os dados no dataframe\n",
        "\n",
        "def salva_dataframe(nome_modelo, y_test, y_pred):\n",
        "    print(nome_modelo)\n",
        "    print('************************************************************************')\n",
        "    print('RESUMO DO MODELO - CLASSIFICATION REPORT')\n",
        " \n",
        "    precision_score = metrics.precision_score(y_test, y_pred)\n",
        "    recall_score = metrics.recall_score(y_test, y_pred)\n",
        "    accuracy_score  = metrics.accuracy_score(y_test,y_pred)\n",
        "    f1_score = metrics.f1_score(y_test,y_pred)\n",
        "    \n",
        "    classification_report = metrics.classification_report(y_test,y_pred)\n",
        "    print(classification_report)\n",
        "    \n",
        "    \n",
        "    desempenho_modelos.loc[len(desempenho_modelos.index)] = [nome_modelo,accuracy_score,precision_score,recall_score, f1_score]"
      ]
    },
    {
      "cell_type": "markdown",
      "metadata": {
        "id": "NTkjGDugqI-1"
      },
      "source": [
        "precision_score, recall_score, accuracy_score, f1_score"
      ]
    },
    {
      "cell_type": "code",
      "execution_count": null,
      "metadata": {
        "id": "ybur37zTqI-1",
        "outputId": "04de1f12-0693-41d0-c19c-c0e767a22a63"
      },
      "outputs": [
        {
          "name": "stdout",
          "output_type": "stream",
          "text": [
            "Regressao Logistica\n",
            "************************************************************************\n",
            "RESUMO DO MODELO - CLASSIFICATION REPORT\n",
            "              precision    recall  f1-score   support\n",
            "\n",
            "           0       0.94      0.98      0.96      5653\n",
            "           1       0.98      0.94      0.96      5720\n",
            "\n",
            "    accuracy                           0.96     11373\n",
            "   macro avg       0.96      0.96      0.96     11373\n",
            "weighted avg       0.96      0.96      0.96     11373\n",
            "\n"
          ]
        }
      ],
      "source": [
        "#Salvando RL no dataframe\n",
        "\n",
        "salva_dataframe('Regressao Logistica', y_test, y_pred)"
      ]
    },
    {
      "cell_type": "code",
      "execution_count": null,
      "metadata": {
        "id": "fwC3MqASqI-1",
        "outputId": "6528c5d7-eff2-44ac-faac-277c40e2f7e5"
      },
      "outputs": [
        {
          "name": "stdout",
          "output_type": "stream",
          "text": [
            "DecisionTree\n",
            "************************************************************************\n",
            "RESUMO DO MODELO - CLASSIFICATION REPORT\n",
            "              precision    recall  f1-score   support\n",
            "\n",
            "           0       0.99      0.99      0.99      5653\n",
            "           1       0.99      0.99      0.99      5720\n",
            "\n",
            "    accuracy                           0.99     11373\n",
            "   macro avg       0.99      0.99      0.99     11373\n",
            "weighted avg       0.99      0.99      0.99     11373\n",
            "\n"
          ]
        }
      ],
      "source": [
        "#Salvando a DT no dataframe\n",
        "\n",
        "salva_dataframe('DecisionTree', y_test, y_pred_arvore)"
      ]
    },
    {
      "cell_type": "code",
      "execution_count": null,
      "metadata": {
        "id": "9Dt96YAfqI-1",
        "outputId": "097b1c74-cc8d-4a6f-b975-dcd63e1bd7a1"
      },
      "outputs": [
        {
          "name": "stdout",
          "output_type": "stream",
          "text": [
            "Random Forest\n",
            "************************************************************************\n",
            "RESUMO DO MODELO - CLASSIFICATION REPORT\n",
            "              precision    recall  f1-score   support\n",
            "\n",
            "           0       0.99      0.99      0.99      5653\n",
            "           1       0.99      0.99      0.99      5720\n",
            "\n",
            "    accuracy                           0.99     11373\n",
            "   macro avg       0.99      0.99      0.99     11373\n",
            "weighted avg       0.99      0.99      0.99     11373\n",
            "\n"
          ]
        }
      ],
      "source": [
        "#Salvando a RF no dataframe\n",
        "\n",
        "salva_dataframe('Random Forest', y_test, y_pred_rf)"
      ]
    },
    {
      "cell_type": "code",
      "execution_count": null,
      "metadata": {
        "id": "kFter_xUqI-2",
        "outputId": "f1e98c32-9fd5-4efc-820c-69c3eae3bfbc"
      },
      "outputs": [
        {
          "name": "stdout",
          "output_type": "stream",
          "text": [
            "Gradient Boosting\n",
            "************************************************************************\n",
            "RESUMO DO MODELO - CLASSIFICATION REPORT\n",
            "              precision    recall  f1-score   support\n",
            "\n",
            "           0       0.97      0.99      0.98      5653\n",
            "           1       0.99      0.97      0.98      5720\n",
            "\n",
            "    accuracy                           0.98     11373\n",
            "   macro avg       0.98      0.98      0.98     11373\n",
            "weighted avg       0.98      0.98      0.98     11373\n",
            "\n"
          ]
        }
      ],
      "source": [
        "#Salvando o GB no dataframe\n",
        "\n",
        "salva_dataframe('Gradient Boosting', y_test, y_pred_gbc)"
      ]
    },
    {
      "cell_type": "code",
      "execution_count": null,
      "metadata": {
        "id": "b3aCm4iAqI-2",
        "outputId": "5dbb32ab-f09b-49f1-82c4-909a4bfce605"
      },
      "outputs": [
        {
          "name": "stdout",
          "output_type": "stream",
          "text": [
            "SGD Classifier\n",
            "************************************************************************\n",
            "RESUMO DO MODELO - CLASSIFICATION REPORT\n",
            "              precision    recall  f1-score   support\n",
            "\n",
            "           0       0.94      0.98      0.96      5653\n",
            "           1       0.97      0.94      0.96      5720\n",
            "\n",
            "    accuracy                           0.96     11373\n",
            "   macro avg       0.96      0.96      0.96     11373\n",
            "weighted avg       0.96      0.96      0.96     11373\n",
            "\n"
          ]
        }
      ],
      "source": [
        "#Salvando o SGD no dataframe\n",
        "\n",
        "salva_dataframe('SGD Classifier', y_test, y_pred_sgdc)"
      ]
    },
    {
      "cell_type": "code",
      "execution_count": null,
      "metadata": {
        "id": "ZD1ppqSOqI-2",
        "outputId": "5be78ab9-1ad5-410f-936b-036d020bc56f"
      },
      "outputs": [
        {
          "data": {
            "text/html": [
              "<div>\n",
              "<style scoped>\n",
              "    .dataframe tbody tr th:only-of-type {\n",
              "        vertical-align: middle;\n",
              "    }\n",
              "\n",
              "    .dataframe tbody tr th {\n",
              "        vertical-align: top;\n",
              "    }\n",
              "\n",
              "    .dataframe thead th {\n",
              "        text-align: right;\n",
              "    }\n",
              "</style>\n",
              "<table border=\"1\" class=\"dataframe\">\n",
              "  <thead>\n",
              "    <tr style=\"text-align: right;\">\n",
              "      <th></th>\n",
              "      <th>Modelo</th>\n",
              "      <th>Acurácia</th>\n",
              "      <th>Precisão</th>\n",
              "      <th>Recall</th>\n",
              "      <th>f1_score</th>\n",
              "    </tr>\n",
              "  </thead>\n",
              "  <tbody>\n",
              "    <tr>\n",
              "      <th>0</th>\n",
              "      <td>Regressao Logistica</td>\n",
              "      <td>0.962191</td>\n",
              "      <td>0.980909</td>\n",
              "      <td>0.943182</td>\n",
              "      <td>0.961676</td>\n",
              "    </tr>\n",
              "    <tr>\n",
              "      <th>1</th>\n",
              "      <td>DecisionTree</td>\n",
              "      <td>0.991471</td>\n",
              "      <td>0.989212</td>\n",
              "      <td>0.993881</td>\n",
              "      <td>0.991541</td>\n",
              "    </tr>\n",
              "    <tr>\n",
              "      <th>2</th>\n",
              "      <td>Random Forest</td>\n",
              "      <td>0.992350</td>\n",
              "      <td>0.993863</td>\n",
              "      <td>0.990909</td>\n",
              "      <td>0.992384</td>\n",
              "    </tr>\n",
              "    <tr>\n",
              "      <th>3</th>\n",
              "      <td>Gradient Boosting</td>\n",
              "      <td>0.978370</td>\n",
              "      <td>0.985628</td>\n",
              "      <td>0.971154</td>\n",
              "      <td>0.978337</td>\n",
              "    </tr>\n",
              "    <tr>\n",
              "      <th>4</th>\n",
              "      <td>SGD Classifier</td>\n",
              "      <td>0.958850</td>\n",
              "      <td>0.974693</td>\n",
              "      <td>0.942657</td>\n",
              "      <td>0.958407</td>\n",
              "    </tr>\n",
              "  </tbody>\n",
              "</table>\n",
              "</div>"
            ],
            "text/plain": [
              "                Modelo  Acurácia   Precisão    Recall  f1_score\n",
              "0  Regressao Logistica  0.962191   0.980909  0.943182  0.961676\n",
              "1         DecisionTree  0.991471   0.989212  0.993881  0.991541\n",
              "2        Random Forest  0.992350   0.993863  0.990909  0.992384\n",
              "3    Gradient Boosting  0.978370   0.985628  0.971154  0.978337\n",
              "4       SGD Classifier  0.958850   0.974693  0.942657  0.958407"
            ]
          },
          "execution_count": 266,
          "metadata": {},
          "output_type": "execute_result"
        }
      ],
      "source": [
        "#Printando o dataframe\n",
        "\n",
        "desempenho_modelos"
      ]
    },
    {
      "cell_type": "code",
      "execution_count": null,
      "metadata": {
        "id": "nnSmyXBhqI-2",
        "outputId": "0ddb043f-6b67-412a-ef65-e701dec94b8e"
      },
      "outputs": [
        {
          "data": {
            "image/png": "[encoded data removed]",
            "text/plain": [
              "<Figure size 432x288 with 1 Axes>"
            ]
          },
          "metadata": {
            "needs_background": "light"
          },
          "output_type": "display_data"
        }
      ],
      "source": [
        "#Plotando matriz de confusão - RL\n",
        "\n",
        "matriz = confusion_matrix(y_test, y_pred, normalize= 'true')\n",
        "sns.heatmap(matriz, square=True, annot=True, cbar=False, cmap= 'Blues')\n",
        "\n",
        "plt.title('Matriz de confusão - Regressão Logística',\n",
        "          fontsize = 12,\n",
        "          color = preto_titulo, \n",
        "          pad= 20, \n",
        "          fontweight= 'bold')\n",
        "\n",
        "plt.xlabel('Previsão do modelo',fontsize = 12, color= preto_elementos)\n",
        "plt.ylabel('Valor verdadeiro'  ,fontsize = 12, color= preto_elementos)\n",
        "\n",
        "plt.show()"
      ]
    },
    {
      "cell_type": "code",
      "execution_count": null,
      "metadata": {
        "id": "tEmjxSapqI-2",
        "outputId": "61b09a77-5842-41e7-c0d1-5928171e3008"
      },
      "outputs": [
        {
          "name": "stdout",
          "output_type": "stream",
          "text": [
            "Erro médio quadrado: 0.09235243433157232\n",
            "\n"
          ]
        },
        {
          "data": {
            "image/png": "[encoded data removed]",
            "text/plain": [
              "<Figure size 432x288 with 1 Axes>"
            ]
          },
          "metadata": {
            "needs_background": "light"
          },
          "output_type": "display_data"
        }
      ],
      "source": [
        "#Plotando matriz de confusão - DT\n",
        "\n",
        "print(\"Erro médio quadrado: {}\\n\".format(np.sqrt(mean_squared_error(y_test, y_pred_arvore))))\n",
        "matriz = confusion_matrix(y_test, y_pred_arvore, normalize= 'true')\n",
        "sns.heatmap(matriz, square=True, annot=True, cbar=False, cmap= 'Blues')\n",
        "\n",
        "plt.title('Matriz de confusão - Decision Tree',\n",
        "          fontsize = 12,\n",
        "          color = preto_titulo, \n",
        "          pad= 20, \n",
        "          fontweight= 'bold')\n",
        "plt.xlabel('Previsão do modelo',fontsize = 12, color= preto_elementos)\n",
        "plt.ylabel('Valor verdadeiro'  ,fontsize = 12, color= preto_elementos)\n",
        "\n",
        "plt.show()"
      ]
    },
    {
      "cell_type": "code",
      "execution_count": null,
      "metadata": {
        "id": "a1DVRgnnqI-3",
        "outputId": "3747a540-9974-409a-a967-2565a41ef4e0"
      },
      "outputs": [
        {
          "name": "stdout",
          "output_type": "stream",
          "text": [
            "Erro médio quadrado: 0.08746254426873502\n",
            "\n"
          ]
        },
        {
          "data": {
            "image/png": "[encoded data removed]",
            "text/plain": [
              "<Figure size 432x288 with 1 Axes>"
            ]
          },
          "metadata": {
            "needs_background": "light"
          },
          "output_type": "display_data"
        }
      ],
      "source": [
        "#Plotando matriz de confusão - RF\n",
        "\n",
        "print(\"Erro médio quadrado: {}\\n\".format(np.sqrt(mean_squared_error(y_test, y_pred_rf))))\n",
        "matriz = confusion_matrix(y_test, y_pred_rf, normalize= 'true')\n",
        "sns.heatmap(matriz, square=True, annot=True, cbar=False, cmap= 'Blues')\n",
        "\n",
        "plt.title('Matriz de confusão - Random Forest',\n",
        "          fontsize = 12,\n",
        "          color = preto_titulo, \n",
        "          pad= 20, \n",
        "          fontweight= 'bold')\n",
        "plt.xlabel('Previsão do modelo',fontsize = 12, color= preto_elementos)\n",
        "plt.ylabel('Valor verdadeiro'  ,fontsize = 12, color= preto_elementos)\n",
        "\n",
        "plt.show()"
      ]
    },
    {
      "cell_type": "code",
      "execution_count": null,
      "metadata": {
        "id": "aQw1zsQuqI-3",
        "outputId": "8db16df5-06c0-409f-83bb-ab94824108b2"
      },
      "outputs": [
        {
          "name": "stdout",
          "output_type": "stream",
          "text": [
            "Erro médio quadrado: 0.147072012070179\n",
            "\n"
          ]
        },
        {
          "data": {
            "image/png": "[encoded data removed]",
            "text/plain": [
              "<Figure size 432x288 with 1 Axes>"
            ]
          },
          "metadata": {
            "needs_background": "light"
          },
          "output_type": "display_data"
        }
      ],
      "source": [
        "#Plotando matriz de confusão - GB\n",
        "\n",
        "print(\"Erro médio quadrado: {}\\n\".format(np.sqrt(mean_squared_error(y_test, y_pred_gbc))))\n",
        "matriz = confusion_matrix(y_test, y_pred_gbc, normalize= 'true')\n",
        "sns.heatmap(matriz, square=True, annot=True, cbar=False, cmap= 'Blues')\n",
        "\n",
        "plt.title('Matriz de confusão - Gradient Boosting',\n",
        "          fontsize = 12,\n",
        "          color = preto_titulo, \n",
        "          pad= 20, \n",
        "          fontweight= 'bold')\n",
        "plt.xlabel('Previsão do modelo',fontsize = 12, color= preto_elementos)\n",
        "plt.ylabel('Valor verdadeiro'  ,fontsize = 12, color= preto_elementos)\n",
        "\n",
        "plt.show()"
      ]
    },
    {
      "cell_type": "code",
      "execution_count": null,
      "metadata": {
        "id": "SJoT1xhhqI-3",
        "outputId": "e38b0256-c99c-471d-8392-e9f1c64cc001"
      },
      "outputs": [
        {
          "name": "stdout",
          "output_type": "stream",
          "text": [
            "Erro médio quadrado: 0.202854855312672\n",
            "\n"
          ]
        },
        {
          "data": {
            "image/png": "[encoded data removed]",
            "text/plain": [
              "<Figure size 432x288 with 1 Axes>"
            ]
          },
          "metadata": {
            "needs_background": "light"
          },
          "output_type": "display_data"
        }
      ],
      "source": [
        "#Plotando matriz de confusão - SGD\n",
        "\n",
        "print(\"Erro médio quadrado: {}\\n\".format(np.sqrt(mean_squared_error(y_test, y_pred_sgdc))))\n",
        "matriz = confusion_matrix(y_test, y_pred_sgdc, normalize= 'true')\n",
        "sns.heatmap(matriz, square=True, annot=True, cbar=False, cmap= 'Blues')\n",
        "\n",
        "plt.title('Matriz de confusão - SGD Classifier',\n",
        "          fontsize = 12,\n",
        "          color = preto_titulo, \n",
        "          pad= 20, \n",
        "          fontweight= 'bold')\n",
        "plt.xlabel('Previsão do modelo',fontsize = 12, color= preto_elementos)\n",
        "plt.ylabel('Valor verdadeiro'  ,fontsize = 12, color= preto_elementos)\n",
        "\n",
        "plt.show()"
      ]
    },
    {
      "cell_type": "markdown",
      "metadata": {
        "id": "0QUKZkPBqI-3"
      },
      "source": [
        "# Resumo -  Estatísticas dos modelos"
      ]
    },
    {
      "cell_type": "markdown",
      "metadata": {
        "id": "SME4Qt3kqI-3"
      },
      "source": [
        "Primeiramente, precisarei dar um `pd.melt` no meu dataframe. No barplot da biblioteca *plotly*, cada linha do data frame é representado por um retângulo na imagem, então, irei refazer meu dataframe com apenas 3 colunas. Modelo, Métricas e Valores. Cada modelo agora terá uma linha para cada métrica com seus respectivos valores.\n"
      ]
    },
    {
      "cell_type": "code",
      "execution_count": null,
      "metadata": {
        "id": "EbFRwciYqI-4",
        "outputId": "857a6eab-01e6-4ff4-960f-11f1b2b0dcd0"
      },
      "outputs": [
        {
          "data": {
            "text/html": [
              "<div>\n",
              "<style scoped>\n",
              "    .dataframe tbody tr th:only-of-type {\n",
              "        vertical-align: middle;\n",
              "    }\n",
              "\n",
              "    .dataframe tbody tr th {\n",
              "        vertical-align: top;\n",
              "    }\n",
              "\n",
              "    .dataframe thead th {\n",
              "        text-align: right;\n",
              "    }\n",
              "</style>\n",
              "<table border=\"1\" class=\"dataframe\">\n",
              "  <thead>\n",
              "    <tr style=\"text-align: right;\">\n",
              "      <th></th>\n",
              "      <th>Modelo</th>\n",
              "      <th>Metricas</th>\n",
              "      <th>Valores</th>\n",
              "    </tr>\n",
              "  </thead>\n",
              "  <tbody>\n",
              "    <tr>\n",
              "      <th>0</th>\n",
              "      <td>Regressao Logistica</td>\n",
              "      <td>Acurácia</td>\n",
              "      <td>0.962191</td>\n",
              "    </tr>\n",
              "    <tr>\n",
              "      <th>1</th>\n",
              "      <td>DecisionTree</td>\n",
              "      <td>Acurácia</td>\n",
              "      <td>0.991471</td>\n",
              "    </tr>\n",
              "    <tr>\n",
              "      <th>2</th>\n",
              "      <td>Random Forest</td>\n",
              "      <td>Acurácia</td>\n",
              "      <td>0.992350</td>\n",
              "    </tr>\n",
              "    <tr>\n",
              "      <th>3</th>\n",
              "      <td>Gradient Boosting</td>\n",
              "      <td>Acurácia</td>\n",
              "      <td>0.978370</td>\n",
              "    </tr>\n",
              "    <tr>\n",
              "      <th>4</th>\n",
              "      <td>SGD Classifier</td>\n",
              "      <td>Acurácia</td>\n",
              "      <td>0.958850</td>\n",
              "    </tr>\n",
              "    <tr>\n",
              "      <th>5</th>\n",
              "      <td>Regressao Logistica</td>\n",
              "      <td>Precisão</td>\n",
              "      <td>0.980909</td>\n",
              "    </tr>\n",
              "    <tr>\n",
              "      <th>6</th>\n",
              "      <td>DecisionTree</td>\n",
              "      <td>Precisão</td>\n",
              "      <td>0.989212</td>\n",
              "    </tr>\n",
              "    <tr>\n",
              "      <th>7</th>\n",
              "      <td>Random Forest</td>\n",
              "      <td>Precisão</td>\n",
              "      <td>0.993863</td>\n",
              "    </tr>\n",
              "    <tr>\n",
              "      <th>8</th>\n",
              "      <td>Gradient Boosting</td>\n",
              "      <td>Precisão</td>\n",
              "      <td>0.985628</td>\n",
              "    </tr>\n",
              "    <tr>\n",
              "      <th>9</th>\n",
              "      <td>SGD Classifier</td>\n",
              "      <td>Precisão</td>\n",
              "      <td>0.974693</td>\n",
              "    </tr>\n",
              "    <tr>\n",
              "      <th>10</th>\n",
              "      <td>Regressao Logistica</td>\n",
              "      <td>Recall</td>\n",
              "      <td>0.943182</td>\n",
              "    </tr>\n",
              "    <tr>\n",
              "      <th>11</th>\n",
              "      <td>DecisionTree</td>\n",
              "      <td>Recall</td>\n",
              "      <td>0.993881</td>\n",
              "    </tr>\n",
              "    <tr>\n",
              "      <th>12</th>\n",
              "      <td>Random Forest</td>\n",
              "      <td>Recall</td>\n",
              "      <td>0.990909</td>\n",
              "    </tr>\n",
              "    <tr>\n",
              "      <th>13</th>\n",
              "      <td>Gradient Boosting</td>\n",
              "      <td>Recall</td>\n",
              "      <td>0.971154</td>\n",
              "    </tr>\n",
              "    <tr>\n",
              "      <th>14</th>\n",
              "      <td>SGD Classifier</td>\n",
              "      <td>Recall</td>\n",
              "      <td>0.942657</td>\n",
              "    </tr>\n",
              "    <tr>\n",
              "      <th>15</th>\n",
              "      <td>Regressao Logistica</td>\n",
              "      <td>f1_score</td>\n",
              "      <td>0.961676</td>\n",
              "    </tr>\n",
              "    <tr>\n",
              "      <th>16</th>\n",
              "      <td>DecisionTree</td>\n",
              "      <td>f1_score</td>\n",
              "      <td>0.991541</td>\n",
              "    </tr>\n",
              "    <tr>\n",
              "      <th>17</th>\n",
              "      <td>Random Forest</td>\n",
              "      <td>f1_score</td>\n",
              "      <td>0.992384</td>\n",
              "    </tr>\n",
              "    <tr>\n",
              "      <th>18</th>\n",
              "      <td>Gradient Boosting</td>\n",
              "      <td>f1_score</td>\n",
              "      <td>0.978337</td>\n",
              "    </tr>\n",
              "    <tr>\n",
              "      <th>19</th>\n",
              "      <td>SGD Classifier</td>\n",
              "      <td>f1_score</td>\n",
              "      <td>0.958407</td>\n",
              "    </tr>\n",
              "  </tbody>\n",
              "</table>\n",
              "</div>"
            ],
            "text/plain": [
              "                 Modelo   Metricas   Valores\n",
              "0   Regressao Logistica   Acurácia  0.962191\n",
              "1          DecisionTree   Acurácia  0.991471\n",
              "2         Random Forest   Acurácia  0.992350\n",
              "3     Gradient Boosting   Acurácia  0.978370\n",
              "4        SGD Classifier   Acurácia  0.958850\n",
              "5   Regressao Logistica   Precisão  0.980909\n",
              "6          DecisionTree   Precisão  0.989212\n",
              "7         Random Forest   Precisão  0.993863\n",
              "8     Gradient Boosting   Precisão  0.985628\n",
              "9        SGD Classifier   Precisão  0.974693\n",
              "10  Regressao Logistica     Recall  0.943182\n",
              "11         DecisionTree     Recall  0.993881\n",
              "12        Random Forest     Recall  0.990909\n",
              "13    Gradient Boosting     Recall  0.971154\n",
              "14       SGD Classifier     Recall  0.942657\n",
              "15  Regressao Logistica   f1_score  0.961676\n",
              "16         DecisionTree   f1_score  0.991541\n",
              "17        Random Forest   f1_score  0.992384\n",
              "18    Gradient Boosting   f1_score  0.978337\n",
              "19       SGD Classifier   f1_score  0.958407"
            ]
          },
          "execution_count": 272,
          "metadata": {},
          "output_type": "execute_result"
        }
      ],
      "source": [
        "desempenho_modelos = pd.melt(desempenho_modelos,id_vars=['Modelo'],var_name='Metricas', value_name='Valores')\n",
        "desempenho_modelos"
      ]
    },
    {
      "cell_type": "code",
      "execution_count": null,
      "metadata": {
        "id": "aDu2aAF1qI-4",
        "outputId": "3365daa3-e5fb-4c23-c431-ece905e06eeb"
      },
      "outputs": [
        {
          "data": {
            "application/vnd.plotly.v1+json": {
              "config": {
                "plotlyServerURL": "https://plot.ly"
              },
              "data": [
                {
                  "alignmentgroup": "True",
                  "hovertemplate": "Metricas=Acurácia<br>Modelo=%{x}<br>Valores=%{y}<extra></extra>",
                  "legendgroup": "Acurácia",
                  "marker": {
                    "color": "#636efa",
                    "pattern": {
                      "shape": ""
                    }
                  },
                  "name": "Acurácia",
                  "offsetgroup": "Acurácia",
                  "orientation": "v",
                  "showlegend": true,
                  "textposition": "auto",
                  "type": "bar",
                  "x": [
                    "Regressao Logistica",
                    "DecisionTree",
                    "Random Forest",
                    "Gradient Boosting",
                    "SGD Classifier"
                  ],
                  "xaxis": "x",
                  "y": [
                    0.9621911544887013,
                    0.9914710278730327,
                    0.9923503033500396,
                    0.9783698232656292,
                    0.9588499076760749
                  ],
                  "yaxis": "y"
                },
                {
                  "alignmentgroup": "True",
                  "hovertemplate": "Metricas= Precisão<br>Modelo=%{x}<br>Valores=%{y}<extra></extra>",
                  "legendgroup": " Precisão",
                  "marker": {
                    "color": "#EF553B",
                    "pattern": {
                      "shape": ""
                    }
                  },
                  "name": " Precisão",
                  "offsetgroup": " Precisão",
                  "orientation": "v",
                  "showlegend": true,
                  "textposition": "auto",
                  "type": "bar",
                  "x": [
                    "Regressao Logistica",
                    "DecisionTree",
                    "Random Forest",
                    "Gradient Boosting",
                    "SGD Classifier"
                  ],
                  "xaxis": "x",
                  "y": [
                    0.980909090909091,
                    0.9892117626587785,
                    0.9938628791863932,
                    0.9856281050390348,
                    0.9746926970354303
                  ],
                  "yaxis": "y"
                },
                {
                  "alignmentgroup": "True",
                  "hovertemplate": "Metricas=Recall<br>Modelo=%{x}<br>Valores=%{y}<extra></extra>",
                  "legendgroup": "Recall",
                  "marker": {
                    "color": "#00cc96",
                    "pattern": {
                      "shape": ""
                    }
                  },
                  "name": "Recall",
                  "offsetgroup": "Recall",
                  "orientation": "v",
                  "showlegend": true,
                  "textposition": "auto",
                  "type": "bar",
                  "x": [
                    "Regressao Logistica",
                    "DecisionTree",
                    "Random Forest",
                    "Gradient Boosting",
                    "SGD Classifier"
                  ],
                  "xaxis": "x",
                  "y": [
                    0.9431818181818182,
                    0.9938811188811189,
                    0.990909090909091,
                    0.9711538461538461,
                    0.9426573426573427
                  ],
                  "yaxis": "y"
                },
                {
                  "alignmentgroup": "True",
                  "hovertemplate": "Metricas=f1_score<br>Modelo=%{x}<br>Valores=%{y}<extra></extra>",
                  "legendgroup": "f1_score",
                  "marker": {
                    "color": "#ab63fa",
                    "pattern": {
                      "shape": ""
                    }
                  },
                  "name": "f1_score",
                  "offsetgroup": "f1_score",
                  "orientation": "v",
                  "showlegend": true,
                  "textposition": "auto",
                  "type": "bar",
                  "x": [
                    "Regressao Logistica",
                    "DecisionTree",
                    "Random Forest",
                    "Gradient Boosting",
                    "SGD Classifier"
                  ],
                  "xaxis": "x",
                  "y": [
                    0.9616755793226381,
                    0.9915409435772217,
                    0.9923837870962094,
                    0.9783374427615358,
                    0.9584073942410238
                  ],
                  "yaxis": "y"
                }
              ],
              "layout": {
                "autosize": true,
                "barmode": "group",
                "legend": {
                  "title": {
                    "text": "Metricas"
                  },
                  "tracegroupgap": 0
                },
                "template": {
                  "data": {
                    "bar": [
                      {
                        "error_x": {
                          "color": "#2a3f5f"
                        },
                        "error_y": {
                          "color": "#2a3f5f"
                        },
                        "marker": {
                          "line": {
                            "color": "#E5ECF6",
                            "width": 0.5
                          },
                          "pattern": {
                            "fillmode": "overlay",
                            "size": 10,
                            "solidity": 0.2
                          }
                        },
                        "type": "bar"
                      }
                    ],
                    "barpolar": [
                      {
                        "marker": {
                          "line": {
                            "color": "#E5ECF6",
                            "width": 0.5
                          },
                          "pattern": {
                            "fillmode": "overlay",
                            "size": 10,
                            "solidity": 0.2
                          }
                        },
                        "type": "barpolar"
                      }
                    ],
                    "carpet": [
                      {
                        "aaxis": {
                          "endlinecolor": "#2a3f5f",
                          "gridcolor": "white",
                          "linecolor": "white",
                          "minorgridcolor": "white",
                          "startlinecolor": "#2a3f5f"
                        },
                        "baxis": {
                          "endlinecolor": "#2a3f5f",
                          "gridcolor": "white",
                          "linecolor": "white",
                          "minorgridcolor": "white",
                          "startlinecolor": "#2a3f5f"
                        },
                        "type": "carpet"
                      }
                    ],
                    "choropleth": [
                      {
                        "colorbar": {
                          "outlinewidth": 0,
                          "ticks": ""
                        },
                        "type": "choropleth"
                      }
                    ],
                    "contour": [
                      {
                        "colorbar": {
                          "outlinewidth": 0,
                          "ticks": ""
                        },
                        "colorscale": [
                          [
                            0,
                            "#0d0887"
                          ],
                          [
                            0.1111111111111111,
                            "#46039f"
                          ],
                          [
                            0.2222222222222222,
                            "#7201a8"
                          ],
                          [
                            0.3333333333333333,
                            "#9c179e"
                          ],
                          [
                            0.4444444444444444,
                            "#bd3786"
                          ],
                          [
                            0.5555555555555556,
                            "#d8576b"
                          ],
                          [
                            0.6666666666666666,
                            "#ed7953"
                          ],
                          [
                            0.7777777777777778,
                            "#fb9f3a"
                          ],
                          [
                            0.8888888888888888,
                            "#fdca26"
                          ],
                          [
                            1,
                            "#f0f921"
                          ]
                        ],
                        "type": "contour"
                      }
                    ],
                    "contourcarpet": [
                      {
                        "colorbar": {
                          "outlinewidth": 0,
                          "ticks": ""
                        },
                        "type": "contourcarpet"
                      }
                    ],
                    "heatmap": [
                      {
                        "colorbar": {
                          "outlinewidth": 0,
                          "ticks": ""
                        },
                        "colorscale": [
                          [
                            0,
                            "#0d0887"
                          ],
                          [
                            0.1111111111111111,
                            "#46039f"
                          ],
                          [
                            0.2222222222222222,
                            "#7201a8"
                          ],
                          [
                            0.3333333333333333,
                            "#9c179e"
                          ],
                          [
                            0.4444444444444444,
                            "#bd3786"
                          ],
                          [
                            0.5555555555555556,
                            "#d8576b"
                          ],
                          [
                            0.6666666666666666,
                            "#ed7953"
                          ],
                          [
                            0.7777777777777778,
                            "#fb9f3a"
                          ],
                          [
                            0.8888888888888888,
                            "#fdca26"
                          ],
                          [
                            1,
                            "#f0f921"
                          ]
                        ],
                        "type": "heatmap"
                      }
                    ],
                    "heatmapgl": [
                      {
                        "colorbar": {
                          "outlinewidth": 0,
                          "ticks": ""
                        },
                        "colorscale": [
                          [
                            0,
                            "#0d0887"
                          ],
                          [
                            0.1111111111111111,
                            "#46039f"
                          ],
                          [
                            0.2222222222222222,
                            "#7201a8"
                          ],
                          [
                            0.3333333333333333,
                            "#9c179e"
                          ],
                          [
                            0.4444444444444444,
                            "#bd3786"
                          ],
                          [
                            0.5555555555555556,
                            "#d8576b"
                          ],
                          [
                            0.6666666666666666,
                            "#ed7953"
                          ],
                          [
                            0.7777777777777778,
                            "#fb9f3a"
                          ],
                          [
                            0.8888888888888888,
                            "#fdca26"
                          ],
                          [
                            1,
                            "#f0f921"
                          ]
                        ],
                        "type": "heatmapgl"
                      }
                    ],
                    "histogram": [
                      {
                        "marker": {
                          "pattern": {
                            "fillmode": "overlay",
                            "size": 10,
                            "solidity": 0.2
                          }
                        },
                        "type": "histogram"
                      }
                    ],
                    "histogram2d": [
                      {
                        "colorbar": {
                          "outlinewidth": 0,
                          "ticks": ""
                        },
                        "colorscale": [
                          [
                            0,
                            "#0d0887"
                          ],
                          [
                            0.1111111111111111,
                            "#46039f"
                          ],
                          [
                            0.2222222222222222,
                            "#7201a8"
                          ],
                          [
                            0.3333333333333333,
                            "#9c179e"
                          ],
                          [
                            0.4444444444444444,
                            "#bd3786"
                          ],
                          [
                            0.5555555555555556,
                            "#d8576b"
                          ],
                          [
                            0.6666666666666666,
                            "#ed7953"
                          ],
                          [
                            0.7777777777777778,
                            "#fb9f3a"
                          ],
                          [
                            0.8888888888888888,
                            "#fdca26"
                          ],
                          [
                            1,
                            "#f0f921"
                          ]
                        ],
                        "type": "histogram2d"
                      }
                    ],
                    "histogram2dcontour": [
                      {
                        "colorbar": {
                          "outlinewidth": 0,
                          "ticks": ""
                        },
                        "colorscale": [
                          [
                            0,
                            "#0d0887"
                          ],
                          [
                            0.1111111111111111,
                            "#46039f"
                          ],
                          [
                            0.2222222222222222,
                            "#7201a8"
                          ],
                          [
                            0.3333333333333333,
                            "#9c179e"
                          ],
                          [
                            0.4444444444444444,
                            "#bd3786"
                          ],
                          [
                            0.5555555555555556,
                            "#d8576b"
                          ],
                          [
                            0.6666666666666666,
                            "#ed7953"
                          ],
                          [
                            0.7777777777777778,
                            "#fb9f3a"
                          ],
                          [
                            0.8888888888888888,
                            "#fdca26"
                          ],
                          [
                            1,
                            "#f0f921"
                          ]
                        ],
                        "type": "histogram2dcontour"
                      }
                    ],
                    "mesh3d": [
                      {
                        "colorbar": {
                          "outlinewidth": 0,
                          "ticks": ""
                        },
                        "type": "mesh3d"
                      }
                    ],
                    "parcoords": [
                      {
                        "line": {
                          "colorbar": {
                            "outlinewidth": 0,
                            "ticks": ""
                          }
                        },
                        "type": "parcoords"
                      }
                    ],
                    "pie": [
                      {
                        "automargin": true,
                        "type": "pie"
                      }
                    ],
                    "scatter": [
                      {
                        "marker": {
                          "colorbar": {
                            "outlinewidth": 0,
                            "ticks": ""
                          }
                        },
                        "type": "scatter"
                      }
                    ],
                    "scatter3d": [
                      {
                        "line": {
                          "colorbar": {
                            "outlinewidth": 0,
                            "ticks": ""
                          }
                        },
                        "marker": {
                          "colorbar": {
                            "outlinewidth": 0,
                            "ticks": ""
                          }
                        },
                        "type": "scatter3d"
                      }
                    ],
                    "scattercarpet": [
                      {
                        "marker": {
                          "colorbar": {
                            "outlinewidth": 0,
                            "ticks": ""
                          }
                        },
                        "type": "scattercarpet"
                      }
                    ],
                    "scattergeo": [
                      {
                        "marker": {
                          "colorbar": {
                            "outlinewidth": 0,
                            "ticks": ""
                          }
                        },
                        "type": "scattergeo"
                      }
                    ],
                    "scattergl": [
                      {
                        "marker": {
                          "colorbar": {
                            "outlinewidth": 0,
                            "ticks": ""
                          }
                        },
                        "type": "scattergl"
                      }
                    ],
                    "scattermapbox": [
                      {
                        "marker": {
                          "colorbar": {
                            "outlinewidth": 0,
                            "ticks": ""
                          }
                        },
                        "type": "scattermapbox"
                      }
                    ],
                    "scatterpolar": [
                      {
                        "marker": {
                          "colorbar": {
                            "outlinewidth": 0,
                            "ticks": ""
                          }
                        },
                        "type": "scatterpolar"
                      }
                    ],
                    "scatterpolargl": [
                      {
                        "marker": {
                          "colorbar": {
                            "outlinewidth": 0,
                            "ticks": ""
                          }
                        },
                        "type": "scatterpolargl"
                      }
                    ],
                    "scatterternary": [
                      {
                        "marker": {
                          "colorbar": {
                            "outlinewidth": 0,
                            "ticks": ""
                          }
                        },
                        "type": "scatterternary"
                      }
                    ],
                    "surface": [
                      {
                        "colorbar": {
                          "outlinewidth": 0,
                          "ticks": ""
                        },
                        "colorscale": [
                          [
                            0,
                            "#0d0887"
                          ],
                          [
                            0.1111111111111111,
                            "#46039f"
                          ],
                          [
                            0.2222222222222222,
                            "#7201a8"
                          ],
                          [
                            0.3333333333333333,
                            "#9c179e"
                          ],
                          [
                            0.4444444444444444,
                            "#bd3786"
                          ],
                          [
                            0.5555555555555556,
                            "#d8576b"
                          ],
                          [
                            0.6666666666666666,
                            "#ed7953"
                          ],
                          [
                            0.7777777777777778,
                            "#fb9f3a"
                          ],
                          [
                            0.8888888888888888,
                            "#fdca26"
                          ],
                          [
                            1,
                            "#f0f921"
                          ]
                        ],
                        "type": "surface"
                      }
                    ],
                    "table": [
                      {
                        "cells": {
                          "fill": {
                            "color": "#EBF0F8"
                          },
                          "line": {
                            "color": "white"
                          }
                        },
                        "header": {
                          "fill": {
                            "color": "#C8D4E3"
                          },
                          "line": {
                            "color": "white"
                          }
                        },
                        "type": "table"
                      }
                    ]
                  },
                  "layout": {
                    "annotationdefaults": {
                      "arrowcolor": "#2a3f5f",
                      "arrowhead": 0,
                      "arrowwidth": 1
                    },
                    "autotypenumbers": "strict",
                    "coloraxis": {
                      "colorbar": {
                        "outlinewidth": 0,
                        "ticks": ""
                      }
                    },
                    "colorscale": {
                      "diverging": [
                        [
                          0,
                          "#8e0152"
                        ],
                        [
                          0.1,
                          "#c51b7d"
                        ],
                        [
                          0.2,
                          "#de77ae"
                        ],
                        [
                          0.3,
                          "#f1b6da"
                        ],
                        [
                          0.4,
                          "#fde0ef"
                        ],
                        [
                          0.5,
                          "#f7f7f7"
                        ],
                        [
                          0.6,
                          "#e6f5d0"
                        ],
                        [
                          0.7,
                          "#b8e186"
                        ],
                        [
                          0.8,
                          "#7fbc41"
                        ],
                        [
                          0.9,
                          "#4d9221"
                        ],
                        [
                          1,
                          "#276419"
                        ]
                      ],
                      "sequential": [
                        [
                          0,
                          "#0d0887"
                        ],
                        [
                          0.1111111111111111,
                          "#46039f"
                        ],
                        [
                          0.2222222222222222,
                          "#7201a8"
                        ],
                        [
                          0.3333333333333333,
                          "#9c179e"
                        ],
                        [
                          0.4444444444444444,
                          "#bd3786"
                        ],
                        [
                          0.5555555555555556,
                          "#d8576b"
                        ],
                        [
                          0.6666666666666666,
                          "#ed7953"
                        ],
                        [
                          0.7777777777777778,
                          "#fb9f3a"
                        ],
                        [
                          0.8888888888888888,
                          "#fdca26"
                        ],
                        [
                          1,
                          "#f0f921"
                        ]
                      ],
                      "sequentialminus": [
                        [
                          0,
                          "#0d0887"
                        ],
                        [
                          0.1111111111111111,
                          "#46039f"
                        ],
                        [
                          0.2222222222222222,
                          "#7201a8"
                        ],
                        [
                          0.3333333333333333,
                          "#9c179e"
                        ],
                        [
                          0.4444444444444444,
                          "#bd3786"
                        ],
                        [
                          0.5555555555555556,
                          "#d8576b"
                        ],
                        [
                          0.6666666666666666,
                          "#ed7953"
                        ],
                        [
                          0.7777777777777778,
                          "#fb9f3a"
                        ],
                        [
                          0.8888888888888888,
                          "#fdca26"
                        ],
                        [
                          1,
                          "#f0f921"
                        ]
                      ]
                    },
                    "colorway": [
                      "#636efa",
                      "#EF553B",
                      "#00cc96",
                      "#ab63fa",
                      "#FFA15A",
                      "#19d3f3",
                      "#FF6692",
                      "#B6E880",
                      "#FF97FF",
                      "#FECB52"
                    ],
                    "font": {
                      "color": "#2a3f5f"
                    },
                    "geo": {
                      "bgcolor": "white",
                      "lakecolor": "white",
                      "landcolor": "#E5ECF6",
                      "showlakes": true,
                      "showland": true,
                      "subunitcolor": "white"
                    },
                    "hoverlabel": {
                      "align": "left"
                    },
                    "hovermode": "closest",
                    "mapbox": {
                      "style": "light"
                    },
                    "paper_bgcolor": "white",
                    "plot_bgcolor": "#E5ECF6",
                    "polar": {
                      "angularaxis": {
                        "gridcolor": "white",
                        "linecolor": "white",
                        "ticks": ""
                      },
                      "bgcolor": "#E5ECF6",
                      "radialaxis": {
                        "gridcolor": "white",
                        "linecolor": "white",
                        "ticks": ""
                      }
                    },
                    "scene": {
                      "xaxis": {
                        "backgroundcolor": "#E5ECF6",
                        "gridcolor": "white",
                        "gridwidth": 2,
                        "linecolor": "white",
                        "showbackground": true,
                        "ticks": "",
                        "zerolinecolor": "white"
                      },
                      "yaxis": {
                        "backgroundcolor": "#E5ECF6",
                        "gridcolor": "white",
                        "gridwidth": 2,
                        "linecolor": "white",
                        "showbackground": true,
                        "ticks": "",
                        "zerolinecolor": "white"
                      },
                      "zaxis": {
                        "backgroundcolor": "#E5ECF6",
                        "gridcolor": "white",
                        "gridwidth": 2,
                        "linecolor": "white",
                        "showbackground": true,
                        "ticks": "",
                        "zerolinecolor": "white"
                      }
                    },
                    "shapedefaults": {
                      "line": {
                        "color": "#2a3f5f"
                      }
                    },
                    "ternary": {
                      "aaxis": {
                        "gridcolor": "white",
                        "linecolor": "white",
                        "ticks": ""
                      },
                      "baxis": {
                        "gridcolor": "white",
                        "linecolor": "white",
                        "ticks": ""
                      },
                      "bgcolor": "#E5ECF6",
                      "caxis": {
                        "gridcolor": "white",
                        "linecolor": "white",
                        "ticks": ""
                      }
                    },
                    "title": {
                      "x": 0.05
                    },
                    "xaxis": {
                      "automargin": true,
                      "gridcolor": "white",
                      "linecolor": "white",
                      "ticks": "",
                      "title": {
                        "standoff": 15
                      },
                      "zerolinecolor": "white",
                      "zerolinewidth": 2
                    },
                    "yaxis": {
                      "automargin": true,
                      "gridcolor": "white",
                      "linecolor": "white",
                      "ticks": "",
                      "title": {
                        "standoff": 15
                      },
                      "zerolinecolor": "white",
                      "zerolinewidth": 2
                    }
                  }
                },
                "title": {
                  "text": "Resumo das estatísticas dos modelos"
                },
                "xaxis": {
                  "anchor": "y",
                  "autorange": true,
                  "domain": [
                    0,
                    1
                  ],
                  "range": [
                    -0.5,
                    4.5
                  ],
                  "title": {
                    "text": "Modelo"
                  },
                  "type": "category"
                },
                "yaxis": {
                  "anchor": "x",
                  "autorange": true,
                  "domain": [
                    0,
                    1
                  ],
                  "range": [
                    0,
                    1.0461906514538093
                  ],
                  "title": {
                    "text": "Valores"
                  },
                  "type": "linear"
                }
              }
            },
            "image/png": "[encoded data removed]",
            "text/html": [
              "<div>                            <div id=\"08570f62-6cab-40c9-a73f-ef382a6f6218\" class=\"plotly-graph-div\" style=\"height:525px; width:100%;\"></div>            <script type=\"text/javascript\">                require([\"plotly\"], function(Plotly) {                    window.PLOTLYENV=window.PLOTLYENV || {};                                    if (document.getElementById(\"08570f62-6cab-40c9-a73f-ef382a6f6218\")) {                    Plotly.newPlot(                        \"08570f62-6cab-40c9-a73f-ef382a6f6218\",                        [{\"alignmentgroup\":\"True\",\"hovertemplate\":\"Metricas=Acur\\u00e1cia<br>Modelo=%{x}<br>Valores=%{y}<extra></extra>\",\"legendgroup\":\"Acur\\u00e1cia\",\"marker\":{\"color\":\"#636efa\",\"pattern\":{\"shape\":\"\"}},\"name\":\"Acur\\u00e1cia\",\"offsetgroup\":\"Acur\\u00e1cia\",\"orientation\":\"v\",\"showlegend\":true,\"textposition\":\"auto\",\"type\":\"bar\",\"x\":[\"Regressao Logistica\",\"DecisionTree\",\"Random Forest\",\"Gradient Boosting\",\"SGD Classifier\"],\"xaxis\":\"x\",\"y\":[0.9621911544887013,0.9914710278730327,0.9923503033500396,0.9783698232656292,0.9588499076760749],\"yaxis\":\"y\"},{\"alignmentgroup\":\"True\",\"hovertemplate\":\"Metricas= Precis\\u00e3o<br>Modelo=%{x}<br>Valores=%{y}<extra></extra>\",\"legendgroup\":\" Precis\\u00e3o\",\"marker\":{\"color\":\"#EF553B\",\"pattern\":{\"shape\":\"\"}},\"name\":\" Precis\\u00e3o\",\"offsetgroup\":\" Precis\\u00e3o\",\"orientation\":\"v\",\"showlegend\":true,\"textposition\":\"auto\",\"type\":\"bar\",\"x\":[\"Regressao Logistica\",\"DecisionTree\",\"Random Forest\",\"Gradient Boosting\",\"SGD Classifier\"],\"xaxis\":\"x\",\"y\":[0.980909090909091,0.9892117626587785,0.9938628791863932,0.9856281050390348,0.9746926970354303],\"yaxis\":\"y\"},{\"alignmentgroup\":\"True\",\"hovertemplate\":\"Metricas=Recall<br>Modelo=%{x}<br>Valores=%{y}<extra></extra>\",\"legendgroup\":\"Recall\",\"marker\":{\"color\":\"#00cc96\",\"pattern\":{\"shape\":\"\"}},\"name\":\"Recall\",\"offsetgroup\":\"Recall\",\"orientation\":\"v\",\"showlegend\":true,\"textposition\":\"auto\",\"type\":\"bar\",\"x\":[\"Regressao Logistica\",\"DecisionTree\",\"Random Forest\",\"Gradient Boosting\",\"SGD Classifier\"],\"xaxis\":\"x\",\"y\":[0.9431818181818182,0.9938811188811189,0.990909090909091,0.9711538461538461,0.9426573426573427],\"yaxis\":\"y\"},{\"alignmentgroup\":\"True\",\"hovertemplate\":\"Metricas=f1_score<br>Modelo=%{x}<br>Valores=%{y}<extra></extra>\",\"legendgroup\":\"f1_score\",\"marker\":{\"color\":\"#ab63fa\",\"pattern\":{\"shape\":\"\"}},\"name\":\"f1_score\",\"offsetgroup\":\"f1_score\",\"orientation\":\"v\",\"showlegend\":true,\"textposition\":\"auto\",\"type\":\"bar\",\"x\":[\"Regressao Logistica\",\"DecisionTree\",\"Random Forest\",\"Gradient Boosting\",\"SGD Classifier\"],\"xaxis\":\"x\",\"y\":[0.9616755793226381,0.9915409435772217,0.9923837870962094,0.9783374427615358,0.9584073942410238],\"yaxis\":\"y\"}],                        {\"barmode\":\"group\",\"legend\":{\"title\":{\"text\":\"Metricas\"},\"tracegroupgap\":0},\"template\":{\"data\":{\"bar\":[{\"error_x\":{\"color\":\"#2a3f5f\"},\"error_y\":{\"color\":\"#2a3f5f\"},\"marker\":{\"line\":{\"color\":\"#E5ECF6\",\"width\":0.5},\"pattern\":{\"fillmode\":\"overlay\",\"size\":10,\"solidity\":0.2}},\"type\":\"bar\"}],\"barpolar\":[{\"marker\":{\"line\":{\"color\":\"#E5ECF6\",\"width\":0.5},\"pattern\":{\"fillmode\":\"overlay\",\"size\":10,\"solidity\":0.2}},\"type\":\"barpolar\"}],\"carpet\":[{\"aaxis\":{\"endlinecolor\":\"#2a3f5f\",\"gridcolor\":\"white\",\"linecolor\":\"white\",\"minorgridcolor\":\"white\",\"startlinecolor\":\"#2a3f5f\"},\"baxis\":{\"endlinecolor\":\"#2a3f5f\",\"gridcolor\":\"white\",\"linecolor\":\"white\",\"minorgridcolor\":\"white\",\"startlinecolor\":\"#2a3f5f\"},\"type\":\"carpet\"}],\"choropleth\":[{\"colorbar\":{\"outlinewidth\":0,\"ticks\":\"\"},\"type\":\"choropleth\"}],\"contour\":[{\"colorbar\":{\"outlinewidth\":0,\"ticks\":\"\"},\"colorscale\":[[0.0,\"#0d0887\"],[0.1111111111111111,\"#46039f\"],[0.2222222222222222,\"#7201a8\"],[0.3333333333333333,\"#9c179e\"],[0.4444444444444444,\"#bd3786\"],[0.5555555555555556,\"#d8576b\"],[0.6666666666666666,\"#ed7953\"],[0.7777777777777778,\"#fb9f3a\"],[0.8888888888888888,\"#fdca26\"],[1.0,\"#f0f921\"]],\"type\":\"contour\"}],\"contourcarpet\":[{\"colorbar\":{\"outlinewidth\":0,\"ticks\":\"\"},\"type\":\"contourcarpet\"}],\"heatmap\":[{\"colorbar\":{\"outlinewidth\":0,\"ticks\":\"\"},\"colorscale\":[[0.0,\"#0d0887\"],[0.1111111111111111,\"#46039f\"],[0.2222222222222222,\"#7201a8\"],[0.3333333333333333,\"#9c179e\"],[0.4444444444444444,\"#bd3786\"],[0.5555555555555556,\"#d8576b\"],[0.6666666666666666,\"#ed7953\"],[0.7777777777777778,\"#fb9f3a\"],[0.8888888888888888,\"#fdca26\"],[1.0,\"#f0f921\"]],\"type\":\"heatmap\"}],\"heatmapgl\":[{\"colorbar\":{\"outlinewidth\":0,\"ticks\":\"\"},\"colorscale\":[[0.0,\"#0d0887\"],[0.1111111111111111,\"#46039f\"],[0.2222222222222222,\"#7201a8\"],[0.3333333333333333,\"#9c179e\"],[0.4444444444444444,\"#bd3786\"],[0.5555555555555556,\"#d8576b\"],[0.6666666666666666,\"#ed7953\"],[0.7777777777777778,\"#fb9f3a\"],[0.8888888888888888,\"#fdca26\"],[1.0,\"#f0f921\"]],\"type\":\"heatmapgl\"}],\"histogram\":[{\"marker\":{\"pattern\":{\"fillmode\":\"overlay\",\"size\":10,\"solidity\":0.2}},\"type\":\"histogram\"}],\"histogram2d\":[{\"colorbar\":{\"outlinewidth\":0,\"ticks\":\"\"},\"colorscale\":[[0.0,\"#0d0887\"],[0.1111111111111111,\"#46039f\"],[0.2222222222222222,\"#7201a8\"],[0.3333333333333333,\"#9c179e\"],[0.4444444444444444,\"#bd3786\"],[0.5555555555555556,\"#d8576b\"],[0.6666666666666666,\"#ed7953\"],[0.7777777777777778,\"#fb9f3a\"],[0.8888888888888888,\"#fdca26\"],[1.0,\"#f0f921\"]],\"type\":\"histogram2d\"}],\"histogram2dcontour\":[{\"colorbar\":{\"outlinewidth\":0,\"ticks\":\"\"},\"colorscale\":[[0.0,\"#0d0887\"],[0.1111111111111111,\"#46039f\"],[0.2222222222222222,\"#7201a8\"],[0.3333333333333333,\"#9c179e\"],[0.4444444444444444,\"#bd3786\"],[0.5555555555555556,\"#d8576b\"],[0.6666666666666666,\"#ed7953\"],[0.7777777777777778,\"#fb9f3a\"],[0.8888888888888888,\"#fdca26\"],[1.0,\"#f0f921\"]],\"type\":\"histogram2dcontour\"}],\"mesh3d\":[{\"colorbar\":{\"outlinewidth\":0,\"ticks\":\"\"},\"type\":\"mesh3d\"}],\"parcoords\":[{\"line\":{\"colorbar\":{\"outlinewidth\":0,\"ticks\":\"\"}},\"type\":\"parcoords\"}],\"pie\":[{\"automargin\":true,\"type\":\"pie\"}],\"scatter\":[{\"marker\":{\"colorbar\":{\"outlinewidth\":0,\"ticks\":\"\"}},\"type\":\"scatter\"}],\"scatter3d\":[{\"line\":{\"colorbar\":{\"outlinewidth\":0,\"ticks\":\"\"}},\"marker\":{\"colorbar\":{\"outlinewidth\":0,\"ticks\":\"\"}},\"type\":\"scatter3d\"}],\"scattercarpet\":[{\"marker\":{\"colorbar\":{\"outlinewidth\":0,\"ticks\":\"\"}},\"type\":\"scattercarpet\"}],\"scattergeo\":[{\"marker\":{\"colorbar\":{\"outlinewidth\":0,\"ticks\":\"\"}},\"type\":\"scattergeo\"}],\"scattergl\":[{\"marker\":{\"colorbar\":{\"outlinewidth\":0,\"ticks\":\"\"}},\"type\":\"scattergl\"}],\"scattermapbox\":[{\"marker\":{\"colorbar\":{\"outlinewidth\":0,\"ticks\":\"\"}},\"type\":\"scattermapbox\"}],\"scatterpolar\":[{\"marker\":{\"colorbar\":{\"outlinewidth\":0,\"ticks\":\"\"}},\"type\":\"scatterpolar\"}],\"scatterpolargl\":[{\"marker\":{\"colorbar\":{\"outlinewidth\":0,\"ticks\":\"\"}},\"type\":\"scatterpolargl\"}],\"scatterternary\":[{\"marker\":{\"colorbar\":{\"outlinewidth\":0,\"ticks\":\"\"}},\"type\":\"scatterternary\"}],\"surface\":[{\"colorbar\":{\"outlinewidth\":0,\"ticks\":\"\"},\"colorscale\":[[0.0,\"#0d0887\"],[0.1111111111111111,\"#46039f\"],[0.2222222222222222,\"#7201a8\"],[0.3333333333333333,\"#9c179e\"],[0.4444444444444444,\"#bd3786\"],[0.5555555555555556,\"#d8576b\"],[0.6666666666666666,\"#ed7953\"],[0.7777777777777778,\"#fb9f3a\"],[0.8888888888888888,\"#fdca26\"],[1.0,\"#f0f921\"]],\"type\":\"surface\"}],\"table\":[{\"cells\":{\"fill\":{\"color\":\"#EBF0F8\"},\"line\":{\"color\":\"white\"}},\"header\":{\"fill\":{\"color\":\"#C8D4E3\"},\"line\":{\"color\":\"white\"}},\"type\":\"table\"}]},\"layout\":{\"annotationdefaults\":{\"arrowcolor\":\"#2a3f5f\",\"arrowhead\":0,\"arrowwidth\":1},\"autotypenumbers\":\"strict\",\"coloraxis\":{\"colorbar\":{\"outlinewidth\":0,\"ticks\":\"\"}},\"colorscale\":{\"diverging\":[[0,\"#8e0152\"],[0.1,\"#c51b7d\"],[0.2,\"#de77ae\"],[0.3,\"#f1b6da\"],[0.4,\"#fde0ef\"],[0.5,\"#f7f7f7\"],[0.6,\"#e6f5d0\"],[0.7,\"#b8e186\"],[0.8,\"#7fbc41\"],[0.9,\"#4d9221\"],[1,\"#276419\"]],\"sequential\":[[0.0,\"#0d0887\"],[0.1111111111111111,\"#46039f\"],[0.2222222222222222,\"#7201a8\"],[0.3333333333333333,\"#9c179e\"],[0.4444444444444444,\"#bd3786\"],[0.5555555555555556,\"#d8576b\"],[0.6666666666666666,\"#ed7953\"],[0.7777777777777778,\"#fb9f3a\"],[0.8888888888888888,\"#fdca26\"],[1.0,\"#f0f921\"]],\"sequentialminus\":[[0.0,\"#0d0887\"],[0.1111111111111111,\"#46039f\"],[0.2222222222222222,\"#7201a8\"],[0.3333333333333333,\"#9c179e\"],[0.4444444444444444,\"#bd3786\"],[0.5555555555555556,\"#d8576b\"],[0.6666666666666666,\"#ed7953\"],[0.7777777777777778,\"#fb9f3a\"],[0.8888888888888888,\"#fdca26\"],[1.0,\"#f0f921\"]]},\"colorway\":[\"#636efa\",\"#EF553B\",\"#00cc96\",\"#ab63fa\",\"#FFA15A\",\"#19d3f3\",\"#FF6692\",\"#B6E880\",\"#FF97FF\",\"#FECB52\"],\"font\":{\"color\":\"#2a3f5f\"},\"geo\":{\"bgcolor\":\"white\",\"lakecolor\":\"white\",\"landcolor\":\"#E5ECF6\",\"showlakes\":true,\"showland\":true,\"subunitcolor\":\"white\"},\"hoverlabel\":{\"align\":\"left\"},\"hovermode\":\"closest\",\"mapbox\":{\"style\":\"light\"},\"paper_bgcolor\":\"white\",\"plot_bgcolor\":\"#E5ECF6\",\"polar\":{\"angularaxis\":{\"gridcolor\":\"white\",\"linecolor\":\"white\",\"ticks\":\"\"},\"bgcolor\":\"#E5ECF6\",\"radialaxis\":{\"gridcolor\":\"white\",\"linecolor\":\"white\",\"ticks\":\"\"}},\"scene\":{\"xaxis\":{\"backgroundcolor\":\"#E5ECF6\",\"gridcolor\":\"white\",\"gridwidth\":2,\"linecolor\":\"white\",\"showbackground\":true,\"ticks\":\"\",\"zerolinecolor\":\"white\"},\"yaxis\":{\"backgroundcolor\":\"#E5ECF6\",\"gridcolor\":\"white\",\"gridwidth\":2,\"linecolor\":\"white\",\"showbackground\":true,\"ticks\":\"\",\"zerolinecolor\":\"white\"},\"zaxis\":{\"backgroundcolor\":\"#E5ECF6\",\"gridcolor\":\"white\",\"gridwidth\":2,\"linecolor\":\"white\",\"showbackground\":true,\"ticks\":\"\",\"zerolinecolor\":\"white\"}},\"shapedefaults\":{\"line\":{\"color\":\"#2a3f5f\"}},\"ternary\":{\"aaxis\":{\"gridcolor\":\"white\",\"linecolor\":\"white\",\"ticks\":\"\"},\"baxis\":{\"gridcolor\":\"white\",\"linecolor\":\"white\",\"ticks\":\"\"},\"bgcolor\":\"#E5ECF6\",\"caxis\":{\"gridcolor\":\"white\",\"linecolor\":\"white\",\"ticks\":\"\"}},\"title\":{\"x\":0.05},\"xaxis\":{\"automargin\":true,\"gridcolor\":\"white\",\"linecolor\":\"white\",\"ticks\":\"\",\"title\":{\"standoff\":15},\"zerolinecolor\":\"white\",\"zerolinewidth\":2},\"yaxis\":{\"automargin\":true,\"gridcolor\":\"white\",\"linecolor\":\"white\",\"ticks\":\"\",\"title\":{\"standoff\":15},\"zerolinecolor\":\"white\",\"zerolinewidth\":2}}},\"title\":{\"text\":\"Resumo das estat\\u00edsticas dos modelos\"},\"xaxis\":{\"anchor\":\"y\",\"domain\":[0.0,1.0],\"title\":{\"text\":\"Modelo\"}},\"yaxis\":{\"anchor\":\"x\",\"domain\":[0.0,1.0],\"title\":{\"text\":\"Valores\"}}},                        {\"responsive\": true}                    ).then(function(){\n",
              "                            \n",
              "var gd = document.getElementById('08570f62-6cab-40c9-a73f-ef382a6f6218');\n",
              "var x = new MutationObserver(function (mutations, observer) {{\n",
              "        var display = window.getComputedStyle(gd).display;\n",
              "        if (!display || display === 'none') {{\n",
              "            console.log([gd, 'removed!']);\n",
              "            Plotly.purge(gd);\n",
              "            observer.disconnect();\n",
              "        }}\n",
              "}});\n",
              "\n",
              "// Listen for the removal of the full notebook cells\n",
              "var notebookContainer = gd.closest('#notebook-container');\n",
              "if (notebookContainer) {{\n",
              "    x.observe(notebookContainer, {childList: true});\n",
              "}}\n",
              "\n",
              "// Listen for the clearing of the current output cell\n",
              "var outputEl = gd.closest('.output');\n",
              "if (outputEl) {{\n",
              "    x.observe(outputEl, {childList: true});\n",
              "}}\n",
              "\n",
              "                        })                };                });            </script>        </div>"
            ]
          },
          "metadata": {},
          "output_type": "display_data"
        }
      ],
      "source": [
        "fig = px.bar(desempenho_modelos, \n",
        "             x=\"Modelo\", \n",
        "             y='Valores',\n",
        "             title=\"Resumo das estatísticas dos modelos\",\n",
        "             barmode='group',\n",
        "             color=\"Metricas\"\n",
        "            )\n",
        "\n",
        "fig.show()"
      ]
    },
    {
      "cell_type": "markdown",
      "metadata": {
        "id": "0Bj7zRZMSfO7"
      },
      "source": [
        "## Conclusão\n",
        "---\n",
        "\n",
        "Todos os modelos tiveram resultados satisfatórios, porém a *DesicionTree* e a *Random Forest* se sairam um pouco melhor ao observarmos as métricas do gráfico acima e do classification report. \n",
        "\n",
        "\n",
        "\n",
        "Um outro fator a ser considerado é a quantidade de falsos positivos, ou seja, aquelas vezes em que você tentou fazer uma compra e teve seu cartão bloqueado preventivamente. Neste cenário, seria mais interessante focar em acertar mais as transações fraudulentas do que as não-fraudulentas, em outras palavras, melhor um falso positivo em uma transação normal ser fraude do que uma transação fraudulenta ser considerada como normal.\n"
      ]
    }
  ],
  "metadata": {
    "colab": {
      "name": "Detecção de Fraude em Cartões de Crédito.ipynb",
      "provenance": [],
      "include_colab_link": true
    },
    "kernelspec": {
      "display_name": "Python 3 (ipykernel)",
      "language": "python",
      "name": "python3"
    },
    "language_info": {
      "codemirror_mode": {
        "name": "ipython",
        "version": 3
      },
      "file_extension": ".py",
      "mimetype": "text/x-python",
      "name": "python",
      "nbconvert_exporter": "python",
      "pygments_lexer": "ipython3",
      "version": "3.8.5"
    }
  },
  "nbformat": 4,
  "nbformat_minor": 0
}